{
 "cells": [
  {
   "cell_type": "code",
   "execution_count": 2,
   "id": "56f056b3",
   "metadata": {},
   "outputs": [],
   "source": [
    "import numpy as np\n",
    "import matplotlib.pyplot as plt\n",
    "from sklearn.datasets import make_blobs\n",
    "import pandas as pd\n",
    "%matplotlib inline\n"
   ]
  },
  {
   "cell_type": "code",
   "execution_count": 3,
   "id": "b9365a93",
   "metadata": {},
   "outputs": [],
   "source": [
    "x,y = make_blobs(n_samples = 1000, centers = 3, n_features = 2)"
   ]
  },
  {
   "cell_type": "code",
   "execution_count": 4,
   "id": "d0feee87",
   "metadata": {},
   "outputs": [
    {
     "data": {
      "text/plain": [
       "array([[-3.61948961, -0.75957525],\n",
       "       [-2.75686291, -1.83531563],\n",
       "       [-2.19925651, -5.77493084],\n",
       "       ...,\n",
       "       [-1.27399661, -7.8591206 ],\n",
       "       [-1.62214947, -0.84670118],\n",
       "       [-4.82551328, -3.08827449]])"
      ]
     },
     "execution_count": 4,
     "metadata": {},
     "output_type": "execute_result"
    }
   ],
   "source": [
    "x"
   ]
  },
  {
   "cell_type": "code",
   "execution_count": 5,
   "id": "9ad7ef7f",
   "metadata": {},
   "outputs": [
    {
     "data": {
      "text/plain": [
       "array([1, 1, 2, 1, 2, 1, 0, 1, 2, 1, 0, 0, 2, 0, 1, 0, 0, 2, 0, 1, 1, 1,\n",
       "       0, 2, 0, 2, 1, 2, 1, 2, 2, 0, 1, 0, 0, 0, 2, 2, 2, 1, 2, 2, 0, 1,\n",
       "       1, 0, 1, 2, 2, 2, 0, 2, 0, 0, 0, 1, 2, 0, 2, 2, 2, 1, 0, 2, 2, 0,\n",
       "       1, 0, 2, 2, 0, 2, 0, 1, 0, 2, 0, 0, 0, 2, 2, 1, 1, 0, 1, 2, 0, 2,\n",
       "       0, 0, 1, 2, 1, 2, 1, 2, 1, 1, 1, 1, 2, 0, 0, 2, 1, 0, 0, 1, 0, 2,\n",
       "       1, 0, 2, 2, 0, 2, 0, 2, 1, 0, 2, 1, 2, 0, 0, 1, 1, 0, 1, 2, 1, 0,\n",
       "       1, 0, 1, 0, 0, 2, 2, 0, 1, 0, 2, 0, 1, 1, 2, 1, 0, 2, 0, 0, 2, 0,\n",
       "       1, 1, 2, 0, 1, 1, 2, 0, 1, 0, 0, 0, 0, 0, 0, 0, 0, 1, 1, 0, 2, 2,\n",
       "       1, 1, 0, 1, 0, 1, 1, 0, 0, 1, 0, 0, 0, 0, 2, 2, 1, 2, 2, 2, 0, 0,\n",
       "       1, 1, 2, 1, 1, 0, 2, 2, 1, 1, 1, 0, 0, 2, 0, 0, 0, 2, 1, 1, 2, 2,\n",
       "       2, 1, 2, 2, 0, 2, 2, 1, 0, 1, 1, 2, 1, 0, 2, 2, 2, 2, 0, 2, 0, 2,\n",
       "       0, 1, 1, 2, 1, 0, 0, 0, 0, 0, 1, 1, 0, 2, 2, 2, 2, 2, 1, 0, 0, 1,\n",
       "       1, 1, 1, 0, 0, 1, 0, 0, 2, 0, 1, 1, 2, 0, 1, 1, 2, 2, 1, 1, 1, 0,\n",
       "       2, 1, 2, 2, 1, 2, 2, 0, 2, 2, 0, 0, 0, 0, 2, 0, 2, 2, 2, 2, 2, 2,\n",
       "       1, 1, 2, 1, 2, 0, 1, 0, 0, 1, 2, 2, 0, 2, 1, 2, 1, 2, 2, 2, 1, 1,\n",
       "       1, 0, 1, 1, 1, 2, 0, 1, 1, 1, 1, 0, 2, 1, 0, 2, 0, 0, 0, 1, 0, 0,\n",
       "       0, 1, 1, 1, 1, 0, 2, 0, 0, 0, 1, 1, 1, 0, 2, 0, 0, 0, 1, 1, 1, 0,\n",
       "       1, 1, 0, 0, 2, 0, 0, 2, 0, 1, 1, 2, 2, 1, 1, 2, 1, 2, 0, 1, 0, 1,\n",
       "       1, 0, 0, 0, 1, 2, 2, 2, 1, 1, 2, 0, 2, 1, 1, 0, 1, 1, 1, 0, 2, 0,\n",
       "       1, 0, 1, 0, 2, 1, 1, 2, 1, 0, 2, 2, 1, 0, 2, 1, 0, 0, 0, 2, 0, 0,\n",
       "       0, 0, 0, 1, 1, 0, 0, 2, 2, 0, 2, 1, 0, 1, 0, 2, 2, 2, 0, 0, 1, 2,\n",
       "       0, 2, 2, 0, 1, 1, 1, 2, 0, 0, 2, 1, 0, 0, 1, 1, 1, 2, 0, 1, 1, 2,\n",
       "       1, 0, 1, 0, 2, 0, 1, 2, 1, 2, 2, 0, 0, 2, 2, 0, 2, 1, 0, 2, 2, 1,\n",
       "       1, 2, 1, 2, 1, 1, 1, 0, 0, 2, 0, 0, 1, 1, 0, 1, 1, 2, 0, 2, 0, 1,\n",
       "       1, 0, 1, 1, 2, 1, 0, 0, 2, 2, 2, 0, 2, 1, 1, 2, 1, 2, 2, 0, 0, 0,\n",
       "       1, 1, 0, 2, 0, 1, 2, 0, 0, 1, 1, 0, 1, 0, 0, 2, 1, 1, 2, 0, 2, 2,\n",
       "       1, 2, 1, 2, 2, 0, 1, 0, 1, 2, 1, 2, 0, 0, 2, 2, 1, 0, 0, 1, 0, 2,\n",
       "       1, 0, 0, 1, 1, 2, 0, 0, 2, 1, 0, 1, 0, 2, 1, 0, 1, 0, 2, 1, 2, 2,\n",
       "       2, 2, 0, 2, 0, 0, 2, 2, 0, 1, 2, 2, 2, 0, 0, 2, 0, 0, 2, 1, 0, 1,\n",
       "       1, 2, 1, 2, 1, 1, 0, 1, 0, 0, 2, 2, 0, 0, 2, 0, 0, 0, 1, 0, 1, 0,\n",
       "       0, 0, 1, 1, 0, 2, 2, 0, 1, 2, 0, 0, 1, 2, 1, 2, 0, 1, 2, 0, 0, 2,\n",
       "       2, 0, 2, 2, 2, 0, 2, 1, 2, 2, 2, 0, 0, 1, 1, 0, 0, 2, 1, 2, 2, 0,\n",
       "       2, 1, 1, 0, 2, 0, 2, 1, 1, 2, 0, 0, 2, 1, 1, 1, 0, 1, 0, 1, 1, 1,\n",
       "       0, 2, 0, 0, 2, 2, 1, 2, 1, 1, 1, 2, 1, 2, 1, 0, 2, 0, 1, 0, 1, 1,\n",
       "       2, 1, 1, 2, 2, 2, 1, 2, 1, 2, 1, 1, 0, 0, 1, 1, 0, 1, 0, 1, 2, 0,\n",
       "       2, 0, 1, 0, 2, 2, 0, 1, 2, 0, 0, 1, 1, 1, 1, 1, 2, 2, 1, 2, 1, 0,\n",
       "       2, 0, 2, 2, 0, 1, 2, 2, 2, 1, 2, 2, 0, 1, 2, 2, 2, 0, 2, 0, 1, 0,\n",
       "       2, 2, 2, 1, 2, 0, 2, 1, 0, 0, 0, 2, 2, 0, 0, 1, 2, 2, 1, 0, 0, 2,\n",
       "       0, 0, 0, 2, 2, 0, 2, 1, 2, 2, 0, 2, 2, 2, 2, 1, 1, 1, 1, 2, 1, 0,\n",
       "       2, 1, 2, 1, 2, 0, 1, 2, 2, 1, 0, 2, 2, 2, 2, 1, 2, 2, 1, 1, 1, 2,\n",
       "       2, 0, 2, 1, 1, 1, 2, 2, 2, 0, 2, 0, 2, 1, 2, 2, 1, 0, 0, 0, 2, 1,\n",
       "       2, 1, 1, 2, 1, 1, 1, 1, 0, 1, 0, 0, 0, 1, 1, 1, 2, 1, 2, 1, 2, 1,\n",
       "       2, 0, 1, 1, 2, 2, 2, 2, 0, 1, 1, 0, 2, 0, 2, 2, 1, 0, 2, 1, 1, 0,\n",
       "       2, 1, 1, 1, 0, 0, 0, 1, 2, 1, 1, 2, 2, 0, 1, 1, 2, 2, 0, 0, 2, 0,\n",
       "       2, 0, 1, 1, 0, 2, 0, 2, 2, 1, 0, 1, 1, 0, 1, 2, 0, 0, 0, 2, 1, 0,\n",
       "       0, 1, 0, 2, 1, 0, 0, 2, 1, 0])"
      ]
     },
     "execution_count": 5,
     "metadata": {},
     "output_type": "execute_result"
    }
   ],
   "source": [
    "y"
   ]
  },
  {
   "cell_type": "code",
   "execution_count": 8,
   "id": "5e82a2ca",
   "metadata": {},
   "outputs": [
    {
     "data": {
      "text/plain": [
       "<matplotlib.collections.PathCollection at 0x24b5a39b020>"
      ]
     },
     "execution_count": 8,
     "metadata": {},
     "output_type": "execute_result"
    }
   ],
   "source": [
    "plt.scatter(x[:,0], x[:,1],c = y)"
   ]
  },
  {
   "cell_type": "code",
   "execution_count": 9,
   "id": "882c04d1",
   "metadata": {},
   "outputs": [],
   "source": [
    "## Standardixzation - features scaling\n",
    "from sklearn.preprocessing import StandardScaler\n",
    "scaler = StandardScaler()"
   ]
  },
  {
   "cell_type": "code",
   "execution_count": 11,
   "id": "166bdc58",
   "metadata": {},
   "outputs": [
    {
     "data": {
      "text/html": [
       "<style>#sk-container-id-1 {\n",
       "  /* Definition of color scheme common for light and dark mode */\n",
       "  --sklearn-color-text: black;\n",
       "  --sklearn-color-line: gray;\n",
       "  /* Definition of color scheme for unfitted estimators */\n",
       "  --sklearn-color-unfitted-level-0: #fff5e6;\n",
       "  --sklearn-color-unfitted-level-1: #f6e4d2;\n",
       "  --sklearn-color-unfitted-level-2: #ffe0b3;\n",
       "  --sklearn-color-unfitted-level-3: chocolate;\n",
       "  /* Definition of color scheme for fitted estimators */\n",
       "  --sklearn-color-fitted-level-0: #f0f8ff;\n",
       "  --sklearn-color-fitted-level-1: #d4ebff;\n",
       "  --sklearn-color-fitted-level-2: #b3dbfd;\n",
       "  --sklearn-color-fitted-level-3: cornflowerblue;\n",
       "\n",
       "  /* Specific color for light theme */\n",
       "  --sklearn-color-text-on-default-background: var(--sg-text-color, var(--theme-code-foreground, var(--jp-content-font-color1, black)));\n",
       "  --sklearn-color-background: var(--sg-background-color, var(--theme-background, var(--jp-layout-color0, white)));\n",
       "  --sklearn-color-border-box: var(--sg-text-color, var(--theme-code-foreground, var(--jp-content-font-color1, black)));\n",
       "  --sklearn-color-icon: #696969;\n",
       "\n",
       "  @media (prefers-color-scheme: dark) {\n",
       "    /* Redefinition of color scheme for dark theme */\n",
       "    --sklearn-color-text-on-default-background: var(--sg-text-color, var(--theme-code-foreground, var(--jp-content-font-color1, white)));\n",
       "    --sklearn-color-background: var(--sg-background-color, var(--theme-background, var(--jp-layout-color0, #111)));\n",
       "    --sklearn-color-border-box: var(--sg-text-color, var(--theme-code-foreground, var(--jp-content-font-color1, white)));\n",
       "    --sklearn-color-icon: #878787;\n",
       "  }\n",
       "}\n",
       "\n",
       "#sk-container-id-1 {\n",
       "  color: var(--sklearn-color-text);\n",
       "}\n",
       "\n",
       "#sk-container-id-1 pre {\n",
       "  padding: 0;\n",
       "}\n",
       "\n",
       "#sk-container-id-1 input.sk-hidden--visually {\n",
       "  border: 0;\n",
       "  clip: rect(1px 1px 1px 1px);\n",
       "  clip: rect(1px, 1px, 1px, 1px);\n",
       "  height: 1px;\n",
       "  margin: -1px;\n",
       "  overflow: hidden;\n",
       "  padding: 0;\n",
       "  position: absolute;\n",
       "  width: 1px;\n",
       "}\n",
       "\n",
       "#sk-container-id-1 div.sk-dashed-wrapped {\n",
       "  border: 1px dashed var(--sklearn-color-line);\n",
       "  margin: 0 0.4em 0.5em 0.4em;\n",
       "  box-sizing: border-box;\n",
       "  padding-bottom: 0.4em;\n",
       "  background-color: var(--sklearn-color-background);\n",
       "}\n",
       "\n",
       "#sk-container-id-1 div.sk-container {\n",
       "  /* jupyter's `normalize.less` sets `[hidden] { display: none; }`\n",
       "     but bootstrap.min.css set `[hidden] { display: none !important; }`\n",
       "     so we also need the `!important` here to be able to override the\n",
       "     default hidden behavior on the sphinx rendered scikit-learn.org.\n",
       "     See: https://github.com/scikit-learn/scikit-learn/issues/21755 */\n",
       "  display: inline-block !important;\n",
       "  position: relative;\n",
       "}\n",
       "\n",
       "#sk-container-id-1 div.sk-text-repr-fallback {\n",
       "  display: none;\n",
       "}\n",
       "\n",
       "div.sk-parallel-item,\n",
       "div.sk-serial,\n",
       "div.sk-item {\n",
       "  /* draw centered vertical line to link estimators */\n",
       "  background-image: linear-gradient(var(--sklearn-color-text-on-default-background), var(--sklearn-color-text-on-default-background));\n",
       "  background-size: 2px 100%;\n",
       "  background-repeat: no-repeat;\n",
       "  background-position: center center;\n",
       "}\n",
       "\n",
       "/* Parallel-specific style estimator block */\n",
       "\n",
       "#sk-container-id-1 div.sk-parallel-item::after {\n",
       "  content: \"\";\n",
       "  width: 100%;\n",
       "  border-bottom: 2px solid var(--sklearn-color-text-on-default-background);\n",
       "  flex-grow: 1;\n",
       "}\n",
       "\n",
       "#sk-container-id-1 div.sk-parallel {\n",
       "  display: flex;\n",
       "  align-items: stretch;\n",
       "  justify-content: center;\n",
       "  background-color: var(--sklearn-color-background);\n",
       "  position: relative;\n",
       "}\n",
       "\n",
       "#sk-container-id-1 div.sk-parallel-item {\n",
       "  display: flex;\n",
       "  flex-direction: column;\n",
       "}\n",
       "\n",
       "#sk-container-id-1 div.sk-parallel-item:first-child::after {\n",
       "  align-self: flex-end;\n",
       "  width: 50%;\n",
       "}\n",
       "\n",
       "#sk-container-id-1 div.sk-parallel-item:last-child::after {\n",
       "  align-self: flex-start;\n",
       "  width: 50%;\n",
       "}\n",
       "\n",
       "#sk-container-id-1 div.sk-parallel-item:only-child::after {\n",
       "  width: 0;\n",
       "}\n",
       "\n",
       "/* Serial-specific style estimator block */\n",
       "\n",
       "#sk-container-id-1 div.sk-serial {\n",
       "  display: flex;\n",
       "  flex-direction: column;\n",
       "  align-items: center;\n",
       "  background-color: var(--sklearn-color-background);\n",
       "  padding-right: 1em;\n",
       "  padding-left: 1em;\n",
       "}\n",
       "\n",
       "\n",
       "/* Toggleable style: style used for estimator/Pipeline/ColumnTransformer box that is\n",
       "clickable and can be expanded/collapsed.\n",
       "- Pipeline and ColumnTransformer use this feature and define the default style\n",
       "- Estimators will overwrite some part of the style using the `sk-estimator` class\n",
       "*/\n",
       "\n",
       "/* Pipeline and ColumnTransformer style (default) */\n",
       "\n",
       "#sk-container-id-1 div.sk-toggleable {\n",
       "  /* Default theme specific background. It is overwritten whether we have a\n",
       "  specific estimator or a Pipeline/ColumnTransformer */\n",
       "  background-color: var(--sklearn-color-background);\n",
       "}\n",
       "\n",
       "/* Toggleable label */\n",
       "#sk-container-id-1 label.sk-toggleable__label {\n",
       "  cursor: pointer;\n",
       "  display: block;\n",
       "  width: 100%;\n",
       "  margin-bottom: 0;\n",
       "  padding: 0.5em;\n",
       "  box-sizing: border-box;\n",
       "  text-align: center;\n",
       "}\n",
       "\n",
       "#sk-container-id-1 label.sk-toggleable__label-arrow:before {\n",
       "  /* Arrow on the left of the label */\n",
       "  content: \"▸\";\n",
       "  float: left;\n",
       "  margin-right: 0.25em;\n",
       "  color: var(--sklearn-color-icon);\n",
       "}\n",
       "\n",
       "#sk-container-id-1 label.sk-toggleable__label-arrow:hover:before {\n",
       "  color: var(--sklearn-color-text);\n",
       "}\n",
       "\n",
       "/* Toggleable content - dropdown */\n",
       "\n",
       "#sk-container-id-1 div.sk-toggleable__content {\n",
       "  max-height: 0;\n",
       "  max-width: 0;\n",
       "  overflow: hidden;\n",
       "  text-align: left;\n",
       "  /* unfitted */\n",
       "  background-color: var(--sklearn-color-unfitted-level-0);\n",
       "}\n",
       "\n",
       "#sk-container-id-1 div.sk-toggleable__content.fitted {\n",
       "  /* fitted */\n",
       "  background-color: var(--sklearn-color-fitted-level-0);\n",
       "}\n",
       "\n",
       "#sk-container-id-1 div.sk-toggleable__content pre {\n",
       "  margin: 0.2em;\n",
       "  border-radius: 0.25em;\n",
       "  color: var(--sklearn-color-text);\n",
       "  /* unfitted */\n",
       "  background-color: var(--sklearn-color-unfitted-level-0);\n",
       "}\n",
       "\n",
       "#sk-container-id-1 div.sk-toggleable__content.fitted pre {\n",
       "  /* unfitted */\n",
       "  background-color: var(--sklearn-color-fitted-level-0);\n",
       "}\n",
       "\n",
       "#sk-container-id-1 input.sk-toggleable__control:checked~div.sk-toggleable__content {\n",
       "  /* Expand drop-down */\n",
       "  max-height: 200px;\n",
       "  max-width: 100%;\n",
       "  overflow: auto;\n",
       "}\n",
       "\n",
       "#sk-container-id-1 input.sk-toggleable__control:checked~label.sk-toggleable__label-arrow:before {\n",
       "  content: \"▾\";\n",
       "}\n",
       "\n",
       "/* Pipeline/ColumnTransformer-specific style */\n",
       "\n",
       "#sk-container-id-1 div.sk-label input.sk-toggleable__control:checked~label.sk-toggleable__label {\n",
       "  color: var(--sklearn-color-text);\n",
       "  background-color: var(--sklearn-color-unfitted-level-2);\n",
       "}\n",
       "\n",
       "#sk-container-id-1 div.sk-label.fitted input.sk-toggleable__control:checked~label.sk-toggleable__label {\n",
       "  background-color: var(--sklearn-color-fitted-level-2);\n",
       "}\n",
       "\n",
       "/* Estimator-specific style */\n",
       "\n",
       "/* Colorize estimator box */\n",
       "#sk-container-id-1 div.sk-estimator input.sk-toggleable__control:checked~label.sk-toggleable__label {\n",
       "  /* unfitted */\n",
       "  background-color: var(--sklearn-color-unfitted-level-2);\n",
       "}\n",
       "\n",
       "#sk-container-id-1 div.sk-estimator.fitted input.sk-toggleable__control:checked~label.sk-toggleable__label {\n",
       "  /* fitted */\n",
       "  background-color: var(--sklearn-color-fitted-level-2);\n",
       "}\n",
       "\n",
       "#sk-container-id-1 div.sk-label label.sk-toggleable__label,\n",
       "#sk-container-id-1 div.sk-label label {\n",
       "  /* The background is the default theme color */\n",
       "  color: var(--sklearn-color-text-on-default-background);\n",
       "}\n",
       "\n",
       "/* On hover, darken the color of the background */\n",
       "#sk-container-id-1 div.sk-label:hover label.sk-toggleable__label {\n",
       "  color: var(--sklearn-color-text);\n",
       "  background-color: var(--sklearn-color-unfitted-level-2);\n",
       "}\n",
       "\n",
       "/* Label box, darken color on hover, fitted */\n",
       "#sk-container-id-1 div.sk-label.fitted:hover label.sk-toggleable__label.fitted {\n",
       "  color: var(--sklearn-color-text);\n",
       "  background-color: var(--sklearn-color-fitted-level-2);\n",
       "}\n",
       "\n",
       "/* Estimator label */\n",
       "\n",
       "#sk-container-id-1 div.sk-label label {\n",
       "  font-family: monospace;\n",
       "  font-weight: bold;\n",
       "  display: inline-block;\n",
       "  line-height: 1.2em;\n",
       "}\n",
       "\n",
       "#sk-container-id-1 div.sk-label-container {\n",
       "  text-align: center;\n",
       "}\n",
       "\n",
       "/* Estimator-specific */\n",
       "#sk-container-id-1 div.sk-estimator {\n",
       "  font-family: monospace;\n",
       "  border: 1px dotted var(--sklearn-color-border-box);\n",
       "  border-radius: 0.25em;\n",
       "  box-sizing: border-box;\n",
       "  margin-bottom: 0.5em;\n",
       "  /* unfitted */\n",
       "  background-color: var(--sklearn-color-unfitted-level-0);\n",
       "}\n",
       "\n",
       "#sk-container-id-1 div.sk-estimator.fitted {\n",
       "  /* fitted */\n",
       "  background-color: var(--sklearn-color-fitted-level-0);\n",
       "}\n",
       "\n",
       "/* on hover */\n",
       "#sk-container-id-1 div.sk-estimator:hover {\n",
       "  /* unfitted */\n",
       "  background-color: var(--sklearn-color-unfitted-level-2);\n",
       "}\n",
       "\n",
       "#sk-container-id-1 div.sk-estimator.fitted:hover {\n",
       "  /* fitted */\n",
       "  background-color: var(--sklearn-color-fitted-level-2);\n",
       "}\n",
       "\n",
       "/* Specification for estimator info (e.g. \"i\" and \"?\") */\n",
       "\n",
       "/* Common style for \"i\" and \"?\" */\n",
       "\n",
       ".sk-estimator-doc-link,\n",
       "a:link.sk-estimator-doc-link,\n",
       "a:visited.sk-estimator-doc-link {\n",
       "  float: right;\n",
       "  font-size: smaller;\n",
       "  line-height: 1em;\n",
       "  font-family: monospace;\n",
       "  background-color: var(--sklearn-color-background);\n",
       "  border-radius: 1em;\n",
       "  height: 1em;\n",
       "  width: 1em;\n",
       "  text-decoration: none !important;\n",
       "  margin-left: 1ex;\n",
       "  /* unfitted */\n",
       "  border: var(--sklearn-color-unfitted-level-1) 1pt solid;\n",
       "  color: var(--sklearn-color-unfitted-level-1);\n",
       "}\n",
       "\n",
       ".sk-estimator-doc-link.fitted,\n",
       "a:link.sk-estimator-doc-link.fitted,\n",
       "a:visited.sk-estimator-doc-link.fitted {\n",
       "  /* fitted */\n",
       "  border: var(--sklearn-color-fitted-level-1) 1pt solid;\n",
       "  color: var(--sklearn-color-fitted-level-1);\n",
       "}\n",
       "\n",
       "/* On hover */\n",
       "div.sk-estimator:hover .sk-estimator-doc-link:hover,\n",
       ".sk-estimator-doc-link:hover,\n",
       "div.sk-label-container:hover .sk-estimator-doc-link:hover,\n",
       ".sk-estimator-doc-link:hover {\n",
       "  /* unfitted */\n",
       "  background-color: var(--sklearn-color-unfitted-level-3);\n",
       "  color: var(--sklearn-color-background);\n",
       "  text-decoration: none;\n",
       "}\n",
       "\n",
       "div.sk-estimator.fitted:hover .sk-estimator-doc-link.fitted:hover,\n",
       ".sk-estimator-doc-link.fitted:hover,\n",
       "div.sk-label-container:hover .sk-estimator-doc-link.fitted:hover,\n",
       ".sk-estimator-doc-link.fitted:hover {\n",
       "  /* fitted */\n",
       "  background-color: var(--sklearn-color-fitted-level-3);\n",
       "  color: var(--sklearn-color-background);\n",
       "  text-decoration: none;\n",
       "}\n",
       "\n",
       "/* Span, style for the box shown on hovering the info icon */\n",
       ".sk-estimator-doc-link span {\n",
       "  display: none;\n",
       "  z-index: 9999;\n",
       "  position: relative;\n",
       "  font-weight: normal;\n",
       "  right: .2ex;\n",
       "  padding: .5ex;\n",
       "  margin: .5ex;\n",
       "  width: min-content;\n",
       "  min-width: 20ex;\n",
       "  max-width: 50ex;\n",
       "  color: var(--sklearn-color-text);\n",
       "  box-shadow: 2pt 2pt 4pt #999;\n",
       "  /* unfitted */\n",
       "  background: var(--sklearn-color-unfitted-level-0);\n",
       "  border: .5pt solid var(--sklearn-color-unfitted-level-3);\n",
       "}\n",
       "\n",
       ".sk-estimator-doc-link.fitted span {\n",
       "  /* fitted */\n",
       "  background: var(--sklearn-color-fitted-level-0);\n",
       "  border: var(--sklearn-color-fitted-level-3);\n",
       "}\n",
       "\n",
       ".sk-estimator-doc-link:hover span {\n",
       "  display: block;\n",
       "}\n",
       "\n",
       "/* \"?\"-specific style due to the `<a>` HTML tag */\n",
       "\n",
       "#sk-container-id-1 a.estimator_doc_link {\n",
       "  float: right;\n",
       "  font-size: 1rem;\n",
       "  line-height: 1em;\n",
       "  font-family: monospace;\n",
       "  background-color: var(--sklearn-color-background);\n",
       "  border-radius: 1rem;\n",
       "  height: 1rem;\n",
       "  width: 1rem;\n",
       "  text-decoration: none;\n",
       "  /* unfitted */\n",
       "  color: var(--sklearn-color-unfitted-level-1);\n",
       "  border: var(--sklearn-color-unfitted-level-1) 1pt solid;\n",
       "}\n",
       "\n",
       "#sk-container-id-1 a.estimator_doc_link.fitted {\n",
       "  /* fitted */\n",
       "  border: var(--sklearn-color-fitted-level-1) 1pt solid;\n",
       "  color: var(--sklearn-color-fitted-level-1);\n",
       "}\n",
       "\n",
       "/* On hover */\n",
       "#sk-container-id-1 a.estimator_doc_link:hover {\n",
       "  /* unfitted */\n",
       "  background-color: var(--sklearn-color-unfitted-level-3);\n",
       "  color: var(--sklearn-color-background);\n",
       "  text-decoration: none;\n",
       "}\n",
       "\n",
       "#sk-container-id-1 a.estimator_doc_link.fitted:hover {\n",
       "  /* fitted */\n",
       "  background-color: var(--sklearn-color-fitted-level-3);\n",
       "}\n",
       "</style><div id=\"sk-container-id-1\" class=\"sk-top-container\"><div class=\"sk-text-repr-fallback\"><pre>StandardScaler()</pre><b>In a Jupyter environment, please rerun this cell to show the HTML representation or trust the notebook. <br />On GitHub, the HTML representation is unable to render, please try loading this page with nbviewer.org.</b></div><div class=\"sk-container\" hidden><div class=\"sk-item\"><div class=\"sk-estimator  sk-toggleable\"><input class=\"sk-toggleable__control sk-hidden--visually\" id=\"sk-estimator-id-1\" type=\"checkbox\" checked><label for=\"sk-estimator-id-1\" class=\"sk-toggleable__label  sk-toggleable__label-arrow \">&nbsp;&nbsp;StandardScaler<a class=\"sk-estimator-doc-link \" rel=\"noreferrer\" target=\"_blank\" href=\"https://scikit-learn.org/1.5/modules/generated/sklearn.preprocessing.StandardScaler.html\">?<span>Documentation for StandardScaler</span></a><span class=\"sk-estimator-doc-link \">i<span>Not fitted</span></span></label><div class=\"sk-toggleable__content \"><pre>StandardScaler()</pre></div> </div></div></div></div>"
      ],
      "text/plain": [
       "StandardScaler()"
      ]
     },
     "execution_count": 11,
     "metadata": {},
     "output_type": "execute_result"
    }
   ],
   "source": [
    "scaler"
   ]
  },
  {
   "cell_type": "code",
   "execution_count": 12,
   "id": "4cbc9a6f",
   "metadata": {},
   "outputs": [],
   "source": [
    "from sklearn.model_selection import train_test_split\n",
    "x_train, x_test, y_train,y_test = train_test_split(x,y,test_size = 0.33, random_state = 32)\n"
   ]
  },
  {
   "cell_type": "code",
   "execution_count": 14,
   "id": "136a8171",
   "metadata": {},
   "outputs": [],
   "source": [
    "x_train_scaled = scaler.fit_transform(x_train)\n",
    "x_test_scaled = scaler.transform(x_test)"
   ]
  },
  {
   "cell_type": "code",
   "execution_count": 15,
   "id": "c9631ed6",
   "metadata": {},
   "outputs": [
    {
     "data": {
      "text/plain": [
       "array([[ 0.50478209, -1.75184457],\n",
       "       [ 0.83051776,  0.91185448],\n",
       "       [-0.77272591,  0.46524891],\n",
       "       ...,\n",
       "       [ 0.40214935,  1.1400578 ],\n",
       "       [ 0.82534828,  1.51001741],\n",
       "       [ 0.23889429, -1.02819142]])"
      ]
     },
     "execution_count": 15,
     "metadata": {},
     "output_type": "execute_result"
    }
   ],
   "source": [
    "x_train_scaled"
   ]
  },
  {
   "cell_type": "code",
   "execution_count": 16,
   "id": "b27918c0",
   "metadata": {},
   "outputs": [],
   "source": [
    "from sklearn.cluster import KMeans"
   ]
  },
  {
   "cell_type": "code",
   "execution_count": 17,
   "id": "eeeb4b39",
   "metadata": {},
   "outputs": [
    {
     "name": "stderr",
     "output_type": "stream",
     "text": [
      "c:\\Users\\KIIT\\Anaconda3\\Lib\\site-packages\\sklearn\\cluster\\_kmeans.py:1429: UserWarning: KMeans is known to have a memory leak on Windows with MKL, when there are less chunks than available threads. You can avoid it by setting the environment variable OMP_NUM_THREADS=3.\n",
      "  warnings.warn(\n",
      "c:\\Users\\KIIT\\Anaconda3\\Lib\\site-packages\\sklearn\\cluster\\_kmeans.py:1429: UserWarning: KMeans is known to have a memory leak on Windows with MKL, when there are less chunks than available threads. You can avoid it by setting the environment variable OMP_NUM_THREADS=3.\n",
      "  warnings.warn(\n",
      "c:\\Users\\KIIT\\Anaconda3\\Lib\\site-packages\\sklearn\\cluster\\_kmeans.py:1429: UserWarning: KMeans is known to have a memory leak on Windows with MKL, when there are less chunks than available threads. You can avoid it by setting the environment variable OMP_NUM_THREADS=3.\n",
      "  warnings.warn(\n",
      "c:\\Users\\KIIT\\Anaconda3\\Lib\\site-packages\\sklearn\\cluster\\_kmeans.py:1429: UserWarning: KMeans is known to have a memory leak on Windows with MKL, when there are less chunks than available threads. You can avoid it by setting the environment variable OMP_NUM_THREADS=3.\n",
      "  warnings.warn(\n",
      "c:\\Users\\KIIT\\Anaconda3\\Lib\\site-packages\\sklearn\\cluster\\_kmeans.py:1429: UserWarning: KMeans is known to have a memory leak on Windows with MKL, when there are less chunks than available threads. You can avoid it by setting the environment variable OMP_NUM_THREADS=3.\n",
      "  warnings.warn(\n",
      "c:\\Users\\KIIT\\Anaconda3\\Lib\\site-packages\\sklearn\\cluster\\_kmeans.py:1429: UserWarning: KMeans is known to have a memory leak on Windows with MKL, when there are less chunks than available threads. You can avoid it by setting the environment variable OMP_NUM_THREADS=3.\n",
      "  warnings.warn(\n",
      "c:\\Users\\KIIT\\Anaconda3\\Lib\\site-packages\\sklearn\\cluster\\_kmeans.py:1429: UserWarning: KMeans is known to have a memory leak on Windows with MKL, when there are less chunks than available threads. You can avoid it by setting the environment variable OMP_NUM_THREADS=3.\n",
      "  warnings.warn(\n",
      "c:\\Users\\KIIT\\Anaconda3\\Lib\\site-packages\\sklearn\\cluster\\_kmeans.py:1429: UserWarning: KMeans is known to have a memory leak on Windows with MKL, when there are less chunks than available threads. You can avoid it by setting the environment variable OMP_NUM_THREADS=3.\n",
      "  warnings.warn(\n",
      "c:\\Users\\KIIT\\Anaconda3\\Lib\\site-packages\\sklearn\\cluster\\_kmeans.py:1429: UserWarning: KMeans is known to have a memory leak on Windows with MKL, when there are less chunks than available threads. You can avoid it by setting the environment variable OMP_NUM_THREADS=3.\n",
      "  warnings.warn(\n",
      "c:\\Users\\KIIT\\Anaconda3\\Lib\\site-packages\\sklearn\\cluster\\_kmeans.py:1429: UserWarning: KMeans is known to have a memory leak on Windows with MKL, when there are less chunks than available threads. You can avoid it by setting the environment variable OMP_NUM_THREADS=3.\n",
      "  warnings.warn(\n"
     ]
    }
   ],
   "source": [
    "## Elbow method to select the K- Values\n",
    "wcss = []\n",
    "for k in range(1,11):\n",
    "    kmeans = KMeans(n_clusters=k, init = \"k-means++\")\n",
    "    kmeans.fit(x_train_scaled)\n",
    "    wcss.append(kmeans.inertia_)"
   ]
  },
  {
   "cell_type": "code",
   "execution_count": 18,
   "id": "5c48b0f4",
   "metadata": {},
   "outputs": [
    {
     "data": {
      "text/plain": [
       "[1339.9999999999993,\n",
       " 713.2167667861265,\n",
       " 205.6258480429491,\n",
       " 179.32273295960985,\n",
       " 164.83077681080732,\n",
       " 131.90949970315893,\n",
       " 119.30529823487821,\n",
       " 109.08993328580277,\n",
       " 92.68354679068015,\n",
       " 86.92566656414976]"
      ]
     },
     "execution_count": 18,
     "metadata": {},
     "output_type": "execute_result"
    }
   ],
   "source": [
    "wcss"
   ]
  },
  {
   "cell_type": "code",
   "execution_count": 19,
   "id": "365a0959",
   "metadata": {},
   "outputs": [
    {
     "data": {
      "image/png": "[encoded data removed]",
      "text/plain": [
       "<Figure size 640x480 with 1 Axes>"
      ]
     },
     "metadata": {},
     "output_type": "display_data"
    }
   ],
   "source": [
    "## plot elbow curve\n",
    "plt.plot(range(1,11), wcss)\n",
    "plt.xticks(range(1,11))\n",
    "plt.xlabel('Number of Clusters')\n",
    "plt.ylabel('WCSS')\n",
    "plt.show()"
   ]
  },
  {
   "cell_type": "code",
   "execution_count": 20,
   "id": "8980e03f",
   "metadata": {},
   "outputs": [],
   "source": [
    "kmeans = KMeans(n_clusters = 3, init = 'k-means++')"
   ]
  },
  {
   "cell_type": "code",
   "execution_count": 21,
   "id": "0c051835",
   "metadata": {},
   "outputs": [
    {
     "name": "stderr",
     "output_type": "stream",
     "text": [
      "c:\\Users\\KIIT\\Anaconda3\\Lib\\site-packages\\sklearn\\cluster\\_kmeans.py:1429: UserWarning: KMeans is known to have a memory leak on Windows with MKL, when there are less chunks than available threads. You can avoid it by setting the environment variable OMP_NUM_THREADS=3.\n",
      "  warnings.warn(\n"
     ]
    },
    {
     "data": {
      "text/plain": [
       "array([0, 1, 2, 2, 2, 1, 0, 1, 2, 1, 1, 1, 2, 0, 1, 1, 0, 0, 1, 2, 2, 1,\n",
       "       2, 1, 2, 1, 1, 1, 1, 0, 1, 1, 1, 0, 2, 0, 0, 2, 0, 2, 0, 0, 2, 1,\n",
       "       2, 0, 0, 0, 2, 1, 2, 2, 2, 0, 2, 2, 0, 2, 2, 1, 1, 1, 0, 2, 2, 1,\n",
       "       1, 2, 0, 2, 1, 2, 0, 1, 1, 2, 1, 2, 0, 2, 2, 1, 1, 1, 1, 0, 2, 1,\n",
       "       1, 0, 2, 2, 2, 2, 2, 0, 1, 2, 1, 1, 2, 1, 0, 1, 2, 0, 1, 0, 2, 0,\n",
       "       2, 0, 1, 1, 0, 1, 1, 2, 2, 0, 1, 0, 2, 1, 0, 2, 1, 0, 1, 1, 1, 0,\n",
       "       0, 0, 0, 1, 0, 0, 2, 0, 0, 2, 0, 1, 0, 0, 0, 1, 2, 1, 1, 0, 1, 1,\n",
       "       1, 2, 1, 0, 0, 1, 0, 2, 0, 0, 1, 0, 1, 1, 1, 1, 1, 0, 2, 0, 2, 2,\n",
       "       2, 2, 0, 0, 0, 2, 1, 2, 2, 1, 1, 1, 1, 0, 2, 1, 0, 2, 1, 1, 0, 2,\n",
       "       0, 2, 0, 2, 2, 0, 1, 0, 1, 2, 0, 0, 2, 2, 2, 2, 2, 0, 1, 1, 2, 0,\n",
       "       2, 0, 2, 2, 0, 2, 0, 1, 1, 1, 2, 0, 0, 2, 0, 1, 1, 1, 1, 1, 1, 1,\n",
       "       0, 1, 0, 2, 0, 2, 2, 2, 0, 1, 2, 2, 2, 1, 2, 1, 0, 1, 2, 2, 2, 0,\n",
       "       0, 0, 0, 1, 0, 0, 0, 1, 1, 0, 0, 0, 0, 0, 0, 2, 2, 0, 2, 2, 1, 1,\n",
       "       2, 1, 0, 0, 0, 0, 0, 2, 0, 0, 2, 1, 1, 1, 2, 2, 0, 1, 2, 0, 0, 0,\n",
       "       0, 2, 0, 1, 0, 0, 0, 1, 1, 1, 1, 0, 0, 1, 0, 1, 1, 1, 0, 2, 2, 2,\n",
       "       2, 0, 1, 2, 2, 0, 2, 0, 2, 1, 2, 2, 1, 1, 1, 0, 1, 1, 2, 0, 1, 2,\n",
       "       2, 2, 2, 1, 2, 0, 0, 0, 0, 0, 0, 2, 1, 2, 0, 1, 0, 0, 0, 0, 0, 0,\n",
       "       1, 0, 1, 0, 0, 0, 1, 2, 0, 2, 0, 1, 0, 0, 2, 2, 2, 2, 1, 2, 2, 2,\n",
       "       0, 0, 0, 1, 1, 2, 1, 1, 2, 1, 2, 2, 1, 2, 0, 1, 0, 2, 1, 0, 2, 2,\n",
       "       0, 1, 0, 2, 0, 0, 2, 0, 2, 0, 1, 1, 2, 1, 1, 1, 0, 1, 0, 1, 2, 1,\n",
       "       1, 0, 2, 2, 1, 1, 2, 2, 2, 0, 0, 1, 1, 1, 1, 2, 1, 2, 1, 2, 2, 1,\n",
       "       1, 1, 1, 1, 1, 2, 1, 1, 2, 1, 0, 1, 1, 2, 1, 0, 2, 1, 1, 1, 1, 0,\n",
       "       1, 0, 2, 1, 2, 2, 2, 0, 2, 2, 2, 0, 2, 1, 0, 0, 0, 1, 0, 2, 0, 2,\n",
       "       2, 0, 0, 0, 2, 1, 0, 0, 0, 1, 1, 2, 2, 2, 1, 0, 0, 2, 2, 1, 1, 2,\n",
       "       0, 0, 1, 2, 1, 1, 2, 2, 0, 0, 1, 1, 1, 0, 0, 2, 0, 0, 1, 1, 0, 2,\n",
       "       2, 0, 1, 1, 1, 0, 2, 1, 1, 2, 1, 0, 2, 0, 1, 0, 2, 1, 1, 2, 2, 0,\n",
       "       0, 1, 1, 2, 1, 0, 0, 1, 2, 2, 2, 2, 1, 2, 1, 2, 1, 2, 2, 0, 1, 2,\n",
       "       1, 1, 1, 1, 0, 2, 1, 2, 2, 2, 1, 2, 1, 0, 0, 2, 1, 0, 0, 0, 1, 0,\n",
       "       0, 2, 1, 2, 1, 2, 0, 0, 0, 0, 0, 1, 1, 2, 0, 2, 0, 1, 2, 2, 2, 2,\n",
       "       2, 2, 1, 0, 0, 2, 2, 1, 2, 0, 2, 1, 2, 0, 2, 2, 0, 1, 0, 2, 2, 1,\n",
       "       0, 1, 0, 2, 0, 0, 0, 1, 1, 0])"
      ]
     },
     "execution_count": 21,
     "metadata": {},
     "output_type": "execute_result"
    }
   ],
   "source": [
    "kmeans.fit_predict(x_train_scaled)"
   ]
  },
  {
   "cell_type": "code",
   "execution_count": 22,
   "id": "049b732c",
   "metadata": {},
   "outputs": [
    {
     "data": {
      "text/plain": [
       "<matplotlib.collections.PathCollection at 0x24b5c410830>"
      ]
     },
     "execution_count": 22,
     "metadata": {},
     "output_type": "execute_result"
    }
   ],
   "source": [
    "plt.scatter(x[:,0], x[:,1], c = y)"
   ]
  },
  {
   "cell_type": "markdown",
   "id": "eb8cc607",
   "metadata": {},
   "source": [
    "## validating the k - values\n",
    "1. KneeLocator\n",
    "2. Silhoutee scoring"
   ]
  },
  {
   "cell_type": "code",
   "execution_count": 24,
   "id": "f6371e20",
   "metadata": {},
   "outputs": [
    {
     "name": "stdout",
     "output_type": "stream",
     "text": [
      "Collecting kneed\n",
      "  Downloading kneed-0.8.5-py3-none-any.whl.metadata (5.5 kB)\n",
      "Requirement already satisfied: numpy>=1.14.2 in c:\\users\\kiit\\anaconda3\\lib\\site-packages (from kneed) (1.26.4)\n",
      "Requirement already satisfied: scipy>=1.0.0 in c:\\users\\kiit\\anaconda3\\lib\\site-packages (from kneed) (1.13.1)\n",
      "Downloading kneed-0.8.5-py3-none-any.whl (10 kB)\n",
      "Installing collected packages: kneed\n",
      "Successfully installed kneed-0.8.5\n"
     ]
    }
   ],
   "source": [
    "!pip install kneed"
   ]
  },
  {
   "cell_type": "code",
   "execution_count": 25,
   "id": "74f3e158",
   "metadata": {},
   "outputs": [],
   "source": [
    "from kneed import KneeLocator"
   ]
  },
  {
   "cell_type": "code",
   "execution_count": 26,
   "id": "d9c8b532",
   "metadata": {},
   "outputs": [],
   "source": [
    "k1 = KneeLocator(range(1,11),wcss,curve = 'convex', direction = 'decreasing')"
   ]
  },
  {
   "cell_type": "code",
   "execution_count": 27,
   "id": "82762e52",
   "metadata": {},
   "outputs": [
    {
     "data": {
      "text/plain": [
       "3"
      ]
     },
     "execution_count": 27,
     "metadata": {},
     "output_type": "execute_result"
    }
   ],
   "source": [
    "k1.elbow"
   ]
  },
  {
   "cell_type": "code",
   "execution_count": 34,
   "id": "2a74b170",
   "metadata": {},
   "outputs": [
    {
     "name": "stderr",
     "output_type": "stream",
     "text": [
      "c:\\Users\\KIIT\\Anaconda3\\Lib\\site-packages\\sklearn\\cluster\\_kmeans.py:1429: UserWarning: KMeans is known to have a memory leak on Windows with MKL, when there are less chunks than available threads. You can avoid it by setting the environment variable OMP_NUM_THREADS=3.\n",
      "  warnings.warn(\n",
      "c:\\Users\\KIIT\\Anaconda3\\Lib\\site-packages\\sklearn\\cluster\\_kmeans.py:1429: UserWarning: KMeans is known to have a memory leak on Windows with MKL, when there are less chunks than available threads. You can avoid it by setting the environment variable OMP_NUM_THREADS=3.\n",
      "  warnings.warn(\n",
      "c:\\Users\\KIIT\\Anaconda3\\Lib\\site-packages\\sklearn\\cluster\\_kmeans.py:1429: UserWarning: KMeans is known to have a memory leak on Windows with MKL, when there are less chunks than available threads. You can avoid it by setting the environment variable OMP_NUM_THREADS=3.\n",
      "  warnings.warn(\n",
      "c:\\Users\\KIIT\\Anaconda3\\Lib\\site-packages\\sklearn\\cluster\\_kmeans.py:1429: UserWarning: KMeans is known to have a memory leak on Windows with MKL, when there are less chunks than available threads. You can avoid it by setting the environment variable OMP_NUM_THREADS=3.\n",
      "  warnings.warn(\n",
      "c:\\Users\\KIIT\\Anaconda3\\Lib\\site-packages\\sklearn\\cluster\\_kmeans.py:1429: UserWarning: KMeans is known to have a memory leak on Windows with MKL, when there are less chunks than available threads. You can avoid it by setting the environment variable OMP_NUM_THREADS=3.\n",
      "  warnings.warn(\n",
      "c:\\Users\\KIIT\\Anaconda3\\Lib\\site-packages\\sklearn\\cluster\\_kmeans.py:1429: UserWarning: KMeans is known to have a memory leak on Windows with MKL, when there are less chunks than available threads. You can avoid it by setting the environment variable OMP_NUM_THREADS=3.\n",
      "  warnings.warn(\n",
      "c:\\Users\\KIIT\\Anaconda3\\Lib\\site-packages\\sklearn\\cluster\\_kmeans.py:1429: UserWarning: KMeans is known to have a memory leak on Windows with MKL, when there are less chunks than available threads. You can avoid it by setting the environment variable OMP_NUM_THREADS=3.\n",
      "  warnings.warn(\n",
      "c:\\Users\\KIIT\\Anaconda3\\Lib\\site-packages\\sklearn\\cluster\\_kmeans.py:1429: UserWarning: KMeans is known to have a memory leak on Windows with MKL, when there are less chunks than available threads. You can avoid it by setting the environment variable OMP_NUM_THREADS=3.\n",
      "  warnings.warn(\n",
      "c:\\Users\\KIIT\\Anaconda3\\Lib\\site-packages\\sklearn\\cluster\\_kmeans.py:1429: UserWarning: KMeans is known to have a memory leak on Windows with MKL, when there are less chunks than available threads. You can avoid it by setting the environment variable OMP_NUM_THREADS=3.\n",
      "  warnings.warn(\n"
     ]
    }
   ],
   "source": [
    "## silhoutee scoring\n",
    "from sklearn.metrics import silhouette_score\n",
    "silhouette_coeffecients = []\n",
    "for k in range(2,11):\n",
    "    kmeans = KMeans(n_clusters = k, init = 'k-means++')\n",
    "    kmeans.fit(x_train_scaled)\n",
    "    scores = silhouette_score(x_train_scaled, kmeans.labels_)\n",
    "    silhouette_coeffecients.append(scores)"
   ]
  },
  {
   "cell_type": "code",
   "execution_count": 36,
   "id": "6f06940a",
   "metadata": {},
   "outputs": [
    {
     "data": {
      "text/plain": [
       "[0.4571835286939013,\n",
       " 0.6642057090531805,\n",
       " 0.5218115960627902,\n",
       " 0.4163519153509453,\n",
       " 0.3215649809234418,\n",
       " 0.32883227429978173,\n",
       " 0.3270758794901937,\n",
       " 0.3354012346797497,\n",
       " 0.33596473781438146]"
      ]
     },
     "execution_count": 36,
     "metadata": {},
     "output_type": "execute_result"
    }
   ],
   "source": [
    "silhouette_coeffecients"
   ]
  },
  {
   "cell_type": "code",
   "execution_count": 37,
   "id": "eb47a175",
   "metadata": {},
   "outputs": [
    {
     "data": {
      "image/png": "[encoded data removed]",
      "text/plain": [
       "<Figure size 640x480 with 1 Axes>"
      ]
     },
     "metadata": {},
     "output_type": "display_data"
    }
   ],
   "source": [
    "## plot elbow curve\n",
    "plt.plot(range(1,11), wcss)\n",
    "plt.xticks(range(1,11))\n",
    "plt.xlabel('Number of Clusters')\n",
    "plt.ylabel('WCSS')\n",
    "plt.show()"
   ]
  },
  {
   "cell_type": "code",
   "execution_count": null,
   "id": "374bcf72",
   "metadata": {},
   "outputs": [],
   "source": []
  }
 ],
 "metadata": {
  "kernelspec": {
   "display_name": "base",
   "language": "python",
   "name": "python3"
  },
  "language_info": {
   "codemirror_mode": {
    "name": "ipython",
    "version": 3
   },
   "file_extension": ".py",
   "mimetype": "text/x-python",
   "name": "python",
   "nbconvert_exporter": "python",
   "pygments_lexer": "ipython3",
   "version": "3.12.7"
  }
 },
 "nbformat": 4,
 "nbformat_minor": 5
}
