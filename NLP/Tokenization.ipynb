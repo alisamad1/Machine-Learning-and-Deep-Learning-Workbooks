{
 "cells": [
  {
   "cell_type": "markdown",
   "id": "2b8acd70",
   "metadata": {},
   "source": [
    "## Natural Language Processing \n"
   ]
  },
  {
   "cell_type": "code",
   "execution_count": 1,
   "id": "fa2852c9",
   "metadata": {},
   "outputs": [
    {
     "name": "stdout",
     "output_type": "stream",
     "text": [
      "Requirement already satisfied: nltk in c:\\users\\kiit\\anaconda3\\lib\\site-packages (3.9.1)\n",
      "Requirement already satisfied: click in c:\\users\\kiit\\anaconda3\\lib\\site-packages (from nltk) (8.1.7)\n",
      "Requirement already satisfied: joblib in c:\\users\\kiit\\anaconda3\\lib\\site-packages (from nltk) (1.4.2)\n",
      "Requirement already satisfied: regex>=2021.8.3 in c:\\users\\kiit\\anaconda3\\lib\\site-packages (from nltk) (2024.9.11)\n",
      "Requirement already satisfied: tqdm in c:\\users\\kiit\\anaconda3\\lib\\site-packages (from nltk) (4.66.5)\n",
      "Requirement already satisfied: colorama in c:\\users\\kiit\\anaconda3\\lib\\site-packages (from click->nltk) (0.4.6)\n"
     ]
    }
   ],
   "source": [
    "!pip install nltk"
   ]
  },
  {
   "cell_type": "code",
   "execution_count": 5,
   "metadata": {},
   "outputs": [],
   "source": [
    "corpus = \"\"\" Hello Welcome to Ali Samad Adventures : NLP Tutorials.,\n",
    "This is a tutorial on how to use NLP in Python.\n",
    "We will cover the basics of NLP and how to use it in real-world applications.\n",
    "\"\"\""
   ]
  },
  {
   "cell_type": "code",
   "execution_count": 6,
   "id": "975183f5",
   "metadata": {},
   "outputs": [
    {
     "data": {
      "text/plain": [
       "' Hello Welcome to Ali Samad Adventures : NLP Tutorials.,\\nThis is a tutorial on how to use NLP in Python.\\nWe will cover the basics of NLP and how to use it in real-world applications.\\n'"
      ]
     },
     "execution_count": 6,
     "metadata": {},
     "output_type": "execute_result"
    }
   ],
   "source": [
    "corpus"
   ]
  },
  {
   "cell_type": "code",
   "execution_count": 8,
   "id": "f24e78ce",
   "metadata": {},
   "outputs": [],
   "source": [
    "## Tokenization\n",
    "## sentence to Paragraph\n",
    "from nltk.tokenize import sent_tokenize\n",
    "document = sent_tokenize(corpus)"
   ]
  },
  {
   "cell_type": "code",
   "execution_count": 9,
   "id": "142d5ba2",
   "metadata": {},
   "outputs": [
    {
     "data": {
      "text/plain": [
       "list"
      ]
     },
     "execution_count": 9,
     "metadata": {},
     "output_type": "execute_result"
    }
   ],
   "source": [
    "type(document)"
   ]
  },
  {
   "cell_type": "code",
   "execution_count": 10,
   "id": "209988e0",
   "metadata": {},
   "outputs": [
    {
     "name": "stdout",
     "output_type": "stream",
     "text": [
      " Hello Welcome to Ali Samad Adventures : NLP Tutorials.,\n",
      "This is a tutorial on how to use NLP in Python.\n",
      "We will cover the basics of NLP and how to use it in real-world applications.\n"
     ]
    }
   ],
   "source": [
    "for sentence in document:\n",
    "    print(sentence)"
   ]
  },
  {
   "cell_type": "code",
   "execution_count": 12,
   "id": "2f30e6a0",
   "metadata": {},
   "outputs": [],
   "source": [
    "## Tokenization\n",
    "## paragraph to words\n",
    "## Sentence to words\n",
    "from nltk.tokenize import word_tokenize\n",
    "wsentence_1 = word_tokenize(corpus)"
   ]
  },
  {
   "cell_type": "code",
   "execution_count": 15,
   "id": "af85c360",
   "metadata": {},
   "outputs": [
    {
     "name": "stdout",
     "output_type": "stream",
     "text": [
      "['Hello', 'Welcome', 'to', 'Ali', 'Samad', 'Adventures', ':', 'NLP', 'Tutorials.', ',', 'This', 'is', 'a', 'tutorial', 'on', 'how', 'to', 'use', 'NLP', 'in', 'Python', '.', 'We', 'will', 'cover', 'the', 'basics', 'of', 'NLP', 'and', 'how', 'to', 'use', 'it', 'in', 'real-world', 'applications', '.']\n",
      "['Hello', 'Welcome', 'to', 'Ali', 'Samad', 'Adventures', ':', 'NLP', 'Tutorials.', ',', 'This', 'is', 'a', 'tutorial', 'on', 'how', 'to', 'use', 'NLP', 'in', 'Python', '.', 'We', 'will', 'cover', 'the', 'basics', 'of', 'NLP', 'and', 'how', 'to', 'use', 'it', 'in', 'real-world', 'applications', '.']\n"
     ]
    }
   ],
   "source": [
    "for sentence in document:\n",
    "    print(wsentence_1)"
   ]
  },
  {
   "cell_type": "code",
   "execution_count": 16,
   "id": "93305d05",
   "metadata": {},
   "outputs": [],
   "source": [
    "from nltk.tokenize import TreebankWordDetokenizer "
   ]
  },
  {
   "cell_type": "code",
   "execution_count": 17,
   "id": "666fc368",
   "metadata": {},
   "outputs": [],
   "source": [
    "tokenizer = TreebankWordDetokenizer()"
   ]
  },
  {
   "cell_type": "code",
   "execution_count": 18,
   "id": "2a37e615",
   "metadata": {},
   "outputs": [
    {
     "data": {
      "text/plain": [
       "'H e l l o   W e l c o m e   t o   A l i   S a m a d   A d v e n t u r e s  :   N L P   T u t o r i a l s ., \\n T h i s   i s   a   t u t o r i a l   o n   h o w   t o   u s e   N L P   i n   P y t h o n . \\n W e   w i l l   c o v e r   t h e   b a s i c s   o f   N L P   a n d   h o w   t o   u s e   i t   i n   r e a l - w o r l d   a p p l i c a t i o n s.'"
      ]
     },
     "execution_count": 18,
     "metadata": {},
     "output_type": "execute_result"
    }
   ],
   "source": [
    "tokenizer.tokenize(corpus)"
   ]
  },
  {
   "cell_type": "code",
   "execution_count": null,
   "id": "99eb54e5",
   "metadata": {},
   "outputs": [],
   "source": []
  }
 ],
 "metadata": {
  "kernelspec": {
   "display_name": "base",
   "language": "python",
   "name": "python3"
  },
  "language_info": {
   "codemirror_mode": {
    "name": "ipython",
    "version": 3
   },
   "file_extension": ".py",
   "mimetype": "text/x-python",
   "name": "python",
   "nbconvert_exporter": "python",
   "pygments_lexer": "ipython3",
   "version": "3.12.7"
  }
 },
 "nbformat": 4,
 "nbformat_minor": 5
}
