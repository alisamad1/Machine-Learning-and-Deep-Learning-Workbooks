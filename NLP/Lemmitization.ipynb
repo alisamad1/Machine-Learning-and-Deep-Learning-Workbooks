{
 "cells": [
  {
   "cell_type": "markdown",
   "id": "aea83b4e",
   "metadata": {},
   "source": [
    "## Lemmitization"
   ]
  },
  {
   "cell_type": "code",
   "execution_count": 1,
   "id": "187cc6e2",
   "metadata": {},
   "outputs": [],
   "source": [
    "from nltk.stem import WordNetLemmatizer\n"
   ]
  },
  {
   "cell_type": "code",
   "execution_count": 2,
   "id": "37e46bf6",
   "metadata": {},
   "outputs": [],
   "source": [
    "lemmatizer = WordNetLemmatizer()"
   ]
  },
  {
   "cell_type": "code",
   "execution_count": 4,
   "id": "d743826b",
   "metadata": {},
   "outputs": [
    {
     "data": {
      "text/plain": [
       "'go'"
      ]
     },
     "execution_count": 4,
     "metadata": {},
     "output_type": "execute_result"
    }
   ],
   "source": [
    "lemmatizer.lemmatize(\"going\", pos = 'v')"
   ]
  },
  {
   "cell_type": "code",
   "execution_count": 5,
   "id": "5c4e1cac",
   "metadata": {},
   "outputs": [],
   "source": [
    "words = [\"apple\" ,\"computer\" ,\"science\" ,\"learning\" ,\"python\" ,\"data\" ,\"cloud\" ,\"network\" ,\"algorithm\" ,\"future\"]"
   ]
  },
  {
   "cell_type": "code",
   "execution_count": 10,
   "id": "49d10c8d",
   "metadata": {},
   "outputs": [
    {
     "name": "stdout",
     "output_type": "stream",
     "text": [
      "apple----->apple\n",
      "computer----->computer\n",
      "science----->science\n",
      "learning----->learn\n",
      "python----->python\n",
      "data----->data\n",
      "cloud----->cloud\n",
      "network----->network\n",
      "algorithm----->algorithm\n",
      "future----->future\n"
     ]
    }
   ],
   "source": [
    "for word in words:\n",
    "    print(word + \"----->\" + lemmatizer.lemmatize(word, pos = 'v'))"
   ]
  },
  {
   "cell_type": "code",
   "execution_count": 11,
   "id": "62a18113",
   "metadata": {},
   "outputs": [
    {
     "data": {
      "text/plain": [
       "'go'"
      ]
     },
     "execution_count": 11,
     "metadata": {},
     "output_type": "execute_result"
    }
   ],
   "source": [
    "lemmatizer.lemmatize('goes', pos = 'v')"
   ]
  },
  {
   "cell_type": "code",
   "execution_count": 15,
   "id": "8feb657a",
   "metadata": {},
   "outputs": [
    {
     "data": {
      "text/plain": [
       "('fairly', 'sporting')"
      ]
     },
     "execution_count": 15,
     "metadata": {},
     "output_type": "execute_result"
    }
   ],
   "source": [
    "lemmatizer.lemmatize(\"fairly\", pos = 'n') , lemmatizer.lemmatize(\"sporting\", pos = 'a')"
   ]
  },
  {
   "cell_type": "markdown",
   "id": "a03b3e74",
   "metadata": {},
   "source": [
    "## Wordnet Lemmatizer \n",
    "WordNetLemmatizer is a lemmatizer that uses WordNet to normalize words to root word that is meaningful and meaning will be the same.\n"
   ]
  },
  {
   "cell_type": "code",
   "execution_count": 4,
   "id": "3d7a9eba",
   "metadata": {},
   "outputs": [],
   "source": [
    "import nltk.stem"
   ]
  },
  {
   "cell_type": "code",
   "execution_count": 6,
   "id": "91c77261",
   "metadata": {},
   "outputs": [],
   "source": [
    "from nltk.stem import WordNetLemmatizer"
   ]
  },
  {
   "cell_type": "code",
   "execution_count": 7,
   "id": "6e08f3ad",
   "metadata": {},
   "outputs": [],
   "source": [
    "lemmatizer1 = WordNetLemmatizer()"
   ]
  },
  {
   "cell_type": "code",
   "execution_count": 9,
   "id": "04bd16f0",
   "metadata": {},
   "outputs": [
    {
     "data": {
      "text/plain": [
       "'go'"
      ]
     },
     "execution_count": 9,
     "metadata": {},
     "output_type": "execute_result"
    }
   ],
   "source": [
    "'''\n",
    "POS - Noun - n\n",
    "verb - v\n",
    "adjective - a\n",
    "adverb - r \n",
    "'''\n",
    "lemmatizer1.lemmatize(\"going\", pos = 'v')"
   ]
  },
  {
   "cell_type": "code",
   "execution_count": null,
   "id": "bf82ff74",
   "metadata": {},
   "outputs": [
    {
     "ename": "SyntaxError",
     "evalue": "invalid syntax (2417930160.py, line 1)",
     "output_type": "error",
     "traceback": [
      "\u001b[1;36m  Cell \u001b[1;32mIn[10], line 1\u001b[1;36m\u001b[0m\n\u001b[1;33m    https://personal-portfolio-website-two-vert.vercel.app/\u001b[0m\n\u001b[1;37m          ^\u001b[0m\n\u001b[1;31mSyntaxError\u001b[0m\u001b[1;31m:\u001b[0m invalid syntax\n"
     ]
    }
   ],
   "source": []
  },
  {
   "cell_type": "code",
   "execution_count": 11,
   "id": "ce2b2a17",
   "metadata": {},
   "outputs": [],
   "source": [
    "words = [\"apple\" ,\"computer\" ,\"science\" ,\"learning\" ,\"python\" ,\"data\" ,\"cloud\" ,\"network\" ,\"algorithm\" ,\"future\"]"
   ]
  },
  {
   "cell_type": "code",
   "execution_count": 12,
   "id": "d71385b1",
   "metadata": {},
   "outputs": [
    {
     "name": "stdout",
     "output_type": "stream",
     "text": [
      "apple----->apple\n",
      "computer----->computer\n",
      "science----->science\n",
      "learning----->learn\n",
      "python----->python\n",
      "data----->data\n",
      "cloud----->cloud\n",
      "network----->network\n",
      "algorithm----->algorithm\n",
      "future----->future\n"
     ]
    }
   ],
   "source": [
    "for word in words:\n",
    "    print(word + '----->' + lemmatizer1.lemmatize(word, pos='v'))"
   ]
  },
  {
   "cell_type": "code",
   "execution_count": 13,
   "id": "d1005196",
   "metadata": {},
   "outputs": [
    {
     "data": {
      "text/plain": [
       "'go'"
      ]
     },
     "execution_count": 13,
     "metadata": {},
     "output_type": "execute_result"
    }
   ],
   "source": [
    "lemmatizer1.lemmatize(\"goes\",pos = 'v')"
   ]
  },
  {
   "cell_type": "code",
   "execution_count": 14,
   "id": "331909c6",
   "metadata": {},
   "outputs": [
    {
     "data": {
      "text/plain": [
       "'fairly'"
      ]
     },
     "execution_count": 14,
     "metadata": {},
     "output_type": "execute_result"
    }
   ],
   "source": [
    "lemmatizer1.lemmatize('fairly',pos='v')"
   ]
  },
  {
   "cell_type": "code",
   "execution_count": 15,
   "id": "e7bfa736",
   "metadata": {},
   "outputs": [
    {
     "data": {
      "text/plain": [
       "'sportingly'"
      ]
     },
     "execution_count": 15,
     "metadata": {},
     "output_type": "execute_result"
    }
   ],
   "source": [
    "lemmatizer1.lemmatize('sportingly',pos = 'a')"
   ]
  },
  {
   "cell_type": "code",
   "execution_count": null,
   "id": "8c23bbb1",
   "metadata": {},
   "outputs": [],
   "source": []
  }
 ],
 "metadata": {
  "kernelspec": {
   "display_name": "base",
   "language": "python",
   "name": "python3"
  },
  "language_info": {
   "codemirror_mode": {
    "name": "ipython",
    "version": 3
   },
   "file_extension": ".py",
   "mimetype": "text/x-python",
   "name": "python",
   "nbconvert_exporter": "python",
   "pygments_lexer": "ipython3",
   "version": "3.12.7"
  }
 },
 "nbformat": 4,
 "nbformat_minor": 5
}
