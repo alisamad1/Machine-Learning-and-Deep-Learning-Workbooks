{
 "cells": [
  {
   "cell_type": "markdown",
   "id": "22bb3361",
   "metadata": {},
   "source": [
    "## Stemming\n",
    "stemming is the process of reducing a word to its word stem that affixes are attached to. Stemming is a simple process that is not as accurate as lemmatization. Stemmuing is important in natural language understanding (NLU) and natural language processing (NLP)."
   ]
  },
  {
   "cell_type": "code",
   "execution_count": 1,
   "id": "4b582036",
   "metadata": {},
   "outputs": [],
   "source": [
    "## Classification Problem\n",
    "## Comment of Product is a positive review or negative review\n",
    "## Reviews are classifying as positive or negative"
   ]
  },
  {
   "cell_type": "code",
   "execution_count": 2,
   "id": "4a82a45a",
   "metadata": {},
   "outputs": [],
   "source": [
    "words = [\"apple\" ,\"computer\" ,\"science\" ,\"learning\" ,\"python\" ,\"data\" ,\"cloud\" ,\"network\" ,\"algorithm\" ,\"future\"]"
   ]
  },
  {
   "cell_type": "markdown",
   "id": "173106d7",
   "metadata": {},
   "source": [
    "## PostStemmer"
   ]
  },
  {
   "cell_type": "code",
   "execution_count": 3,
   "id": "36eaeb26",
   "metadata": {},
   "outputs": [],
   "source": [
    "from nltk.stem import PorterStemmer"
   ]
  },
  {
   "cell_type": "code",
   "execution_count": 4,
   "id": "fdd58e5f",
   "metadata": {},
   "outputs": [],
   "source": [
    "stemming = PorterStemmer()"
   ]
  },
  {
   "cell_type": "code",
   "execution_count": 8,
   "id": "a2dbe584",
   "metadata": {},
   "outputs": [
    {
     "name": "stdout",
     "output_type": "stream",
     "text": [
      "apple----->appl\n",
      "computer----->comput\n",
      "science----->scienc\n",
      "learning----->learn\n",
      "python----->python\n",
      "data----->data\n",
      "cloud----->cloud\n",
      "network----->network\n",
      "algorithm----->algorithm\n",
      "future----->futur\n"
     ]
    }
   ],
   "source": [
    "for word in words:\n",
    "    print(word + \"----->\" + stemming.stem(word))"
   ]
  },
  {
   "cell_type": "code",
   "execution_count": 9,
   "id": "a7fbb082",
   "metadata": {},
   "outputs": [
    {
     "data": {
      "text/plain": [
       "'congratul'"
      ]
     },
     "execution_count": 9,
     "metadata": {},
     "output_type": "execute_result"
    }
   ],
   "source": [
    "stemming.stem(\"Congratulations\")"
   ]
  },
  {
   "cell_type": "code",
   "execution_count": 10,
   "id": "58fe5d5b",
   "metadata": {},
   "outputs": [
    {
     "data": {
      "text/plain": [
       "'sit'"
      ]
     },
     "execution_count": 10,
     "metadata": {},
     "output_type": "execute_result"
    }
   ],
   "source": [
    "stemming.stem(\"sitting\")"
   ]
  },
  {
   "cell_type": "markdown",
   "id": "264c48f3",
   "metadata": {},
   "source": [
    "## RegexStemmer Class"
   ]
  },
  {
   "cell_type": "code",
   "execution_count": 11,
   "id": "2d198ae8",
   "metadata": {},
   "outputs": [],
   "source": [
    "from nltk.stem import RegexpStemmer"
   ]
  },
  {
   "cell_type": "code",
   "execution_count": 14,
   "id": "7dcdb899",
   "metadata": {},
   "outputs": [],
   "source": [
    "reg_stemmer = RegexpStemmer('ing$|s$|e$|able$', min = 4)"
   ]
  },
  {
   "cell_type": "code",
   "execution_count": 15,
   "id": "0b776a0f",
   "metadata": {},
   "outputs": [
    {
     "data": {
      "text/plain": [
       "'eat'"
      ]
     },
     "execution_count": 15,
     "metadata": {},
     "output_type": "execute_result"
    }
   ],
   "source": [
    "reg_stemmer.stem(\"eating\")"
   ]
  },
  {
   "cell_type": "code",
   "execution_count": 16,
   "id": "b89b67eb",
   "metadata": {},
   "outputs": [
    {
     "data": {
      "text/plain": [
       "'ingeat'"
      ]
     },
     "execution_count": 16,
     "metadata": {},
     "output_type": "execute_result"
    }
   ],
   "source": [
    "reg_stemmer.stem(\"ingeating\")"
   ]
  },
  {
   "cell_type": "markdown",
   "id": "028c8679",
   "metadata": {},
   "source": [
    "## Snow Ball Stemmer"
   ]
  },
  {
   "cell_type": "code",
   "execution_count": 17,
   "id": "9175c887",
   "metadata": {},
   "outputs": [],
   "source": [
    "from nltk.stem import SnowballStemmer"
   ]
  },
  {
   "cell_type": "code",
   "execution_count": 18,
   "id": "42e26dd7",
   "metadata": {},
   "outputs": [],
   "source": [
    "SnowBallStemmer = SnowballStemmer(\"english\")"
   ]
  },
  {
   "cell_type": "code",
   "execution_count": 22,
   "id": "87895aba",
   "metadata": {},
   "outputs": [
    {
     "name": "stdout",
     "output_type": "stream",
     "text": [
      "apple----->appl\n",
      "computer----->comput\n",
      "science----->scienc\n",
      "learning----->learn\n",
      "python----->python\n",
      "data----->data\n",
      "cloud----->cloud\n",
      "network----->network\n",
      "algorithm----->algorithm\n",
      "future----->futur\n"
     ]
    }
   ],
   "source": [
    "for word in words:\n",
    "    print(word + \"----->\" + SnowBallStemmer.stem(word))"
   ]
  },
  {
   "cell_type": "code",
   "execution_count": 23,
   "id": "d35105af",
   "metadata": {},
   "outputs": [
    {
     "data": {
      "text/plain": [
       "('fairli', 'sportingli')"
      ]
     },
     "execution_count": 23,
     "metadata": {},
     "output_type": "execute_result"
    }
   ],
   "source": [
    "stemming.stem(\"fairly\") , stemming.stem(\"sportingly\")"
   ]
  },
  {
   "cell_type": "code",
   "execution_count": 24,
   "id": "4b0898e2",
   "metadata": {},
   "outputs": [
    {
     "data": {
      "text/plain": [
       "'fair'"
      ]
     },
     "execution_count": 24,
     "metadata": {},
     "output_type": "execute_result"
    }
   ],
   "source": [
    "SnowBallStemmer.stem(\"fairly\")"
   ]
  },
  {
   "cell_type": "code",
   "execution_count": 25,
   "id": "559a9f73",
   "metadata": {},
   "outputs": [
    {
     "data": {
      "text/plain": [
       "'sport'"
      ]
     },
     "execution_count": 25,
     "metadata": {},
     "output_type": "execute_result"
    }
   ],
   "source": [
    "SnowBallStemmer.stem(\"Sportingly\")"
   ]
  },
  {
   "cell_type": "code",
   "execution_count": null,
   "id": "da4c98e6",
   "metadata": {},
   "outputs": [],
   "source": []
  }
 ],
 "metadata": {
  "kernelspec": {
   "display_name": "base",
   "language": "python",
   "name": "python3"
  },
  "language_info": {
   "codemirror_mode": {
    "name": "ipython",
    "version": 3
   },
   "file_extension": ".py",
   "mimetype": "text/x-python",
   "name": "python",
   "nbconvert_exporter": "python",
   "pygments_lexer": "ipython3",
   "version": "3.12.7"
  }
 },
 "nbformat": 4,
 "nbformat_minor": 5
}
