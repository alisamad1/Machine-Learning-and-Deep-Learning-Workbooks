{
 "cells": [
  {
   "cell_type": "markdown",
   "id": "4b05437d",
   "metadata": {},
   "source": [
    "## Polymorphism\n",
    "Polymorphism is a core concept in Object-Oriented Programming (OOP) that allows object of different classes to be treated as objects of a common superclass. It provides a way to perform a single action in different forms. Polymorphism is typically achieved through method overridding and interfaces."
   ]
  },
  {
   "cell_type": "markdown",
   "id": "48e7fc5e",
   "metadata": {},
   "source": [
    "## Method Overriding\n",
    "Method Overriding allows a child to provide a specific implementation of a method that is already defined in its parent class\n"
   ]
  },
  {
   "cell_type": "code",
   "execution_count": 4,
   "id": "6dcd79be",
   "metadata": {},
   "outputs": [
    {
     "name": "stdout",
     "output_type": "stream",
     "text": [
      "Woof!\n",
      "Meow\n",
      "Woof!\n"
     ]
    }
   ],
   "source": [
    "## Base Class\n",
    "class Animal:\n",
    "    def speak(self):\n",
    "        return \"Sound of the Animal\"\n",
    "## Derived Class 1\n",
    "class Dog(Animal):\n",
    "    def speak(self):\n",
    "        return \"Woof!\"\n",
    "## Derived Class 3\n",
    "class Cat(Animal):\n",
    "    def speak(self):\n",
    "        return \"Meow\"\n",
    "## function that demonstrated Polymorphism\n",
    "def animal_speak(animal):\n",
    "    print(animal.speak())\n",
    "dog = Dog()\n",
    "cat = Cat()\n",
    "print(dog.speak())\n",
    "print(cat.speak())\n",
    "animal_speak(dog)"
   ]
  },
  {
   "cell_type": "code",
   "execution_count": 6,
   "id": "22f6ba6c",
   "metadata": {},
   "outputs": [
    {
     "name": "stdout",
     "output_type": "stream",
     "text": [
      "The area is 20\n",
      "The area is 113.03999999999999\n"
     ]
    }
   ],
   "source": [
    "## Polymorphism with functions and methods\n",
    "## Base Class \n",
    "class shape:\n",
    "    def area(self):\n",
    "        return \"the area of the figure\"\n",
    "## derived class 1\n",
    "class Rectangle(shape):\n",
    "    def __init__(self,width,height):\n",
    "        self.width = width\n",
    "        self.height = height\n",
    "    def area(self):\n",
    "        return self.width * self.height\n",
    "## derived class 2\n",
    "class Circle(shape):\n",
    "    def __init__(self,radius):\n",
    "        self.radius = radius\n",
    "    def area(self):\n",
    "        return 3.14 * self.radius * self.radius\n",
    "## Function that demonstates Polymorphism\n",
    "def print_area(shape):\n",
    "    print(f\"The area is {shape.area()}\")\n",
    "rectangle = Rectangle(4,5)\n",
    "circle = Circle(6)\n",
    "print_area(rectangle)\n",
    "print_area(circle)"
   ]
  },
  {
   "cell_type": "markdown",
   "id": "11d49be7",
   "metadata": {},
   "source": [
    "## Polymorphism with Abstract Base Classes\n",
    "Abstract Base Classes (ABCs) are used to define common methods for a group of related objects. They can enforce derived classes implement particular methods, promoting consistency across different implementation."
   ]
  },
  {
   "cell_type": "code",
   "execution_count": 9,
   "id": "520f412b",
   "metadata": {},
   "outputs": [
    {
     "name": "stdout",
     "output_type": "stream",
     "text": [
      "Car Engine Started\n"
     ]
    }
   ],
   "source": [
    "from abc import ABC, abstractmethod\n",
    "## define an abstract class\n",
    "class Vehicle(ABC):\n",
    "    @abstractmethod\n",
    "    def start_engine(self):\n",
    "        pass\n",
    "## derived class 1 \n",
    "class Car(Vehicle):\n",
    "    def start_engine(self):\n",
    "        return \"Car Engine Started\"\n",
    "## derived Class 2\n",
    "class Motorcycle(Vehicle):\n",
    "    def start_engine(self):\n",
    "        return \"MotorCycle Engine Started\"\n",
    "# function to demonstrate polymorphism\n",
    "def start_vehicle(Vehicle):\n",
    "    print(Vehicle.start_engine())\n",
    "## Create objects of car and motorcycle\n",
    "car = Car()\n",
    "motorcycle = Motorcycle()\n",
    "start_vehicle(car)\n"
   ]
  },
  {
   "cell_type": "markdown",
   "id": "6fdb97c8",
   "metadata": {},
   "source": [
    "## Conclusion\n",
    "Polymorphism is a powerful feature of OOP that allows for flexibility and integration in code design. It enables a single function to handle objects of different classes, each with its own implementation of method. By Understanding and applying polymorphism, you can create moren extensible and maintaianble object-oriented programs.\n"
   ]
  },
  {
   "cell_type": "markdown",
   "id": "47bf1dac",
   "metadata": {},
   "source": []
  }
 ],
 "metadata": {
  "kernelspec": {
   "display_name": "base",
   "language": "python",
   "name": "python3"
  },
  "language_info": {
   "codemirror_mode": {
    "name": "ipython",
    "version": 3
   },
   "file_extension": ".py",
   "mimetype": "text/x-python",
   "name": "python",
   "nbconvert_exporter": "python",
   "pygments_lexer": "ipython3",
   "version": "3.12.7"
  }
 },
 "nbformat": 4,
 "nbformat_minor": 5
}
