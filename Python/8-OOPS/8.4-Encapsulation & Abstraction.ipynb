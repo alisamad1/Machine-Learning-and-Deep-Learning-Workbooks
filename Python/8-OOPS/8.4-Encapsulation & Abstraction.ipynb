{
 "cells": [
  {
   "cell_type": "markdown",
   "id": "30ae337c",
   "metadata": {},
   "source": [
    "## Encapsulation and Abstraction\n",
    "Encsapsulation and Abstraction are two fundamental principles of Object Oriented Programming (OOP) that help in designing robust, maintainable, and reusable code. Encapsulation involves bundling data and methods that operate on the data within a single unit, while the abstraction involves hiding complex implementation details and exposing only and necessary features."
   ]
  },
  {
   "cell_type": "markdown",
   "id": "db5a9457",
   "metadata": {},
   "source": [
    "## Encapsulation\n",
    "Encapsulation is the concept of wrapping data(variables) and methods(functions) together as a single unit. It restricts direct access to some of the object's components, which is a means of preventing accidental inteference and misuse of data."
   ]
  },
  {
   "cell_type": "code",
   "execution_count": 7,
   "id": "8353555f",
   "metadata": {},
   "outputs": [
    {
     "name": "stdout",
     "output_type": "stream",
     "text": [
      "Ali Samad\n",
      "20\n"
     ]
    }
   ],
   "source": [
    "## Encapsulation with Getter and setter methods\n",
    "## Public, Protected, Private Variables\n",
    "class Person:\n",
    "    def __init__(self,name,age):\n",
    "        self.name = name   ##public variable\n",
    "        self.age = age\n",
    "    def get_name(person):\n",
    "        return Person.name\n",
    "person = Person(\"Ali Samad\", 20)\n",
    "print(person.name)\n",
    "print(person.age)"
   ]
  },
  {
   "cell_type": "code",
   "execution_count": 5,
   "id": "f44c882a",
   "metadata": {},
   "outputs": [
    {
     "data": {
      "text/plain": [
       "['__class__',\n",
       " '__delattr__',\n",
       " '__dict__',\n",
       " '__dir__',\n",
       " '__doc__',\n",
       " '__eq__',\n",
       " '__format__',\n",
       " '__ge__',\n",
       " '__getattribute__',\n",
       " '__getstate__',\n",
       " '__gt__',\n",
       " '__hash__',\n",
       " '__init__',\n",
       " '__init_subclass__',\n",
       " '__le__',\n",
       " '__lt__',\n",
       " '__module__',\n",
       " '__ne__',\n",
       " '__new__',\n",
       " '__reduce__',\n",
       " '__reduce_ex__',\n",
       " '__repr__',\n",
       " '__setattr__',\n",
       " '__sizeof__',\n",
       " '__str__',\n",
       " '__subclasshook__',\n",
       " '__weakref__',\n",
       " 'age',\n",
       " 'name']"
      ]
     },
     "execution_count": 5,
     "metadata": {},
     "output_type": "execute_result"
    }
   ],
   "source": [
    "dir(person)"
   ]
  },
  {
   "cell_type": "markdown",
   "id": "aa432720",
   "metadata": {},
   "source": [
    "## Private Variable\n",
    "you cannot access outside the class"
   ]
  },
  {
   "cell_type": "code",
   "execution_count": 19,
   "id": "e156285d",
   "metadata": {},
   "outputs": [],
   "source": [
    "class Person:\n",
    "    def __init__(self,name,age,gender):\n",
    "        self.__name = name   ##private variable\n",
    "        self.__age = age     ##private variable\n",
    "        self.gender = gender\n",
    "    def get_name(person):\n",
    "        return person.__name\n",
    "    person = Person(\"Ali\", 20, \"Male\")\n",
    "    get_name(person)"
   ]
  },
  {
   "cell_type": "code",
   "execution_count": 21,
   "id": "eeac987d",
   "metadata": {},
   "outputs": [
    {
     "data": {
      "text/plain": [
       "['_Person__age',\n",
       " '_Person__name',\n",
       " '__class__',\n",
       " '__delattr__',\n",
       " '__dict__',\n",
       " '__dir__',\n",
       " '__doc__',\n",
       " '__eq__',\n",
       " '__format__',\n",
       " '__ge__',\n",
       " '__getattribute__',\n",
       " '__getstate__',\n",
       " '__gt__',\n",
       " '__hash__',\n",
       " '__init__',\n",
       " '__init_subclass__',\n",
       " '__le__',\n",
       " '__lt__',\n",
       " '__module__',\n",
       " '__ne__',\n",
       " '__new__',\n",
       " '__reduce__',\n",
       " '__reduce_ex__',\n",
       " '__repr__',\n",
       " '__setattr__',\n",
       " '__sizeof__',\n",
       " '__str__',\n",
       " '__subclasshook__',\n",
       " '__weakref__',\n",
       " 'gender',\n",
       " 'get_name',\n",
       " 'person']"
      ]
     },
     "execution_count": 21,
     "metadata": {},
     "output_type": "execute_result"
    }
   ],
   "source": [
    "dir(person)"
   ]
  },
  {
   "cell_type": "code",
   "execution_count": 5,
   "id": "d78443d5",
   "metadata": {},
   "outputs": [
    {
     "ename": "NameError",
     "evalue": "name 'Person' is not defined",
     "output_type": "error",
     "traceback": [
      "\u001b[1;31m---------------------------------------------------------------------------\u001b[0m",
      "\u001b[1;31mNameError\u001b[0m                                 Traceback (most recent call last)",
      "Cell \u001b[1;32mIn[5], line 1\u001b[0m\n\u001b[1;32m----> 1\u001b[0m \u001b[38;5;28;01mclass\u001b[39;00m \u001b[38;5;21;01mPerson\u001b[39;00m:\n\u001b[0;32m      2\u001b[0m     \u001b[38;5;28;01mdef\u001b[39;00m \u001b[38;5;21m__init__\u001b[39m(\u001b[38;5;28mself\u001b[39m,name,age,gender):\n\u001b[0;32m      3\u001b[0m         \u001b[38;5;28mself\u001b[39m\u001b[38;5;241m.\u001b[39m_name \u001b[38;5;241m=\u001b[39m name   \u001b[38;5;66;03m##protected variable\u001b[39;00m\n",
      "Cell \u001b[1;32mIn[5], line 6\u001b[0m, in \u001b[0;36mPerson\u001b[1;34m()\u001b[0m\n\u001b[0;32m      4\u001b[0m     \u001b[38;5;28mself\u001b[39m\u001b[38;5;241m.\u001b[39m_age \u001b[38;5;241m=\u001b[39m age     \u001b[38;5;66;03m##protected variable\u001b[39;00m\n\u001b[0;32m      5\u001b[0m     \u001b[38;5;28mself\u001b[39m\u001b[38;5;241m.\u001b[39mgender \u001b[38;5;241m=\u001b[39m gender\n\u001b[1;32m----> 6\u001b[0m \u001b[38;5;28;01mclass\u001b[39;00m \u001b[38;5;21;01mEmployee\u001b[39;00m(Person):\n\u001b[0;32m      7\u001b[0m     \u001b[38;5;28;01mdef\u001b[39;00m \u001b[38;5;21m__init__\u001b[39m(\u001b[38;5;28mself\u001b[39m,name,age,gender):\n\u001b[0;32m      8\u001b[0m         \u001b[38;5;28msuper\u001b[39m()\u001b[38;5;241m.\u001b[39m\u001b[38;5;21m__init__\u001b[39m(\u001b[38;5;28mself\u001b[39m,name,age,gender)\n",
      "\u001b[1;31mNameError\u001b[0m: name 'Person' is not defined"
     ]
    }
   ],
   "source": [
    "class Person:\n",
    "    def __init__(self,name,age,gender):\n",
    "        self._name = name   ##protected variable\n",
    "        self._age = age     ##protected variable\n",
    "        self.gender = gender\n",
    "    class Employee(Person):\n",
    "        def __init__(self,name,age,gender):\n",
    "            super().__init__(self,name,age,gender)\n",
    "    employee = Employee(\"Ali\", 20, \"Male\")\n",
    "    print(employee,name)\n"
   ]
  },
  {
   "cell_type": "code",
   "execution_count": 9,
   "id": "728d9e87",
   "metadata": {},
   "outputs": [
    {
     "ename": "TypeError",
     "evalue": "Person() takes no arguments",
     "output_type": "error",
     "traceback": [
      "\u001b[1;31m---------------------------------------------------------------------------\u001b[0m",
      "\u001b[1;31mTypeError\u001b[0m                                 Traceback (most recent call last)",
      "Cell \u001b[1;32mIn[9], line 2\u001b[0m\n\u001b[0;32m      1\u001b[0m \u001b[38;5;66;03m## Encapsulation with getter and setter method\u001b[39;00m\n\u001b[1;32m----> 2\u001b[0m \u001b[38;5;28;01mclass\u001b[39;00m \u001b[38;5;21;01mPerson\u001b[39;00m:\n\u001b[0;32m      3\u001b[0m     \u001b[38;5;28;01mdef\u001b[39;00m \u001b[38;5;21m__init\u001b[39m(\u001b[38;5;28mself\u001b[39m,name,age):\n\u001b[0;32m      4\u001b[0m         \u001b[38;5;28mself\u001b[39m\u001b[38;5;241m.\u001b[39m__name \u001b[38;5;241m=\u001b[39m name\n",
      "Cell \u001b[1;32mIn[9], line 18\u001b[0m, in \u001b[0;36mPerson\u001b[1;34m()\u001b[0m\n\u001b[0;32m     16\u001b[0m     \u001b[38;5;28;01melse\u001b[39;00m: \n\u001b[0;32m     17\u001b[0m         \u001b[38;5;28mprint\u001b[39m(\u001b[38;5;124m\"\u001b[39m\u001b[38;5;124mage cannot be negative\u001b[39m\u001b[38;5;124m\"\u001b[39m)\n\u001b[1;32m---> 18\u001b[0m person \u001b[38;5;241m=\u001b[39m Person(\u001b[38;5;124m\"\u001b[39m\u001b[38;5;124mAli\u001b[39m\u001b[38;5;124m\"\u001b[39m, \u001b[38;5;241m20\u001b[39m)\n\u001b[0;32m     19\u001b[0m \u001b[38;5;28mprint\u001b[39m(person\u001b[38;5;241m.\u001b[39mget_name())\n\u001b[0;32m     20\u001b[0m \u001b[38;5;28mprint\u001b[39m(perosn\u001b[38;5;241m.\u001b[39mget_age())\n",
      "\u001b[1;31mTypeError\u001b[0m: Person() takes no arguments"
     ]
    }
   ],
   "source": [
    "## Encapsulation with getter and setter method\n",
    "class Person:\n",
    "    def __init(self,name,age):\n",
    "        self.__name = name\n",
    "        self.__age = age\n",
    "        #getter method for name:\n",
    "    def get_name(self):\n",
    "        return self.__name \n",
    "    ## setter mehthod for main\n",
    "    def set_name(self,name):\n",
    "        self.__name = name\n",
    "    # getter method for age\n",
    "    def get_age(self,age):\n",
    "        if age > 0:\n",
    "            self.__age = age\n",
    "        else: \n",
    "            print(\"age cannot be negative\")\n",
    "    person = Person(\"Ali\", 20)\n",
    "    print(person.get_name())\n",
    "    print(perosn.get_age())\n",
    "    person.set_age(35)\n",
    "    print(person.get_age())\n",
    "    person.set_age(-4)"
   ]
  },
  {
   "cell_type": "code",
   "execution_count": null,
   "id": "a3d14c42",
   "metadata": {},
   "outputs": [],
   "source": []
  }
 ],
 "metadata": {
  "kernelspec": {
   "display_name": "base",
   "language": "python",
   "name": "python3"
  },
  "language_info": {
   "codemirror_mode": {
    "name": "ipython",
    "version": 3
   },
   "file_extension": ".py",
   "mimetype": "text/x-python",
   "name": "python",
   "nbconvert_exporter": "python",
   "pygments_lexer": "ipython3",
   "version": "3.12.7"
  }
 },
 "nbformat": 4,
 "nbformat_minor": 5
}
