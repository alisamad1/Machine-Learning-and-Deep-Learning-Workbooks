{
 "cells": [
  {
   "cell_type": "markdown",
   "id": "de2266fd",
   "metadata": {},
   "source": [
    "## Inheritance in Python\n",
    "Inheritance is a fundamental concept in Object Oriented Programming (OOP) that allows a class to inherit attributes and methods from another class. This lesson covers single inheritance and multiple inheritance,demonstrating how to create and use them in Python."
   ]
  },
  {
   "cell_type": "code",
   "execution_count": 1,
   "id": "2f62f58a",
   "metadata": {},
   "outputs": [],
   "source": [
    "# Inheritance \n",
    "## Parent Class\n",
    "class Car:\n",
    "    def __init__(self,windows,doors,enginetype):\n",
    "        self.windows = windows\n",
    "        self.doors = doors\n",
    "        self.enginetype = enginetype\n",
    "    def drive(self):\n",
    "        print(f\"the person will drive the {self.enginetype} car\")"
   ]
  },
  {
   "cell_type": "code",
   "execution_count": null,
   "id": "473598da",
   "metadata": {},
   "outputs": [
    {
     "name": "stdout",
     "output_type": "stream",
     "text": [
      "the person will drive the Petrol car\n",
      "None\n",
      "the person will drive the 95 fuel car\n",
      "None\n"
     ]
    }
   ],
   "source": [
    "car_1 = Car(4,5,\"Petrol\")\n",
    "car_2 = Car(2,2, \"95 fuel\")\n",
    "print(car_1.drive())\n",
    "print(car_2.drive())4"
   ]
  },
  {
   "cell_type": "code",
   "execution_count": 5,
   "id": "8af668b4",
   "metadata": {},
   "outputs": [],
   "source": [
    "class Tesla(Car):\n",
    "    def __init__(self,windows, doors,enginetype,is_selfdriving):\n",
    "        super().__init__(windows,doors,enginetype)\n",
    "        self.is_selfdriving = is_selfdriving\n",
    "    def self_driving(self):\n",
    "        print(f\"the tesla supports self driving {self.is_selfdriving}\")"
   ]
  },
  {
   "cell_type": "code",
   "execution_count": 8,
   "id": "f5bca383",
   "metadata": {},
   "outputs": [
    {
     "name": "stdout",
     "output_type": "stream",
     "text": [
      "the tesla supports self driving True\n"
     ]
    }
   ],
   "source": [
    "Tesla_1 = Tesla(4,5,\"electric\",True)\n",
    "Tesla_1.self_driving()"
   ]
  },
  {
   "cell_type": "code",
   "execution_count": 9,
   "id": "691b7eb7",
   "metadata": {},
   "outputs": [
    {
     "name": "stdout",
     "output_type": "stream",
     "text": [
      "the person will drive the electric car\n"
     ]
    }
   ],
   "source": [
    "Tesla_1.drive()"
   ]
  },
  {
   "cell_type": "code",
   "execution_count": 16,
   "id": "9e2d3752",
   "metadata": {},
   "outputs": [
    {
     "name": "stdout",
     "output_type": "stream",
     "text": [
      "Dogesh says woof\n",
      "Owner Arhaan\n"
     ]
    }
   ],
   "source": [
    "## Multipe Inheritance\n",
    "## when a class inherits more than one base class\n",
    "## base class 1\n",
    "class Animal:\n",
    "    def __init__(self, name):\n",
    "        self.name = name\n",
    "    def speak(self):\n",
    "        print(\"subclass must implement this method\")\n",
    "## base class 2\n",
    "class pet:\n",
    "    def __init__(self,owner):\n",
    "        self.owner = owner\n",
    "# Derived Class\n",
    "class Dog(Animal,pet):\n",
    "    def __init__(self,name,owner):\n",
    "        Animal.__init__(self,name)\n",
    "        pet.__init__(self,owner)   \n",
    "    def speak(self):\n",
    "        return f\"{self.name} says woof\"\n",
    "## Creating an Object\n",
    "Doggy = Dog(\"Dogesh\" , \"Arhaan\")\n",
    "print(Doggy.speak())\n",
    "print(f\"Owner {Doggy.owner}\")\n"
   ]
  },
  {
   "cell_type": "code",
   "execution_count": null,
   "id": "d390df0c",
   "metadata": {},
   "outputs": [],
   "source": []
  }
 ],
 "metadata": {
  "kernelspec": {
   "display_name": "base",
   "language": "python",
   "name": "python3"
  },
  "language_info": {
   "codemirror_mode": {
    "name": "ipython",
    "version": 3
   },
   "file_extension": ".py",
   "mimetype": "text/x-python",
   "name": "python",
   "nbconvert_exporter": "python",
   "pygments_lexer": "ipython3",
   "version": "3.12.7"
  }
 },
 "nbformat": 4,
 "nbformat_minor": 5
}
