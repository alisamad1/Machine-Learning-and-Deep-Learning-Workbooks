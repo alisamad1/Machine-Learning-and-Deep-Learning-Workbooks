{
 "cells": [
  {
   "cell_type": "markdown",
   "id": "15ce74ee",
   "metadata": {},
   "source": [
    "### Operator Overloading\n",
    "Operator Overloading allows you to define the behaviour of operators(+,-.*,etc) for custom objects. You achieve this by overriding specific magic methods in your class."
   ]
  },
  {
   "cell_type": "code",
   "execution_count": 4,
   "id": "73f76fae",
   "metadata": {},
   "outputs": [
    {
     "data": {
      "text/plain": [
       "'\\n__add__(self,other): Adds two objects using the + operator\\n__sub__(self,other) : Subtracts two objects using the - operator.\\n__mul__(self,other) : Multiplies two objects using the * operator.\\n__truediv__(self,other): Divides the two objects using the / operator.\\n__eq__(self,other) : Checks if the two objects are equal using the == operator.__lt__(self,other): Checks if one object is less than another using the < operator.\\n'"
      ]
     },
     "execution_count": 4,
     "metadata": {},
     "output_type": "execute_result"
    }
   ],
   "source": [
    "### common operator overloading Magic Methods\n",
    "'''\n",
    "__add__(self,other): Adds two objects using the + operator\n",
    "__sub__(self,other) : Subtracts two objects using the - operator.\n",
    "__mul__(self,other) : Multiplies two objects using the * operator.\n",
    "__truediv__(self,other): Divides the two objects using the / operator.\n",
    "__eq__(self,other) : Checks if the two objects are equal using the == operator.\\\n",
    "__lt__(self,other): Checks if one object is less than another using the < operator.\n",
    "'''"
   ]
  },
  {
   "cell_type": "code",
   "execution_count": 18,
   "id": "c5ecb344",
   "metadata": {},
   "outputs": [
    {
     "name": "stdout",
     "output_type": "stream",
     "text": [
      "Vector(4, 7)\n",
      "Vector(0, 1)\n",
      "Vector(4, 12)\n",
      "Vector(1.0, 1.3333333333333333)\n",
      "(True, False)\n"
     ]
    }
   ],
   "source": [
    "##Mathematical\n",
    "class Vector:\n",
    "    def __init__(self,x,y):\n",
    "        self.x = x\n",
    "        self.y = y\n",
    "    def __add__(self,other):\n",
    "        return Vector(self.x + other.x, self.y + other.y)\n",
    "    def __sub__(self,other):\n",
    "        return Vector(self.x - other.x, self.y - other.y)\n",
    "    def __mul__(self,other):\n",
    "        return Vector(self.x * other.x, self.y * other.y)\n",
    "    def __truediv__(self,other):\n",
    "        return Vector(self.x / other.x, self.y / other.y)\n",
    "    def __eq__(self,other):\n",
    "        return self.x == other.x, self.y == other.y\n",
    "    def __repr__(self):\n",
    "        return f\"Vector({self.x}, {self.y})\"\n",
    "## create objects of a vector class\n",
    "v1=Vector(2, 4)\n",
    "v2=Vector(2, 3)\n",
    "print(v1+v2)\n",
    "print(v1-v2)\n",
    "print(v1*v2)\n",
    "print(v1/v2)\n",
    "print(v1==v2)"
   ]
  },
  {
   "cell_type": "code",
   "execution_count": 27,
   "id": "85eaf793",
   "metadata": {},
   "outputs": [
    {
     "name": "stdout",
     "output_type": "stream",
     "text": [
      "8 + 10 i\n",
      "-2 + -8 i\n",
      "6 + 20 i\n",
      "False\n"
     ]
    }
   ],
   "source": [
    "##Operator Overloading for Complex Numbers\n",
    "class complexNumber:\n",
    "    def __init__(self,real,imag):\n",
    "        self.real = real\n",
    "        self.imag = imag\n",
    "    def __add__(self,other):\n",
    "        return complexNumber(self.real + other.real, self.imag + other.imag)\n",
    "    def __sub__(self,other):\n",
    "        return complexNumber(self.real - other.real, self.imag - other.imag)\n",
    "    def __mul__(self,other):\n",
    "        real_part = self.real * other.real - self.imag * other.imag\n",
    "        imag_part = self.real * other.real + self.imag * other.real\n",
    "        return complexNumber(real_part, imag_part)\n",
    "    def __truediv___(self,other):\n",
    "        denominator = other.real**2 + other.imag**2\n",
    "        real_part = (self.real * other.real - self.imag * other.imag)\n",
    "        imag_part = (self.imag * other.real + self.real * other.imag)\n",
    "        return complexNumber(real_part, imag_part)\n",
    "    def __eq__(self,other):\n",
    "        return self.real == other.real and self.imag == other.imag\n",
    "    def __repr__(self):\n",
    "        return f\"{self.real} + {self.imag} i\"\n",
    "## creating objects of the complex number class\n",
    "c1 = complexNumber(3,1)\n",
    "c2 = complexNumber(5,9)\n",
    "print(c1+c2)\n",
    "print(c1-c2)\n",
    "print(c1*c2)\n",
    "print(c1==c2)"
   ]
  }
 ],
 "metadata": {
  "kernelspec": {
   "display_name": "base",
   "language": "python",
   "name": "python3"
  },
  "language_info": {
   "codemirror_mode": {
    "name": "ipython",
    "version": 3
   },
   "file_extension": ".py",
   "mimetype": "text/x-python",
   "name": "python",
   "nbconvert_exporter": "python",
   "pygments_lexer": "ipython3",
   "version": "3.12.7"
  }
 },
 "nbformat": 4,
 "nbformat_minor": 5
}
