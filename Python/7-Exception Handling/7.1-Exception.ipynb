{
 "cells": [
  {
   "cell_type": "markdown",
   "id": "0e6bea27",
   "metadata": {},
   "source": [
    "## Understanding Exceptions \n",
    "Exception Handling in Python allows you to handle errors gracefully and take corrective actions without stopping the executions of the program. This lesson will cover the basics of exceptions, including how to use try, except and finally blocks"
   ]
  },
  {
   "cell_type": "markdown",
   "id": "f2166b09",
   "metadata": {},
   "source": [
    "What are Exceptions?\n"
   ]
  },
  {
   "cell_type": "markdown",
   "id": "fa6dccca",
   "metadata": {},
   "source": [
    "Exceptions are events that disrupts the normal flow of a program.They occur when an error is encountered during program execution.Common Exceptions include:\n",
    "1.ZeroDivisionError : Dividing by Zero\n",
    "2.FileNotFoundError : File Not Found\n",
    "3.ValueError : Invalid Value"
   ]
  },
  {
   "cell_type": "code",
   "execution_count": 13,
   "id": "abfb1b0c",
   "metadata": {},
   "outputs": [],
   "source": [
    "## Exception try, except block\n",
    "try:\n",
    "    a = b\n",
    "except NameError as ex:\n",
    "    print(ex)"
   ]
  },
  {
   "cell_type": "code",
   "execution_count": 12,
   "id": "09010f35",
   "metadata": {},
   "outputs": [],
   "source": [
    "a = b"
   ]
  },
  {
   "cell_type": "code",
   "execution_count": 19,
   "id": "54d7c540",
   "metadata": {},
   "outputs": [
    {
     "name": "stdout",
     "output_type": "stream",
     "text": [
      "division by zero\n",
      "please enter the denominator greater than 0\n"
     ]
    }
   ],
   "source": [
    "try: \n",
    "    result = 1/0\n",
    "except ZeroDivisionError as ex:\n",
    "    print(ex)\n",
    "    print(\"please enter the denominator greater than 0\")"
   ]
  },
  {
   "cell_type": "code",
   "execution_count": 24,
   "id": "2531d417",
   "metadata": {},
   "outputs": [
    {
     "name": "stdout",
     "output_type": "stream",
     "text": [
      "name 'd' is not defined\n",
      "main exception got caught here\n"
     ]
    }
   ],
   "source": [
    "try:\n",
    "    result = 1/2\n",
    "    c = d\n",
    "except ZeroDivisionError as ex:\n",
    "    print(ex)\n",
    "    print(\"Please enter the denominator greater than 0\")\n",
    "except Exception as ex1:\n",
    "    print(ex1)\n",
    "    print(\"main exception got caught here\")"
   ]
  },
  {
   "cell_type": "code",
   "execution_count": 30,
   "id": "a8da4414",
   "metadata": {},
   "outputs": [
    {
     "name": "stdout",
     "output_type": "stream",
     "text": [
      "-10.0\n"
     ]
    }
   ],
   "source": [
    "try:\n",
    "    num = int(input(\"enter a number: \"))\n",
    "    result = 10/num\n",
    "except ValueError :\n",
    "    print(\"this is not a valid number\")\n",
    "except ZeroDivisionError :\n",
    "    print(\"enter denominator greater than zero\")\n",
    "except Exception as ex:\n",
    "    print(ex)\n",
    "print(result)"
   ]
  },
  {
   "cell_type": "code",
   "execution_count": 33,
   "id": "f050bcb8",
   "metadata": {},
   "outputs": [
    {
     "name": "stdout",
     "output_type": "stream",
     "text": [
      "this is not a valid number\n"
     ]
    }
   ],
   "source": [
    "## try, except and else block\n",
    "try: \n",
    "    num = int(input(\"enter the number: \"))\n",
    "    result = 10/num\n",
    "except ValueError:\n",
    "    print(\"this is not a valid number\")\n",
    "except ZeroDivisionError :\n",
    "    print(\"ENter denominator greater than zer0\")\n",
    "except Exception as ex:\n",
    "    print(ex)\n",
    "else:\n",
    "    print(f\"the result is\", result)"
   ]
  },
  {
   "cell_type": "code",
   "execution_count": 40,
   "id": "5036474c",
   "metadata": {},
   "outputs": [
    {
     "name": "stdout",
     "output_type": "stream",
     "text": [
      "the result is 0.5555555555555556\n",
      "execution complete\n"
     ]
    }
   ],
   "source": [
    "## try,except,else and finally\n",
    "try: \n",
    "    num = int(input(\"enter the number: \"))\n",
    "    result = 10 / num\n",
    "except ValueError:\n",
    "    print(\"this is not a valid number\")\n",
    "except ZeroDivisionError :\n",
    "    print(\"ENter denominator greater than zer0\")\n",
    "except Exception as ex:\n",
    "    print(ex)\n",
    "else:\n",
    "    print(f\"the result is\", result)\n",
    "finally:\n",
    "    print(f\"execution complete\")"
   ]
  },
  {
   "cell_type": "code",
   "execution_count": null,
   "id": "a33fccdc",
   "metadata": {},
   "outputs": [
    {
     "name": "stdout",
     "output_type": "stream",
     "text": [
      "the file does not exists\n"
     ]
    }
   ],
   "source": [
    "## File handling and Exception Handlings\n",
    "try:\n",
    "    file = open(\"example1.txt\", 'r') \n",
    "    content = file.read()\n",
    "except FileNotFoundError:\n",
    "    print(\"the file does not exists\")\n",
    "finally:\n",
    "    if 'file' in locals() and not file.closed():\n",
    "        file.close()\n",
    "        print('file closed')"
   ]
  },
  {
   "cell_type": "code",
   "execution_count": null,
   "id": "82e5114c",
   "metadata": {},
   "outputs": [],
   "source": []
  }
 ],
 "metadata": {
  "kernelspec": {
   "display_name": "base",
   "language": "python",
   "name": "python3"
  },
  "language_info": {
   "codemirror_mode": {
    "name": "ipython",
    "version": 3
   },
   "file_extension": ".py",
   "mimetype": "text/x-python",
   "name": "python",
   "nbconvert_exporter": "python",
   "pygments_lexer": "ipython3",
   "version": "3.12.7"
  }
 },
 "nbformat": 4,
 "nbformat_minor": 5
}
