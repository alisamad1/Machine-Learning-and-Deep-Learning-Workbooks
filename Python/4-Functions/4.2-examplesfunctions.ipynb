{
 "cells": [
  {
   "cell_type": "markdown",
   "id": "b2cc933c",
   "metadata": {},
   "source": [
    "## Function Examples\n",
    "Example - 1 Temprature Conversion"
   ]
  },
  {
   "cell_type": "code",
   "execution_count": 3,
   "id": "f968ca13",
   "metadata": {},
   "outputs": [
    {
     "name": "stdout",
     "output_type": "stream",
     "text": [
      "77.0\n",
      "42.22222222222222\n"
     ]
    }
   ],
   "source": [
    "def convert_temprature(temp,unit):\n",
    "    \"\"\"this function converst temprature between celsius and fahrenhiet\"\"\"\n",
    "    if unit == \"C\":\n",
    "        return temp * 9/5 + 32 ## celsius to temprature\n",
    "    elif unit == \"F\":\n",
    "        return (temp - 32)*5/9 ## fahrenheit to celsius\n",
    "    else:\n",
    "        return None\n",
    "print(convert_temprature(25,\"C\"))\n",
    "print(convert_temprature(108,\"F\"))"
   ]
  },
  {
   "cell_type": "code",
   "execution_count": 2,
   "id": "3452857f",
   "metadata": {},
   "outputs": [
    {
     "data": {
      "text/plain": [
       "42.22222222222222"
      ]
     },
     "execution_count": 2,
     "metadata": {},
     "output_type": "execute_result"
    }
   ],
   "source": [
    "convert_temprature(108,\"F\")"
   ]
  },
  {
   "cell_type": "markdown",
   "id": "281072f4",
   "metadata": {},
   "source": [
    "## Example-2 password strength checker"
   ]
  },
  {
   "cell_type": "code",
   "execution_count": 5,
   "id": "fdb3415d",
   "metadata": {},
   "outputs": [
    {
     "name": "stdout",
     "output_type": "stream",
     "text": [
      "False\n",
      "False\n"
     ]
    }
   ],
   "source": [
    "def is_strong_password(password):\n",
    "    \"\"\"this function checks if the password is strong or not\"\"\"\n",
    "    if len(password) < 8:\n",
    "        return False\n",
    "    if not any(char.isdigit() for char in password):\n",
    "        return False\n",
    "    if not any(char.islower() for char in password):\n",
    "        return False\n",
    "    if not any(char.isupper() for char in password):\n",
    "        return False\n",
    "    if not any(char in \"!@#$%^&*()_+\" for char in password):\n",
    "        return False\n",
    "    return True\n",
    "##calling the functions\n",
    "print(is_strong_password(\"weakpassword\"))\n",
    "print(is_strong_password(\"StrongPassword\"))"
   ]
  },
  {
   "cell_type": "markdown",
   "id": "ef1148bc",
   "metadata": {},
   "source": [
    "##Example-3 Calculate the total cost of items in a shopping cart"
   ]
  },
  {
   "cell_type": "code",
   "execution_count": null,
   "id": "a97e8152",
   "metadata": {},
   "outputs": [],
   "source": [
    "def calculate_total(cart):\n",
    "    total_cost = 0\n",
    "    for item in cart:\n",
    "        total_cost += item['price']\n",
    "## example cart data\n",
    "cart = [{\"name\" : \"apple\",\"price\" : \"0.5\",\"quantity\":4},{\"name\" : \"Banana\",\"price\" : \"1.0\",\"quantity\":5},{\"name\" : \"guava\",\"price\" : \"1.5\",\"quantity\":7}]"
   ]
  },
  {
   "cell_type": "markdown",
   "id": "364aa398",
   "metadata": {},
   "source": [
    "##Example-4 Check if a string is Palindrome or Not"
   ]
  },
  {
   "cell_type": "code",
   "execution_count": 12,
   "id": "4ee0ce22",
   "metadata": {},
   "outputs": [
    {
     "name": "stdout",
     "output_type": "stream",
     "text": [
      "True\n",
      "False\n"
     ]
    }
   ],
   "source": [
    "def is_palindromes(s):\n",
    "    s = s.lower().replace(\" \", \"\")\n",
    "    return s==s[::-1]\n",
    "print(is_palindromes(\"NAMAN\"))\n",
    "print(is_palindromes(\"HELLO\"))"
   ]
  },
  {
   "cell_type": "markdown",
   "id": "38afcbc9",
   "metadata": {},
   "source": [
    "## Factorial Of a Number using Recursion"
   ]
  },
  {
   "cell_type": "code",
   "execution_count": 15,
   "id": "28023ebb",
   "metadata": {},
   "outputs": [
    {
     "name": "stdout",
     "output_type": "stream",
     "text": [
      "3628800\n"
     ]
    }
   ],
   "source": [
    "def factorial(n):\n",
    "    if n==0:\n",
    "        return 1\n",
    "    else:\n",
    "        return n* factorial(n-1)\n",
    "print(factorial(10))"
   ]
  },
  {
   "cell_type": "markdown",
   "id": "1003a052",
   "metadata": {},
   "source": [
    "## Example-7 Validate Email Address"
   ]
  },
  {
   "cell_type": "code",
   "execution_count": 17,
   "id": "e274d213",
   "metadata": {},
   "outputs": [
    {
     "name": "stdout",
     "output_type": "stream",
     "text": [
      "True\n",
      "False\n"
     ]
    }
   ],
   "source": [
    "import re\n",
    "def validate_emailaddress(email):\n",
    "    \"\"\"this function checks if the mail is valid\"\"\"\n",
    "    pattern = r'^[a-zA-Z0-9_.+-]+@[a-zA-Z0-9]+\\.[a-zA-Z0-9-.]+$'\n",
    "    return re.match(pattern,email) is not None\n",
    "#Calling the function\n",
    "print(validate_emailaddress(\"aliussamad@gmail.com\"))\n",
    "print(validate_emailaddress(\"invalid.email\"))"
   ]
  },
  {
   "cell_type": "code",
   "execution_count": null,
   "id": "9ad04db1",
   "metadata": {},
   "outputs": [],
   "source": []
  }
 ],
 "metadata": {
  "kernelspec": {
   "display_name": "base",
   "language": "python",
   "name": "python3"
  },
  "language_info": {
   "codemirror_mode": {
    "name": "ipython",
    "version": 3
   },
   "file_extension": ".py",
   "mimetype": "text/x-python",
   "name": "python",
   "nbconvert_exporter": "python",
   "pygments_lexer": "ipython3",
   "version": "3.12.7"
  }
 },
 "nbformat": 4,
 "nbformat_minor": 5
}
