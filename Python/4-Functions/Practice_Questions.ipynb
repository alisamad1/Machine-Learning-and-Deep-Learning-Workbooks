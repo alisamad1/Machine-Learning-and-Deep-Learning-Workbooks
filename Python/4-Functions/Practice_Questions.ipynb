{
 "cells": [
  {
   "cell_type": "markdown",
   "id": "2accb2a8",
   "metadata": {},
   "source": [
    "## Convert Celsius to Fahrenheit in temprature Terms "
   ]
  },
  {
   "cell_type": "code",
   "execution_count": 2,
   "id": "ca7fc769",
   "metadata": {},
   "outputs": [
    {
     "name": "stdout",
     "output_type": "stream",
     "text": [
      "77.0\n",
      "42.22222222222222\n"
     ]
    }
   ],
   "source": [
    "def convert_temprature(temp, unit):\n",
    "    \"\"\"This will convert between celsius and fahrenheit\"\"\"\n",
    "    if unit == \"C\":\n",
    "        return (temp) * 9/5 + 32\n",
    "    elif unit == \"F\":\n",
    "        return (temp-32) * 5/9\n",
    "print(convert_temprature(25,\"C\"))\n",
    "print(convert_temprature(108,\"F\"))"
   ]
  },
  {
   "cell_type": "markdown",
   "id": "f0a8145d",
   "metadata": {},
   "source": [
    "## Python Function for area of rectangle\n"
   ]
  },
  {
   "cell_type": "code",
   "execution_count": 3,
   "id": "44632bd0",
   "metadata": {},
   "outputs": [
    {
     "name": "stdout",
     "output_type": "stream",
     "text": [
      "the area of rectangle is  736.0\n"
     ]
    }
   ],
   "source": [
    "def area_of_rectangle():\n",
    "    length = float(input(\"Enter the length of rectangle: \"))\n",
    "    breadth = float(input(\"Enter the Breadth of the rectangle: \"))\n",
    "    area = length * breadth\n",
    "    print(\"the area of rectangle is \", area)\n",
    "area_of_rectangle()"
   ]
  },
  {
   "cell_type": "markdown",
   "id": "f889cdd9",
   "metadata": {},
   "source": [
    "## Distance Covered by the Vehicle"
   ]
  },
  {
   "cell_type": "code",
   "execution_count": 4,
   "id": "5f566b30",
   "metadata": {},
   "outputs": [
    {
     "name": "stdout",
     "output_type": "stream",
     "text": [
      "The distance travelled by the car is:  120.0\n"
     ]
    }
   ],
   "source": [
    "## speed = distance / time\n",
    "# speed and time is given u have to find the distance\n",
    "def find_distance():\n",
    "    speed = float(input(\"Enter the speed of the car: \"))\n",
    "    time = float(input(\"Enter the time taken by the car: \"))\n",
    "    distance = speed * time\n",
    "    print(\"The distance travelled by the car is: \", distance)\n",
    "find_distance()"
   ]
  },
  {
   "cell_type": "markdown",
   "id": "acc1188b",
   "metadata": {},
   "source": [
    "## Write a Python function that calculates the sum of all elements in a given list of integers."
   ]
  },
  {
   "cell_type": "code",
   "execution_count": 6,
   "id": "17e20dc6",
   "metadata": {},
   "outputs": [
    {
     "name": "stdout",
     "output_type": "stream",
     "text": [
      "the total sum of the elements present inside the list is  45\n"
     ]
    }
   ],
   "source": [
    "def calculate_total_sum(numbers):\n",
    "    \"\"\"this function will calculate the total sum of the numbers present inside the list\"\"\"\n",
    "    total = 0\n",
    "    for num in numbers:\n",
    "        total += num\n",
    "    return total\n",
    "List = [0,9,8,7,6,5,4,3,2,1]\n",
    "total_sum = calculate_total_sum(List)\n",
    "print(\"the total sum of the elements present inside the list is \", total_sum)"
   ]
  },
  {
   "cell_type": "markdown",
   "id": "f1de4351",
   "metadata": {},
   "source": [
    "## Largest Element in a List"
   ]
  },
  {
   "cell_type": "code",
   "execution_count": 7,
   "id": "b6bc2891",
   "metadata": {},
   "outputs": [
    {
     "name": "stdout",
     "output_type": "stream",
     "text": [
      "the largest of the numbers in the list is  10\n"
     ]
    }
   ],
   "source": [
    "def Largest_Element(numbers):\n",
    "    if not numbers:\n",
    "        return None\n",
    "    largest = numbers[0]\n",
    "    for num in numbers[1:]:\n",
    "        if num > largest:\n",
    "            largest = num\n",
    "    return largest\n",
    "list_of_numbers = [1,2,3,4,5,6,7,8,9,10]\n",
    "largest_number = Largest_Element(list_of_numbers)\n",
    "print(\"the largest of the numbers in the list is \", largest_number)"
   ]
  },
  {
   "cell_type": "markdown",
   "id": "3fef1c59",
   "metadata": {},
   "source": [
    "## Remove Duplicate in a List"
   ]
  },
  {
   "cell_type": "code",
   "execution_count": 8,
   "id": "ababe833",
   "metadata": {},
   "outputs": [
    {
     "name": "stdout",
     "output_type": "stream",
     "text": [
      "the list after duplicate removal is  [1, 2, 3, 5, 4, 6, 7, 8]\n"
     ]
    }
   ],
   "source": [
    "def removal_duplicate(list):\n",
    "    unique_list = []\n",
    "    for item in list:\n",
    "        if item not in unique_list:\n",
    "            unique_list.append(item)\n",
    "    return unique_list\n",
    "original_list = [1,1,2,2,2,2,3,3,3,5,4,2,2,4,4,4,3,3,3,5,5,6,7,8]\n",
    "duplicate_removal = removal_duplicate(original_list)\n",
    "print(\"the list after duplicate removal is \", duplicate_removal)"
   ]
  },
  {
   "cell_type": "code",
   "execution_count": null,
   "id": "ae419ddb",
   "metadata": {},
   "outputs": [],
   "source": [
    "            "
   ]
  }
 ],
 "metadata": {
  "kernelspec": {
   "display_name": "base",
   "language": "python",
   "name": "python3"
  },
  "language_info": {
   "codemirror_mode": {
    "name": "ipython",
    "version": 3
   },
   "file_extension": ".py",
   "mimetype": "text/x-python",
   "name": "python",
   "nbconvert_exporter": "python",
   "pygments_lexer": "ipython3",
   "version": "3.12.7"
  }
 },
 "nbformat": 4,
 "nbformat_minor": 5
}
