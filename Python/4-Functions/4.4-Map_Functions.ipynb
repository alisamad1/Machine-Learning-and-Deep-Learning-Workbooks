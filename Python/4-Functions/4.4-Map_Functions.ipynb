{
 "cells": [
  {
   "cell_type": "markdown",
   "id": "51c274ec",
   "metadata": {},
   "source": [
    "## The Map() Function in Python\n",
    "The map() function applies a given function to all items in an input list(for any other iterables) and returns a map object (an iterator). This is particularly useful for transforming data in list comprehensively"
   ]
  },
  {
   "cell_type": "code",
   "execution_count": 2,
   "id": "eafa0259",
   "metadata": {},
   "outputs": [
    {
     "data": {
      "text/plain": [
       "289"
      ]
     },
     "execution_count": 2,
     "metadata": {},
     "output_type": "execute_result"
    }
   ],
   "source": [
    "def square(x):\n",
    "    return x*x\n",
    "square(17)"
   ]
  },
  {
   "cell_type": "code",
   "execution_count": 4,
   "id": "b4beb9f8",
   "metadata": {},
   "outputs": [
    {
     "data": {
      "text/plain": [
       "[1, 4, 9, 16, 25, 36, 49, 64]"
      ]
     },
     "execution_count": 4,
     "metadata": {},
     "output_type": "execute_result"
    }
   ],
   "source": [
    "numbers = [1,2,3,4,5,6,7,8]\n",
    "list(map(square,numbers))"
   ]
  },
  {
   "cell_type": "code",
   "execution_count": 5,
   "metadata": {},
   "outputs": [
    {
     "data": {
      "text/plain": [
       "343"
      ]
     },
     "execution_count": 5,
     "metadata": {},
     "output_type": "execute_result"
    }
   ],
   "source": [
    "def cube(x):\n",
    "    numbers = [10,11,12,13,14,15,16]\n",
    "    return x*x*x\n",
    "cube(7)"
   ]
  },
  {
   "cell_type": "code",
   "execution_count": 6,
   "id": "04b95e20",
   "metadata": {},
   "outputs": [
    {
     "data": {
      "text/plain": [
       "[1000, 1331, 1728, 2197, 2744, 3375, 4096]"
      ]
     },
     "execution_count": 6,
     "metadata": {},
     "output_type": "execute_result"
    }
   ],
   "source": [
    "numbers = [10,11,12,13,14,15,16]\n",
    "list(map(cube,numbers))"
   ]
  },
  {
   "cell_type": "code",
   "execution_count": 8,
   "id": "7a20136e",
   "metadata": {},
   "outputs": [
    {
     "data": {
      "text/plain": [
       "[1, 4, 9, 16, 25, 36]"
      ]
     },
     "execution_count": 8,
     "metadata": {},
     "output_type": "execute_result"
    }
   ],
   "source": [
    "numbers = [1,2,3,4,5,6]\n",
    "list(map(lambda x: x*x , numbers))"
   ]
  },
  {
   "cell_type": "code",
   "execution_count": 9,
   "id": "21bd72eb",
   "metadata": {},
   "outputs": [
    {
     "name": "stdout",
     "output_type": "stream",
     "text": [
      "[5, 7, 9]\n"
     ]
    }
   ],
   "source": [
    "## can we map multiple iterables\n",
    "numbers_1 = [1,2,3]\n",
    "numbers_2 = [4,5,6]\n",
    "added_numbers = list(map(lambda x,y: x+y,numbers_1,numbers_2))\n",
    "print(added_numbers)\n"
   ]
  },
  {
   "cell_type": "code",
   "execution_count": 10,
   "id": "5b6fbb44",
   "metadata": {},
   "outputs": [
    {
     "name": "stdout",
     "output_type": "stream",
     "text": [
      "[1, 2, 3, 4, 5]\n"
     ]
    }
   ],
   "source": [
    "##map() to convert the list of strings to integers\n",
    "str_numbers = ['1','2','3','4','5']\n",
    "int_numbers = list(map(int, str_numbers))\n",
    "print(int_numbers)"
   ]
  },
  {
   "cell_type": "code",
   "execution_count": 12,
   "id": "e5674f3d",
   "metadata": {},
   "outputs": [
    {
     "name": "stdout",
     "output_type": "stream",
     "text": [
      "['APPLE', 'BANANA', 'CHERRY', 'GUAVA']\n"
     ]
    }
   ],
   "source": [
    "words = ['apple', 'banana','cherry','Guava']\n",
    "upper_words = list(map(str.upper,words))\n",
    "print(upper_words)"
   ]
  },
  {
   "cell_type": "code",
   "execution_count": 14,
   "id": "b227fdcc",
   "metadata": {},
   "outputs": [
    {
     "data": {
      "text/plain": [
       "['ali', 'samad']"
      ]
     },
     "execution_count": 14,
     "metadata": {},
     "output_type": "execute_result"
    }
   ],
   "source": [
    "def get_name(person):\n",
    "    return person['name']\n",
    "people=[{'name':'ali','age':'20'},\n",
    "{'name':'samad','age':'21'}]\n",
    "list(map(get_name,people))\n"
   ]
  },
  {
   "cell_type": "markdown",
   "id": "b2f9a477",
   "metadata": {},
   "source": [
    "### Conclusion"
   ]
  },
  {
   "cell_type": "markdown",
   "id": "745150cd",
   "metadata": {},
   "source": [
    "\n",
    "the map()  functio is a powerful tools for applying transformations to iterable data structures. it can be used with regular functions, lambda functions, and even multiple iterables, providing a versatile approach to data processing in Python. By understanding and utilizing map(), you can write more effecient with readable code."
   ]
  },
  {
   "cell_type": "markdown",
   "id": "a8cd783d",
   "metadata": {},
   "source": []
  }
 ],
 "metadata": {
  "kernelspec": {
   "display_name": "base",
   "language": "python",
   "name": "python3"
  },
  "language_info": {
   "codemirror_mode": {
    "name": "ipython",
    "version": 3
   },
   "file_extension": ".py",
   "mimetype": "text/x-python",
   "name": "python",
   "nbconvert_exporter": "python",
   "pygments_lexer": "ipython3",
   "version": "3.12.7"
  }
 },
 "nbformat": 4,
 "nbformat_minor": 5
}
