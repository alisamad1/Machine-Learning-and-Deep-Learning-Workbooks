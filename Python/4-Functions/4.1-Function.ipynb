{
 "cells": [
  {
   "cell_type": "markdown",
   "id": "e0c8db4e",
   "metadata": {},
   "source": [
    "## Functions in Python"
   ]
  },
  {
   "cell_type": "markdown",
   "id": "9d78d4fc",
   "metadata": {},
   "source": [
    "Introduction to Functions\n",
    "A function is a block of code that performs a specific task. Function help in organizing code, improving code ,reusing code and improving readability"
   ]
  },
  {
   "cell_type": "code",
   "execution_count": 2,
   "id": "23c6c0a4",
   "metadata": {},
   "outputs": [
    {
     "ename": "SyntaxError",
     "evalue": "unterminated string literal (detected at line 3) (4216269335.py, line 3)",
     "output_type": "error",
     "traceback": [
      "\u001b[1;36m  Cell \u001b[1;32mIn[2], line 3\u001b[1;36m\u001b[0m\n\u001b[1;33m    \"\"\"Docstring\"\"\"\"\u001b[0m\n\u001b[1;37m                   ^\u001b[0m\n\u001b[1;31mSyntaxError\u001b[0m\u001b[1;31m:\u001b[0m unterminated string literal (detected at line 3)\n"
     ]
    }
   ],
   "source": [
    "##syntax\n",
    "def function_name(parameter):\n",
    "    \"\"\"Docstring\"\"\"\"\n",
    "    #function Body\n",
    "    return expression"
   ]
  },
  {
   "cell_type": "code",
   "execution_count": 3,
   "id": "c017a688",
   "metadata": {},
   "outputs": [
    {
     "name": "stdout",
     "output_type": "stream",
     "text": [
      "the number is even\n"
     ]
    }
   ],
   "source": [
    "#why function is required\n",
    "num = 24\n",
    "if num%2 == 0:\n",
    "    print(\"the number is even\")\n",
    "else:\n",
    "    print(\"the number is odd\")"
   ]
  },
  {
   "cell_type": "code",
   "execution_count": 10,
   "id": "ad16a7ce",
   "metadata": {},
   "outputs": [],
   "source": [
    "def odd_even_number(num):\n",
    "    \"\"\"This Function finds even or odd\"\"\"\n",
    "    if num% 2 == 0:\n",
    "        print(\"the number is even\")\n",
    "    else:\n",
    "        print(\"the number is odd\")"
   ]
  },
  {
   "cell_type": "code",
   "execution_count": 12,
   "id": "2984334e",
   "metadata": {},
   "outputs": [
    {
     "name": "stdout",
     "output_type": "stream",
     "text": [
      "the number is even\n"
     ]
    }
   ],
   "source": [
    "## call the function\n",
    "odd_even_number(34)"
   ]
  },
  {
   "cell_type": "code",
   "execution_count": null,
   "id": "d959620a",
   "metadata": {},
   "outputs": [],
   "source": [
    "#function with multiple parameters\n",
    "def add(a,b):\n",
    "    return  a+b\n"
   ]
  },
  {
   "cell_type": "code",
   "execution_count": 8,
   "id": "6700ab47",
   "metadata": {},
   "outputs": [
    {
     "data": {
      "text/plain": [
       "34"
      ]
     },
     "execution_count": 8,
     "metadata": {},
     "output_type": "execute_result"
    }
   ],
   "source": [
    "add(12,22)"
   ]
  },
  {
   "cell_type": "code",
   "execution_count": 14,
   "id": "1f065ee9",
   "metadata": {},
   "outputs": [
    {
     "name": "stdout",
     "output_type": "stream",
     "text": [
      "Hello Ali ,Welcome to the paradise\n"
     ]
    }
   ],
   "source": [
    "#Default Parameter\n",
    "def greet(name = \"Guest\"):\n",
    "    print(f\"Hello {name} ,Welcome to the paradise\")\n",
    "greet(\"Ali\")"
   ]
  },
  {
   "cell_type": "code",
   "execution_count": 20,
   "id": "50375064",
   "metadata": {},
   "outputs": [],
   "source": [
    "## Variable Length Arguments\n",
    "## Positional and Keyword Arguments\n",
    "def print_numbers(*Ali):\n",
    "    for numbers in Ali:\n",
    "        print(numbers)"
   ]
  },
  {
   "cell_type": "code",
   "execution_count": 21,
   "id": "4253d78e",
   "metadata": {},
   "outputs": [
    {
     "name": "stdout",
     "output_type": "stream",
     "text": [
      "1\n",
      "2\n",
      "3\n",
      "4\n",
      "5\n",
      "6\n",
      "7\n",
      "8\n",
      "9\n",
      "Ali\n"
     ]
    }
   ],
   "source": [
    "print_numbers(1,2,3,4,5,6,7,8,9,\"Ali\")"
   ]
  },
  {
   "cell_type": "code",
   "execution_count": 22,
   "id": "9967e416",
   "metadata": {},
   "outputs": [
    {
     "name": "stdout",
     "output_type": "stream",
     "text": [
      "1\n",
      "2\n",
      "3\n",
      "4\n",
      "5\n",
      "6\n",
      "7\n",
      "ali\n"
     ]
    }
   ],
   "source": [
    "# positional Arguments\n",
    "print_numbers(1,2,3,4,5,6,7,\"ali\")"
   ]
  },
  {
   "cell_type": "code",
   "execution_count": 23,
   "id": "b022418c",
   "metadata": {},
   "outputs": [],
   "source": [
    "##keyword arguments\n",
    "def print_details(**kwargs):\n",
    "    for key,value in kwargs.items():\n",
    "        print(f\"{key}:{value}\")"
   ]
  },
  {
   "cell_type": "code",
   "execution_count": 24,
   "id": "4739669f",
   "metadata": {},
   "outputs": [
    {
     "name": "stdout",
     "output_type": "stream",
     "text": [
      "name:Ali\n",
      "age:32\n",
      "country:India\n"
     ]
    }
   ],
   "source": [
    "print_details(name = \"Ali\", age = 32, country = \"India\")"
   ]
  },
  {
   "cell_type": "code",
   "execution_count": 26,
   "id": "5401af9c",
   "metadata": {},
   "outputs": [],
   "source": [
    "def print_details(*args,**kwargs):\n",
    "    for val in args:\n",
    "        print(f\"Positional Arguments :{val}\")\n",
    "    for key,value in kwargs.items():\n",
    "        print(f\"{key}:{value}\")"
   ]
  },
  {
   "cell_type": "code",
   "execution_count": 27,
   "id": "60472a2c",
   "metadata": {},
   "outputs": [
    {
     "name": "stdout",
     "output_type": "stream",
     "text": [
      "Positional Arguments :1\n",
      "Positional Arguments :2\n",
      "Positional Arguments :3\n",
      "Positional Arguments :4\n",
      "Positional Arguments :5\n",
      "Positional Arguments :Ali\n",
      "name:ali\n",
      "age:20\n",
      "country:India\n"
     ]
    }
   ],
   "source": [
    "print_details(1,2,3,4,5,\"Ali\",name=\"ali\", age = 20, country = \"India\")"
   ]
  },
  {
   "cell_type": "code",
   "execution_count": null,
   "id": "cdd89285",
   "metadata": {},
   "outputs": [
    {
     "data": {
      "text/plain": [
       "6"
      ]
     },
     "execution_count": 28,
     "metadata": {},
     "output_type": "execute_result"
    }
   ],
   "source": [
    "## return statements\n",
    "def multiply(a,b):\n",
    "    \n",
    "    return a*b\n",
    "multiply(2,3)"
   ]
  },
  {
   "cell_type": "code",
   "execution_count": null,
   "id": "e4634998",
   "metadata": {},
   "outputs": [
    {
     "data": {
      "text/plain": [
       "(6, 2)"
      ]
     },
     "execution_count": 29,
     "metadata": {},
     "output_type": "execute_result"
    }
   ],
   "source": [
    "#return multiple Parameters\n",
    "def multiply(a,b):\n",
    "    return a*b, a\n",
    "multiply(2,3)"
   ]
  },
  {
   "cell_type": "code",
   "execution_count": null,
   "id": "2a287684",
   "metadata": {},
   "outputs": [],
   "source": []
  }
 ],
 "metadata": {
  "kernelspec": {
   "display_name": "base",
   "language": "python",
   "name": "python3"
  },
  "language_info": {
   "codemirror_mode": {
    "name": "ipython",
    "version": 3
   },
   "file_extension": ".py",
   "mimetype": "text/x-python",
   "name": "python",
   "nbconvert_exporter": "python",
   "pygments_lexer": "ipython3",
   "version": "3.12.7"
  }
 },
 "nbformat": 4,
 "nbformat_minor": 5
}
