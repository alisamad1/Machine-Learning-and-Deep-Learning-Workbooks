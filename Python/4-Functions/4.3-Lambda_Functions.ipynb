{
 "cells": [
  {
   "cell_type": "markdown",
   "id": "c9b0898c",
   "metadata": {},
   "source": [
    "##lambda functions in python"
   ]
  },
  {
   "cell_type": "markdown",
   "id": "22e05bd6",
   "metadata": {},
   "source": [
    "Lambda Functions are small anonymous functions defined using the lambda keyword. They can have any number of arguments but only one expression.They are commonly used for short operations or as arguments to higher order functions."
   ]
  },
  {
   "cell_type": "code",
   "execution_count": 1,
   "id": "4f0c5080",
   "metadata": {},
   "outputs": [
    {
     "data": {
      "text/plain": [
       "<function __main__.<lambda>(arguments)>"
      ]
     },
     "execution_count": 1,
     "metadata": {},
     "output_type": "execute_result"
    }
   ],
   "source": [
    "##Syntax\n",
    "lambda arguments: expression\n"
   ]
  },
  {
   "cell_type": "code",
   "execution_count": 2,
   "id": "3753ed27",
   "metadata": {},
   "outputs": [],
   "source": [
    "def addition(a,b):\n",
    "    return a+b\n",
    "    "
   ]
  },
  {
   "cell_type": "code",
   "execution_count": 3,
   "id": "73085b6a",
   "metadata": {},
   "outputs": [
    {
     "data": {
      "text/plain": [
       "6"
      ]
     },
     "execution_count": 3,
     "metadata": {},
     "output_type": "execute_result"
    }
   ],
   "source": [
    "addition(2,4)"
   ]
  },
  {
   "cell_type": "code",
   "execution_count": 7,
   "id": "cf4e7c59",
   "metadata": {},
   "outputs": [
    {
     "name": "stdout",
     "output_type": "stream",
     "text": [
      "11\n"
     ]
    }
   ],
   "source": [
    "addition = lambda a,b: a+b\n",
    "type(addition)\n",
    "print(addition(5,6))\n"
   ]
  },
  {
   "cell_type": "code",
   "execution_count": 8,
   "id": "ad9cac61",
   "metadata": {},
   "outputs": [
    {
     "data": {
      "text/plain": [
       "True"
      ]
     },
     "execution_count": 8,
     "metadata": {},
     "output_type": "execute_result"
    }
   ],
   "source": [
    "def even(num):\n",
    "    if num % 2 == 0:\n",
    "        return True\n",
    "    else:\n",
    "        return False\n",
    "even(24)"
   ]
  },
  {
   "cell_type": "code",
   "execution_count": 11,
   "id": "abdcf736",
   "metadata": {},
   "outputs": [
    {
     "data": {
      "text/plain": [
       "True"
      ]
     },
     "execution_count": 11,
     "metadata": {},
     "output_type": "execute_result"
    }
   ],
   "source": [
    "even_1 = lambda num: num%2 == 0\n",
    "even_1(14)"
   ]
  },
  {
   "cell_type": "code",
   "execution_count": 13,
   "id": "9aef1979",
   "metadata": {},
   "outputs": [
    {
     "data": {
      "text/plain": [
       "9"
      ]
     },
     "execution_count": 13,
     "metadata": {},
     "output_type": "execute_result"
    }
   ],
   "source": [
    "def subtraction(x,y,z):\n",
    "    return x-y-z\n",
    "subtraction(12,1,2)"
   ]
  },
  {
   "cell_type": "code",
   "execution_count": 14,
   "id": "b91e8b7f",
   "metadata": {},
   "outputs": [
    {
     "data": {
      "text/plain": [
       "9"
      ]
     },
     "execution_count": 14,
     "metadata": {},
     "output_type": "execute_result"
    }
   ],
   "source": [
    "subtract_1 = lambda x,y,z: x-y-z\n",
    "subtract_1(12,1,2)"
   ]
  },
  {
   "cell_type": "code",
   "execution_count": 15,
   "id": "b2cc9108",
   "metadata": {},
   "outputs": [
    {
     "data": {
      "text/plain": [
       "24"
      ]
     },
     "execution_count": 15,
     "metadata": {},
     "output_type": "execute_result"
    }
   ],
   "source": [
    "def multiply_three_numbers(x,y,z):\n",
    "    return x*y*z\n",
    "multiply_three_numbers(12,1,2)"
   ]
  },
  {
   "cell_type": "code",
   "execution_count": 16,
   "id": "00f59834",
   "metadata": {},
   "outputs": [
    {
     "data": {
      "text/plain": [
       "24"
      ]
     },
     "execution_count": 16,
     "metadata": {},
     "output_type": "execute_result"
    }
   ],
   "source": [
    "mul_3_nums = lambda x,y,z: x*y*z\n",
    "mul_3_nums(12,1,2)"
   ]
  },
  {
   "cell_type": "code",
   "execution_count": 19,
   "id": "dc59e3a2",
   "metadata": {},
   "outputs": [
    {
     "data": {
      "text/plain": [
       "4"
      ]
     },
     "execution_count": 19,
     "metadata": {},
     "output_type": "execute_result"
    }
   ],
   "source": [
    "## Map and Filter using Lambda Function\n",
    "numbers = [1,2,3,4,5,6]\n",
    "def square_numbers(number):\n",
    "    return number**2\n",
    "square_numbers(2)"
   ]
  },
  {
   "cell_type": "code",
   "execution_count": 21,
   "id": "e4540b9c",
   "metadata": {},
   "outputs": [
    {
     "data": {
      "text/plain": [
       "[1, 4, 9, 16, 25, 36]"
      ]
     },
     "execution_count": 21,
     "metadata": {},
     "output_type": "execute_result"
    }
   ],
   "source": [
    "## Map() - It applies a function to all items in a list\n",
    "list(map(lambda x:x**2, numbers))"
   ]
  },
  {
   "cell_type": "code",
   "execution_count": null,
   "id": "ca04cea6",
   "metadata": {},
   "outputs": [],
   "source": []
  }
 ],
 "metadata": {
  "kernelspec": {
   "display_name": "base",
   "language": "python",
   "name": "python3"
  },
  "language_info": {
   "codemirror_mode": {
    "name": "ipython",
    "version": 3
   },
   "file_extension": ".py",
   "mimetype": "text/x-python",
   "name": "python",
   "nbconvert_exporter": "python",
   "pygments_lexer": "ipython3",
   "version": "3.12.7"
  }
 },
 "nbformat": 4,
 "nbformat_minor": 5
}
