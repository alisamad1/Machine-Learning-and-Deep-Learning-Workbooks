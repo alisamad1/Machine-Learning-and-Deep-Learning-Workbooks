{
 "cells": [
  {
   "cell_type": "markdown",
   "id": "298824c6",
   "metadata": {},
   "source": [
    "## Dictionaries\n",
    "Dictionaries are unordered collection of items. They store data in key-value pairs. Key must be unique and immutable while values can be of any type."
   ]
  },
  {
   "cell_type": "code",
   "execution_count": 1,
   "id": "80172efb",
   "metadata": {},
   "outputs": [
    {
     "name": "stdout",
     "output_type": "stream",
     "text": [
      "<class 'dict'>\n"
     ]
    }
   ],
   "source": [
    "#creating Dictionaries\n",
    "empty_dict={}\n",
    "print(type(empty_dict))"
   ]
  },
  {
   "cell_type": "code",
   "execution_count": 2,
   "id": "b70059cf",
   "metadata": {},
   "outputs": [
    {
     "name": "stdout",
     "output_type": "stream",
     "text": [
      "<class 'dict'>\n"
     ]
    }
   ],
   "source": [
    "empty_dict = dict()\n",
    "print(type(empty_dict))"
   ]
  },
  {
   "cell_type": "code",
   "execution_count": 4,
   "id": "b9cbed34",
   "metadata": {},
   "outputs": [
    {
     "name": "stdout",
     "output_type": "stream",
     "text": [
      "{'name': 'Ali', 'age': '20', 'Grade': 'A'}\n",
      "<class 'dict'>\n"
     ]
    }
   ],
   "source": [
    "students = {\"name\": \"Ali\", \"age\": \"20\", \"Grade\": \"A\"}\n",
    "print(students)\n",
    "print(type(students))"
   ]
  },
  {
   "cell_type": "code",
   "execution_count": 9,
   "id": "4661d8a3",
   "metadata": {},
   "outputs": [
    {
     "name": "stdout",
     "output_type": "stream",
     "text": [
      "{'name': 24, 'age': 20}\n"
     ]
    }
   ],
   "source": [
    "#Error\n",
    "#single key is always used\n",
    "students = {\"name\": \"Ali\", \"age\": 20, \"name\": 24}\n",
    "print(students)"
   ]
  },
  {
   "cell_type": "code",
   "execution_count": 10,
   "id": "1c0f8b17",
   "metadata": {},
   "outputs": [
    {
     "ename": "NameError",
     "evalue": "name 'student' is not defined",
     "output_type": "error",
     "traceback": [
      "\u001b[1;31m---------------------------------------------------------------------------\u001b[0m",
      "\u001b[1;31mNameError\u001b[0m                                 Traceback (most recent call last)",
      "Cell \u001b[1;32mIn[10], line 3\u001b[0m\n\u001b[0;32m      1\u001b[0m \u001b[38;5;66;03m#accessing Dictionary Elements\u001b[39;00m\n\u001b[0;32m      2\u001b[0m students \u001b[38;5;241m=\u001b[39m {\u001b[38;5;124m\"\u001b[39m\u001b[38;5;124mname\u001b[39m\u001b[38;5;124m\"\u001b[39m: \u001b[38;5;124m\"\u001b[39m\u001b[38;5;124mAli\u001b[39m\u001b[38;5;124m\"\u001b[39m, \u001b[38;5;124m\"\u001b[39m\u001b[38;5;124mage\u001b[39m\u001b[38;5;124m\"\u001b[39m: \u001b[38;5;241m20\u001b[39m, \u001b[38;5;124m\"\u001b[39m\u001b[38;5;124mGrade\u001b[39m\u001b[38;5;124m\"\u001b[39m: \u001b[38;5;124m\"\u001b[39m\u001b[38;5;124mA\u001b[39m\u001b[38;5;124m\"\u001b[39m}\n\u001b[1;32m----> 3\u001b[0m \u001b[38;5;28mprint\u001b[39m(student)\n",
      "\u001b[1;31mNameError\u001b[0m: name 'student' is not defined"
     ]
    }
   ],
   "source": [
    "#accessing Dictionary Elements\n",
    "students = {\"name\": \"Ali\", \"age\": 20, \"Grade\": \"A\"}\n",
    "print(student)"
   ]
  },
  {
   "cell_type": "code",
   "execution_count": 18,
   "id": "3e60135b",
   "metadata": {},
   "outputs": [
    {
     "name": "stdout",
     "output_type": "stream",
     "text": [
      "A\n",
      "20\n",
      "A\n",
      "None\n",
      "Not available right now\n"
     ]
    }
   ],
   "source": [
    "print(students['Grade'])\n",
    "print(students['age'])\n",
    "print(students.get('Grade'))\n",
    "print(students.get('last_name'))\n",
    "print(students.get('last_name',\"Not available right now\"))"
   ]
  },
  {
   "cell_type": "code",
   "execution_count": 20,
   "id": "e0f3c8be",
   "metadata": {},
   "outputs": [
    {
     "name": "stdout",
     "output_type": "stream",
     "text": [
      "{'name': 'Ali', 'age': 20, 'Grade': 'A'}\n"
     ]
    }
   ],
   "source": [
    "#modufying dictionaries element\n",
    "#Dictionary are Mutable, so you can add, update or delete element\n",
    "print(students)"
   ]
  },
  {
   "cell_type": "code",
   "execution_count": null,
   "id": "cb94dd2d",
   "metadata": {},
   "outputs": [
    {
     "name": "stdout",
     "output_type": "stream",
     "text": [
      "{'name': 'Ali', 'age': 33, 'Grade': 'A', 'address': 'Mataunh'}\n",
      "{'name': 'Ali', 'age': 33, 'Grade': 'A', 'address': 'Mataunh'}\n"
     ]
    }
   ],
   "source": [
    "students[\"age\"] = 33  #updated the value from the key\n",
    "print(students)\n",
    "students[\"address\"] = \"Mataunh\" # added a new key from the value\n",
    "print(students)"
   ]
  },
  {
   "cell_type": "code",
   "execution_count": 27,
   "id": "32a9b676",
   "metadata": {},
   "outputs": [
    {
     "name": "stdout",
     "output_type": "stream",
     "text": [
      "{'name': 'Ali', 'Grade': 'A'}\n"
     ]
    }
   ],
   "source": [
    "del students['address'] #delete key and value pair\n",
    "print(students)"
   ]
  },
  {
   "cell_type": "code",
   "execution_count": 30,
   "id": "605b9acf",
   "metadata": {},
   "outputs": [
    {
     "name": "stdout",
     "output_type": "stream",
     "text": [
      "dict_keys(['name', 'Grade'])\n",
      "dict_values(['Ali', 'A'])\n"
     ]
    }
   ],
   "source": [
    "##dictionary Methods\n",
    "keys = students.keys()\n",
    "print(keys)\n",
    "values = students.values()\n",
    "print(values)"
   ]
  },
  {
   "cell_type": "code",
   "execution_count": 32,
   "id": "24f84c6a",
   "metadata": {},
   "outputs": [
    {
     "name": "stdout",
     "output_type": "stream",
     "text": [
      "dict_items([('name', 'Ali'), ('Grade', 'A')])\n"
     ]
    }
   ],
   "source": [
    "items = students.items()\n",
    "print(items)"
   ]
  },
  {
   "cell_type": "code",
   "execution_count": 33,
   "id": "56e02cee",
   "metadata": {},
   "outputs": [
    {
     "name": "stdout",
     "output_type": "stream",
     "text": [
      "{'name': 'Ali', 'Grade': 'A'}\n",
      "{'name': 'Ali', 'Grade': 'A'}\n"
     ]
    }
   ],
   "source": [
    "#shallow copy \n",
    "students_copy = students\n",
    "print(students)\n",
    "print(students_copy)"
   ]
  },
  {
   "cell_type": "code",
   "execution_count": 35,
   "id": "ef599d54",
   "metadata": {},
   "outputs": [
    {
     "name": "stdout",
     "output_type": "stream",
     "text": [
      "{'name': 'samad', 'Grade': 'A'}\n",
      "{'name': 'samad', 'Grade': 'A'}\n"
     ]
    }
   ],
   "source": [
    "students[\"name\"] = \"samad\"\n",
    "print(students)\n",
    "print(students_copy)"
   ]
  },
  {
   "cell_type": "code",
   "execution_count": 38,
   "id": "9fdc9ae8",
   "metadata": {},
   "outputs": [
    {
     "name": "stdout",
     "output_type": "stream",
     "text": [
      "{'name': 'samad', 'Grade': 'A'}\n",
      "{'name': 'samad', 'Grade': 'A'}\n"
     ]
    }
   ],
   "source": [
    "students_copy1 = students.copy()\n",
    "print(students_copy1)\n",
    "print(students)"
   ]
  },
  {
   "cell_type": "markdown",
   "id": "9496e6fb",
   "metadata": {},
   "source": [
    "## Iterating Over Dictionaries\n"
   ]
  },
  {
   "cell_type": "markdown",
   "id": "144e1cf5",
   "metadata": {},
   "source": [
    "#using loops to iterate over the dictionaries"
   ]
  },
  {
   "cell_type": "code",
   "execution_count": 39,
   "id": "aa253e7b",
   "metadata": {},
   "outputs": [
    {
     "name": "stdout",
     "output_type": "stream",
     "text": [
      "name\n",
      "Grade\n"
     ]
    }
   ],
   "source": [
    "#iterating over keys\n",
    "for keys in students.keys():\n",
    "    print(keys)\n",
    "    "
   ]
  },
  {
   "cell_type": "code",
   "execution_count": 41,
   "id": "87872d86",
   "metadata": {},
   "outputs": [
    {
     "name": "stdout",
     "output_type": "stream",
     "text": [
      "samad\n",
      "A\n"
     ]
    }
   ],
   "source": [
    "for values in students.values():\n",
    "    print(values)"
   ]
  },
  {
   "cell_type": "code",
   "execution_count": 45,
   "id": "46367d57",
   "metadata": {},
   "outputs": [
    {
     "name": "stdout",
     "output_type": "stream",
     "text": [
      "name:samad\n",
      "Grade:A\n"
     ]
    }
   ],
   "source": [
    "for key,value in students.items():\n",
    "    print(f\"{key}:{value}\")"
   ]
  },
  {
   "cell_type": "code",
   "execution_count": 51,
   "id": "3234d865",
   "metadata": {},
   "outputs": [
    {
     "name": "stdout",
     "output_type": "stream",
     "text": [
      "{'students_1': {'name': 'krish', 'age': 32}, 'students_2': {'name': 'Naik', 'age': 32}}\n"
     ]
    }
   ],
   "source": [
    "## Nested Dictionaries\n",
    "students = {\"students_1\" : {\"name\": \"krish\",\"age\": 32},\n",
    "\"students_2\": {\"name\" : \"Naik\", \"age\": 32}}\n",
    "print(students)"
   ]
  },
  {
   "cell_type": "code",
   "execution_count": 52,
   "id": "4145806d",
   "metadata": {},
   "outputs": [
    {
     "name": "stdout",
     "output_type": "stream",
     "text": [
      "Naik\n",
      "krish\n"
     ]
    }
   ],
   "source": [
    "print(students[\"students_2\"][\"name\"])\n",
    "print(students[\"students_1\"][\"name\"])"
   ]
  },
  {
   "cell_type": "code",
   "execution_count": 53,
   "id": "86ca5c29",
   "metadata": {},
   "outputs": [
    {
     "data": {
      "text/plain": [
       "dict_items([('students_1', {'name': 'krish', 'age': 32}), ('students_2', {'name': 'Naik', 'age': 32})])"
      ]
     },
     "execution_count": 53,
     "metadata": {},
     "output_type": "execute_result"
    }
   ],
   "source": [
    "students.items()"
   ]
  },
  {
   "cell_type": "code",
   "execution_count": 54,
   "id": "547ff69a",
   "metadata": {},
   "outputs": [
    {
     "ename": "TypeError",
     "evalue": "'builtin_function_or_method' object is not iterable",
     "output_type": "error",
     "traceback": [
      "\u001b[1;31m---------------------------------------------------------------------------\u001b[0m",
      "\u001b[1;31mTypeError\u001b[0m                                 Traceback (most recent call last)",
      "Cell \u001b[1;32mIn[54], line 1\u001b[0m\n\u001b[1;32m----> 1\u001b[0m \u001b[38;5;28;01mfor\u001b[39;00m student_id, student_info \u001b[38;5;129;01min\u001b[39;00m students\u001b[38;5;241m.\u001b[39mitems:\n\u001b[0;32m      2\u001b[0m     \u001b[38;5;28mprint\u001b[39m(\u001b[38;5;124mf\u001b[39m\u001b[38;5;124m\"\u001b[39m\u001b[38;5;132;01m{\u001b[39;00mstudent_id\u001b[38;5;132;01m}\u001b[39;00m\u001b[38;5;124m:\u001b[39m\u001b[38;5;132;01m{\u001b[39;00mstudent_info\u001b[38;5;132;01m}\u001b[39;00m\u001b[38;5;124m\"\u001b[39m)\n\u001b[0;32m      3\u001b[0m     \u001b[38;5;28;01mfor\u001b[39;00m key,value \u001b[38;5;129;01min\u001b[39;00m student_info\u001b[38;5;241m.\u001b[39mitems():\n",
      "\u001b[1;31mTypeError\u001b[0m: 'builtin_function_or_method' object is not iterable"
     ]
    }
   ],
   "source": [
    "for student_id, student_info in students.items:\n",
    "    print(f\"{student_id}:{student_info}\")\n",
    "    for key,value in student_info.items():\n",
    "        print(f\"{key}:{value}\")\n",
    "        "
   ]
  },
  {
   "cell_type": "code",
   "execution_count": 55,
   "id": "df8a21fc",
   "metadata": {},
   "outputs": [
    {
     "name": "stdout",
     "output_type": "stream",
     "text": [
      "{0: 0, 1: 1, 2: 4, 3: 9, 4: 16}\n"
     ]
    }
   ],
   "source": [
    "##Dictionary Comprehension\n",
    "squares = {x:x**2 for x in range(5)}\n",
    "print(squares)"
   ]
  },
  {
   "cell_type": "code",
   "execution_count": 56,
   "id": "83911c4b",
   "metadata": {},
   "outputs": [
    {
     "name": "stdout",
     "output_type": "stream",
     "text": [
      "{0: 0, 2: 4, 4: 16, 6: 36, 8: 64}\n"
     ]
    }
   ],
   "source": [
    "#conditional dictionary comprehension\n",
    "evens = {x:x**2 for x in range(10) if x%2 == 0}\n",
    "print(evens)"
   ]
  },
  {
   "cell_type": "code",
   "execution_count": 62,
   "id": "9a92b37e",
   "metadata": {},
   "outputs": [
    {
     "name": "stdout",
     "output_type": "stream",
     "text": [
      "{0: 0, 2: 4, 4: 16, 6: 36, 8: 64, 10: 100, 12: 144, 14: 196}\n"
     ]
    }
   ],
   "source": [
    "prime = {x:x**2 for x in range(15) if x%2 == 0 & x%3 == 0 }\n",
    "print(prime)"
   ]
  },
  {
   "cell_type": "code",
   "execution_count": 63,
   "id": "2685db01",
   "metadata": {},
   "outputs": [
    {
     "name": "stdout",
     "output_type": "stream",
     "text": [
      "{1: 2, 2: 4, 3: 4, 4: 3}\n"
     ]
    }
   ],
   "source": [
    "#practical examples\n",
    "## use a dictionary to count the frequency of elements in a list\n",
    "numbers = [1,2,3,4,4,2,3,3,4,2,1,3,2]\n",
    "frequency = {}\n",
    "for number in numbers:\n",
    "    if number in frequency:\n",
    "        frequency[number] += 1\n",
    "    else:\n",
    "        frequency[number] = 1\n",
    "print(frequency)"
   ]
  },
  {
   "cell_type": "code",
   "execution_count": 65,
   "id": "00b8158b",
   "metadata": {},
   "outputs": [
    {
     "name": "stdout",
     "output_type": "stream",
     "text": [
      "{'a': 1, 'b': 2, 'c': 4, 'd': 5, 'e': 6}\n"
     ]
    }
   ],
   "source": [
    "# Merge two Dictionaries\n",
    "dict_1 = {\"a\":1, \"b\":2, \"c\":4}\n",
    "dict_2 = {\"d\" : 5, \"e\":6}\n",
    "merged_dict = {**dict_1,**dict_2}\n",
    "print(merged_dict)"
   ]
  },
  {
   "cell_type": "code",
   "execution_count": null,
   "id": "9d935b21",
   "metadata": {},
   "outputs": [],
   "source": []
  }
 ],
 "metadata": {
  "kernelspec": {
   "display_name": "base",
   "language": "python",
   "name": "python3"
  },
  "language_info": {
   "codemirror_mode": {
    "name": "ipython",
    "version": 3
   },
   "file_extension": ".py",
   "mimetype": "text/x-python",
   "name": "python",
   "nbconvert_exporter": "python",
   "pygments_lexer": "ipython3",
   "version": "3.12.7"
  }
 },
 "nbformat": 4,
 "nbformat_minor": 5
}
