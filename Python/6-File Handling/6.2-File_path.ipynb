{
 "cells": [
  {
   "cell_type": "code",
   "execution_count": 1,
   "id": "047a2548",
   "metadata": {},
   "outputs": [
    {
     "name": "stdout",
     "output_type": "stream",
     "text": [
      "Directory 'package' create\n"
     ]
    }
   ],
   "source": [
    "## create a new directory\n",
    "import os\n",
    "new_directory = \"package\"\n",
    "os.mkdir(new_directory)\n",
    "print(f\"Directory '{new_directory}' create\")"
   ]
  },
  {
   "cell_type": "code",
   "execution_count": 2,
   "id": "fd7f9101",
   "metadata": {},
   "outputs": [
    {
     "name": "stdout",
     "output_type": "stream",
     "text": [
      "['6.1-File_Operations.ipynb', '6.2-File_path.ipynb', 'example.bin', 'example.txt', 'examples.bin', 'package']\n"
     ]
    }
   ],
   "source": [
    "## listing files and directories\n",
    "items = os.listdir('.')\n",
    "print(items)"
   ]
  },
  {
   "cell_type": "code",
   "execution_count": 3,
   "id": "be3d721f",
   "metadata": {},
   "outputs": [
    {
     "name": "stdout",
     "output_type": "stream",
     "text": [
      "folder\n"
     ]
    }
   ],
   "source": [
    "### joining paths\n",
    "dir_name = \"folder\"\n",
    "file_name = \"file.txt\"\n",
    "full_path = os.path.join(dir_name)\n",
    "print(full_path)"
   ]
  },
  {
   "cell_type": "code",
   "execution_count": 4,
   "id": "d723c1a5",
   "metadata": {},
   "outputs": [
    {
     "name": "stdout",
     "output_type": "stream",
     "text": [
      "c:\\Users\\KIIT\\Desktop\\DESKTOP\\Data Science BootCAmp from KrishNaik\\Python\\File Handling\\folder\n"
     ]
    }
   ],
   "source": [
    "dir_name = \"folder\"\n",
    "file_name = \"file.txt\"\n",
    "full_path = os.path.join(os.getcwd(),dir_name)\n",
    "print(full_path)"
   ]
  },
  {
   "cell_type": "code",
   "execution_count": 8,
   "id": "a9b220e6",
   "metadata": {},
   "outputs": [
    {
     "name": "stdout",
     "output_type": "stream",
     "text": [
      "the path'example1.txt' does not exists\n"
     ]
    }
   ],
   "source": [
    "path = \"example1.txt\"\n",
    "if os.path.exists(path):\n",
    "    print(f\"the path'{path}'exists\")\n",
    "else:\n",
    "    print(f\"the path'{path}' does not exists\")"
   ]
  },
  {
   "cell_type": "code",
   "execution_count": 10,
   "id": "d9c74727",
   "metadata": {},
   "outputs": [
    {
     "name": "stdout",
     "output_type": "stream",
     "text": [
      "The path'example.txt' is a file\n"
     ]
    }
   ],
   "source": [
    "## checking if a path is a file or directory\n",
    "import os\n",
    "path = \"example.txt\"\n",
    "if os.path.isfile(path):\n",
    "    print(f\"The path'{path}' is a file\")\n",
    "elif os.path.isdir(path):\n",
    "    print(f\"THe Path '{path}' is a directory.\")\n",
    "else:\n",
    "    print(f\"the path '{path}' is neither a file nor a directory\")"
   ]
  },
  {
   "cell_type": "code",
   "execution_count": 11,
   "id": "b6e07ca7",
   "metadata": {},
   "outputs": [
    {
     "name": "stdout",
     "output_type": "stream",
     "text": [
      "c:\\Users\\KIIT\\Desktop\\DESKTOP\\Data Science BootCAmp from KrishNaik\\Python\\File Handling\\example.txt\n"
     ]
    }
   ],
   "source": [
    "##getting the absolute path\n",
    "relative_path = \"example.txt\"\n",
    "absolute_path = os.path.abspath(relative_path)\n",
    "print(absolute_path)"
   ]
  },
  {
   "cell_type": "code",
   "execution_count": null,
   "id": "c6608d5e",
   "metadata": {},
   "outputs": [],
   "source": []
  }
 ],
 "metadata": {
  "kernelspec": {
   "display_name": "base",
   "language": "python",
   "name": "python3"
  },
  "language_info": {
   "codemirror_mode": {
    "name": "ipython",
    "version": 3
   },
   "file_extension": ".py",
   "mimetype": "text/x-python",
   "name": "python",
   "nbconvert_exporter": "python",
   "pygments_lexer": "ipython3",
   "version": "3.12.7"
  }
 },
 "nbformat": 4,
 "nbformat_minor": 5
}
