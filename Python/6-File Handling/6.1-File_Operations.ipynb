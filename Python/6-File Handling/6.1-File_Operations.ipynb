{
 "cells": [
  {
   "cell_type": "markdown",
   "id": "0e875d8f",
   "metadata": {},
   "source": [
    "## File Operation - Read and Write Files\n",
    "File Handling is a crucial part of any programming language. Python provides built in functions and methods to read and write it to files, both text and binary. This lesson will cover the basics of file handling including reading and writing text files and binary files.\n"
   ]
  },
  {
   "cell_type": "code",
   "execution_count": 6,
   "id": "df2f8b29",
   "metadata": {},
   "outputs": [
    {
     "name": "stdout",
     "output_type": "stream",
     "text": [
      "HEllo\n"
     ]
    }
   ],
   "source": [
    "## read a whole file\n",
    "with open('example.txt','r') as file:\n",
    "    contents = file.read()\n",
    "    print(contents)"
   ]
  },
  {
   "cell_type": "code",
   "execution_count": 11,
   "id": "7147b661",
   "metadata": {},
   "outputs": [
    {
     "name": "stdout",
     "output_type": "stream",
     "text": [
      "HEllo\n",
      "my name is Ali\n",
      "Surname Samad\n",
      "Studying in KIIT\n"
     ]
    }
   ],
   "source": [
    "## Read a file line by line\n",
    "with open(\"example.txt\",'r') as file:\n",
    "    for line in file:\n",
    "        print(line.strip()) ##.strip operation removes the newline from the file"
   ]
  },
  {
   "cell_type": "code",
   "execution_count": 13,
   "id": "7e8849aa",
   "metadata": {},
   "outputs": [],
   "source": [
    "## Writing a file(Overwriting)\n",
    "with open(\"example.txt\", 'w') as file:\n",
    "    file.write(\"Madarchod Achyuta\\n\")\n",
    "    file.write(\"this is a new line\\n\")"
   ]
  },
  {
   "cell_type": "code",
   "execution_count": 17,
   "id": "dc6d34c7",
   "metadata": {},
   "outputs": [],
   "source": [
    "# writing a file without over writing it\n",
    "with open(\"example.txt\",'a') as file:\n",
    "    file.write(\"Append this afterwards\\n\")"
   ]
  },
  {
   "cell_type": "code",
   "execution_count": 19,
   "id": "bed283b4",
   "metadata": {},
   "outputs": [],
   "source": [
    "#writing list of line to a file\n",
    "lines = ['First Line \\n', 'Second Line \\n', 'Third Line \\n']\n",
    "with open('example.txt','a') as file:\n",
    "    file.writelines(lines)"
   ]
  },
  {
   "cell_type": "code",
   "execution_count": 21,
   "id": "9309e289",
   "metadata": {},
   "outputs": [],
   "source": [
    "## Binary Files\n",
    "data = b'\\x00\\x01\\x03\\x04'\n",
    "with open(\"examples.bin\", 'wb') as file:\n",
    "    file.write(data)"
   ]
  },
  {
   "cell_type": "code",
   "execution_count": 22,
   "id": "814124b1",
   "metadata": {},
   "outputs": [
    {
     "name": "stdout",
     "output_type": "stream",
     "text": [
      "b''\n"
     ]
    }
   ],
   "source": [
    "## reading a binary file\n",
    "with open(\"example.bin\",'rb') as file:\n",
    "    content = file.read()\n",
    "    print(content)"
   ]
  },
  {
   "cell_type": "code",
   "execution_count": 23,
   "id": "444672ea",
   "metadata": {},
   "outputs": [
    {
     "ename": "NameError",
     "evalue": "name 'source_file' is not defined",
     "output_type": "error",
     "traceback": [
      "\u001b[1;31m---------------------------------------------------------------------------\u001b[0m",
      "\u001b[1;31mNameError\u001b[0m                                 Traceback (most recent call last)",
      "Cell \u001b[1;32mIn[23], line 4\u001b[0m\n\u001b[0;32m      1\u001b[0m \u001b[38;5;66;03m## read the content from a source text file and write to a destination text file\u001b[39;00m\n\u001b[0;32m      2\u001b[0m \u001b[38;5;66;03m# copying a text file\u001b[39;00m\n\u001b[0;32m      3\u001b[0m \u001b[38;5;28;01mwith\u001b[39;00m \u001b[38;5;28mopen\u001b[39m(\u001b[38;5;124m\"\u001b[39m\u001b[38;5;124mexample.txt\u001b[39m\u001b[38;5;124m\"\u001b[39m,\u001b[38;5;124m'\u001b[39m\u001b[38;5;124mr\u001b[39m\u001b[38;5;124m'\u001b[39m) \u001b[38;5;28;01mas\u001b[39;00m file:\n\u001b[1;32m----> 4\u001b[0m     content \u001b[38;5;241m=\u001b[39m source_file\u001b[38;5;241m.\u001b[39mread()\n\u001b[0;32m      5\u001b[0m \u001b[38;5;28;01mwith\u001b[39;00m \u001b[38;5;28mopen\u001b[39m(\u001b[38;5;124m\"\u001b[39m\u001b[38;5;124mexample.txt\u001b[39m\u001b[38;5;124m\"\u001b[39m,\u001b[38;5;124m'\u001b[39m\u001b[38;5;124mw\u001b[39m\u001b[38;5;124m'\u001b[39m) \u001b[38;5;28;01mas\u001b[39;00m file:\n\u001b[0;32m      6\u001b[0m     destination_file\u001b[38;5;241m.\u001b[39mwrite(content)\n",
      "\u001b[1;31mNameError\u001b[0m: name 'source_file' is not defined"
     ]
    }
   ],
   "source": [
    "## read the content from a source text file and write to a destination text file\n",
    "# copying a text file\n",
    "with open(\"example.txt\",'r') as file:\n",
    "    content = source_file.read()\n",
    "with open(\"example.txt\",'w') as file:\n",
    "    destination_file.write(content)"
   ]
  },
  {
   "cell_type": "code",
   "execution_count": 24,
   "id": "01278b2e",
   "metadata": {},
   "outputs": [],
   "source": [
    "## read a text file and count the number of lines, words and characters\n",
    "# counting lines words, and characters in a text file\n",
    "def count_text_file(file_path):\n",
    "    with open(file_path,'r') as file:\n",
    "        lines = file.readlines()\n",
    "        line_count = len(lines)\n",
    "        word_count = sum(len(line.split()) for line in lines)\n",
    "        char_count = sum(len(line) for line in lines)\n",
    "    return line_count, word_count, char_count\n",
    "    file_path = 'example.txt'\n",
    "    lines,words,characters = count_text_file(file_path)\n",
    "    print(f'Lines: {lines}, Words: {words},Characters:{characters}')"
   ]
  },
  {
   "cell_type": "markdown",
   "id": "369905f6",
   "metadata": {},
   "source": [
    "The W+ mode in python is used to open a file for both reading and writing. If the file does not exist, it will be created.if the file exists, the content is truncated(i.e the file is overwritten)"
   ]
  },
  {
   "cell_type": "code",
   "execution_count": 29,
   "id": "3288c868",
   "metadata": {},
   "outputs": [
    {
     "name": "stdout",
     "output_type": "stream",
     "text": [
      "<built-in method read of _io.TextIOWrapper object at 0x000001BE37BE9D20>\n"
     ]
    }
   ],
   "source": [
    "## writing and then reading a file\n",
    "with open(\"example.txt\",'w+') as file:\n",
    "    file.write(\"hello world\\n\")\n",
    "    file.write(\"this is a new text line\\n\")\n",
    "    file.seek(0)\n",
    "    content = file.read\n",
    "    print(content)\n"
   ]
  },
  {
   "cell_type": "code",
   "execution_count": null,
   "id": "b249cd61",
   "metadata": {},
   "outputs": [],
   "source": []
  }
 ],
 "metadata": {
  "kernelspec": {
   "display_name": "base",
   "language": "python",
   "name": "python3"
  },
  "language_info": {
   "codemirror_mode": {
    "name": "ipython",
    "version": 3
   },
   "file_extension": ".py",
   "mimetype": "text/x-python",
   "name": "python",
   "nbconvert_exporter": "python",
   "pygments_lexer": "ipython3",
   "version": "3.12.7"
  }
 },
 "nbformat": 4,
 "nbformat_minor": 5
}
