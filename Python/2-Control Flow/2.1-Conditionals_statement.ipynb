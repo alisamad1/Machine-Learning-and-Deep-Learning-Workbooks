{
 "cells": [
  {
   "cell_type": "markdown",
   "id": "da30a14b",
   "metadata": {},
   "source": [
    "Conditional Statements"
   ]
  },
  {
   "cell_type": "code",
   "execution_count": 2,
   "id": "303c4638",
   "metadata": {},
   "outputs": [],
   "source": [
    "# we will study about if else , elif statement"
   ]
  },
  {
   "cell_type": "code",
   "execution_count": 6,
   "id": "17435ae8",
   "metadata": {},
   "outputs": [
    {
     "name": "stdout",
     "output_type": "stream",
     "text": [
      "You are able to vote in the election\n"
     ]
    }
   ],
   "source": [
    "age = 19\n",
    "if age>18:\n",
    "    print(\"You are able to vote in the election\")\n",
    "else: \n",
    "    print(\"You are not allowed\")"
   ]
  },
  {
   "cell_type": "code",
   "execution_count": 10,
   "id": "e03d25f3",
   "metadata": {},
   "outputs": [
    {
     "name": "stdout",
     "output_type": "stream",
     "text": [
      "You are cheap\n"
     ]
    }
   ],
   "source": [
    "# we will talk about elif statements\n",
    "fortuner = 20\n",
    "if fortuner > 24:\n",
    "    print(\"You are expensive\")\n",
    "elif fortuner == 24:\n",
    "    print(\"you are average\")\n",
    "else: \n",
    "    print(\"You are cheap\" )"
   ]
  },
  {
   "cell_type": "code",
   "execution_count": 13,
   "id": "e6d73c75",
   "metadata": {},
   "outputs": [
    {
     "name": "stdout",
     "output_type": "stream",
     "text": [
      "You are not greater than 30\n"
     ]
    }
   ],
   "source": [
    "# if we want to talk about the weather the example would be like theis\n",
    "# nested conditional statement\n",
    "age = int(input(\"enter your age: \"))\n",
    "if (age > 30):\n",
    "    if(age > 35):\n",
    "        print(\"You are greater than 35\")\n",
    "    else:\n",
    "        print(\"You are less than 35\")\n",
    "else: \n",
    "    print(\"You are not greater than 30\")"
   ]
  },
  {
   "cell_type": "code",
   "execution_count": 17,
   "id": "6aaae4de",
   "metadata": {},
   "outputs": [
    {
     "name": "stdout",
     "output_type": "stream",
     "text": [
      "it is not a leap year\n"
     ]
    }
   ],
   "source": [
    "#Determine  if a year is a leap year using nested if-else condition\n",
    "year = int(input(\"enter the year: \"))\n",
    "if year % 4 == 0:\n",
    "    if year % 100 == 0:\n",
    "        print(\"It is a leap year\")\n",
    "    else:\n",
    "        print(\"It is not a leap year\")\n",
    "else:\n",
    "    print(\"it is not a leap year\")"
   ]
  },
  {
   "cell_type": "code",
   "execution_count": 23,
   "id": "70397cef",
   "metadata": {},
   "outputs": [
    {
     "name": "stdout",
     "output_type": "stream",
     "text": [
      "it is a leap year\n"
     ]
    }
   ],
   "source": [
    "# Approach 2 for the above question is \n",
    "year = int(input(\"enter the year: \"))\n",
    "if(year % 4 == 0 & year % 100 == 0):\n",
    "    print(\"it is a leap year\")\n",
    "else:\n",
    "    print(\"it is not a leap year\")"
   ]
  },
  {
   "cell_type": "code",
   "execution_count": 24,
   "id": "992b511c",
   "metadata": {},
   "outputs": [],
   "source": [
    "#Assigment\n",
    "# simple calculator program from user input using nested if-else condition\n",
    "#detemrine the ticket price based on age and whether the person is a student or not\n",
    " "
   ]
  },
  {
   "cell_type": "code",
   "execution_count": null,
   "id": "b3788269",
   "metadata": {},
   "outputs": [],
   "source": []
  }
 ],
 "metadata": {
  "kernelspec": {
   "display_name": "base",
   "language": "python",
   "name": "python3"
  },
  "language_info": {
   "codemirror_mode": {
    "name": "ipython",
    "version": 3
   },
   "file_extension": ".py",
   "mimetype": "text/x-python",
   "name": "python",
   "nbconvert_exporter": "python",
   "pygments_lexer": "ipython3",
   "version": "3.12.7"
  }
 },
 "nbformat": 4,
 "nbformat_minor": 5
}
