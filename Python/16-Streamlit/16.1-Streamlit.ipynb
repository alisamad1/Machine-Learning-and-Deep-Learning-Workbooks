{
 "cells": [
  {
   "cell_type": "markdown",
   "id": "c75ed4f6",
   "metadata": {},
   "source": [
    "## Introduction to StreamLlit\n",
    "Streamlit is an open source app framework for Machine Learning and Data Science Projects. It allows you to create beautiful Web Applications for your machine learning and data science projects with simple Python Scripts\n"
   ]
  },
  {
   "cell_type": "code",
   "execution_count": null,
   "id": "98e4c905",
   "metadata": {},
   "outputs": [],
   "source": []
  }
 ],
 "metadata": {
  "kernelspec": {
   "display_name": "base",
   "language": "python",
   "name": "python3"
  },
  "language_info": {
   "name": "python",
   "version": "3.12.7"
  }
 },
 "nbformat": 4,
 "nbformat_minor": 5
}
