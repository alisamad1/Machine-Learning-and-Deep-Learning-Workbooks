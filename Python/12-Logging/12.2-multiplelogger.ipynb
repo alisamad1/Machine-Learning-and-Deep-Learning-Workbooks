{
 "cells": [
  {
   "cell_type": "markdown",
   "id": "7ddca9e3",
   "metadata": {},
   "source": [
    "## Logging eith multiple logger\n",
    "You can create multiple loggers for different parts of your application"
   ]
  },
  {
   "cell_type": "code",
   "execution_count": 6,
   "id": "a3b51a9f",
   "metadata": {},
   "outputs": [],
   "source": [
    "import logging\n",
    "## create a logger for modulel\n",
    "logger1 = logging.getLogger(\"module1\")\n",
    "logger1.setLevel(logging.DEBUG)\n",
    "## create a logger for module 2\n",
    "logger2 = logging.getLogger(\"module2\")\n",
    "logger2.setLevel(logging.WARNING)\n",
    "## Configure logging settings\n",
    "logging.basicConfig(\n",
    "    level=logging.DEBUG,\n",
    "    format='%(asctime)s - %(name)s - %(levelname)s - %(message)s',\n",
    "    datefmt='%Y-%m-%d %H:%M:%S'\n",
    ")"
   ]
  },
  {
   "cell_type": "code",
   "execution_count": 7,
   "id": "7ff9a0b3",
   "metadata": {},
   "outputs": [
    {
     "name": "stderr",
     "output_type": "stream",
     "text": [
      "2025-05-07 14:42:41 - module1 - DEBUG - this is debug message for module1\n",
      "2025-05-07 14:42:41 - module2 - WARNING - this is a warning message for module2\n",
      "2025-05-07 14:42:41 - module2 - ERROR - this is an error message\n"
     ]
    }
   ],
   "source": [
    "## log messages with different loggers\n",
    "logger1.debug(\"this is debug message for module1\")\n",
    "logger2.warning(\"this is a warning message for module2\")\n",
    "logger2.error(\"this is an error message\")"
   ]
  },
  {
   "cell_type": "code",
   "execution_count": null,
   "id": "36c351c5",
   "metadata": {},
   "outputs": [],
   "source": []
  }
 ],
 "metadata": {
  "kernelspec": {
   "display_name": "base",
   "language": "python",
   "name": "python3"
  },
  "language_info": {
   "codemirror_mode": {
    "name": "ipython",
    "version": 3
   },
   "file_extension": ".py",
   "mimetype": "text/x-python",
   "name": "python",
   "nbconvert_exporter": "python",
   "pygments_lexer": "ipython3",
   "version": "3.12.7"
  }
 },
 "nbformat": 4,
 "nbformat_minor": 5
}
