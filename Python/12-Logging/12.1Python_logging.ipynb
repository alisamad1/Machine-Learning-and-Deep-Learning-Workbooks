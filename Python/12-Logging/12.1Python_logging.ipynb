{
 "cells": [
  {
   "cell_type": "markdown",
   "id": "96e60ba1",
   "metadata": {},
   "source": [
    "## Python Logging\n",
    "Logging is a crucial aspect of any application, providing a way to track events,errors and operational information. Python;s built-in logging module offers a flexible framework for emitting log messages from python programs.In this lesson, we will cover the basics of logging, including how to configurem logging, log levels, and best practices for using logging in Python Applications."
   ]
  },
  {
   "cell_type": "code",
   "execution_count": 2,
   "id": "3df1160a",
   "metadata": {},
   "outputs": [
    {
     "name": "stderr",
     "output_type": "stream",
     "text": [
      "DEBUG:root:this is a debug message\n",
      "INFO:root:This is an info message\n",
      "WARNING:root:This is a warning message\n",
      "ERROR:root:This is an error message\n",
      "CRITICAL:root:this is a critical message\n"
     ]
    }
   ],
   "source": [
    "import logging\n",
    "## configure the basic logging settings\n",
    "logging.basicConfig(level=logging.DEBUG)\n",
    "## log messages  at different severity levels\n",
    "logging.debug(\"this is a debug message\")\n",
    "logging.info(\"This is an info message\")\n",
    "logging.warning(\"This is a warning message\")\n",
    "logging.error(\"This is an error message\")\n",
    "logging.critical(\"this is a critical message\")"
   ]
  },
  {
   "cell_type": "markdown",
   "id": "181758c1",
   "metadata": {},
   "source": [
    "## Log leveles \n",
    "Pyhtons logging module has several log levels indicating the severity of events. The default levels are:\n",
    "DEBUG:- Detailed Information, typically of interest only when diagnosing problems.\n",
    "INFO:- Confirmation that things are working as expected.\n",
    "WARNINGS:- An indication that something unexpected happend or indicatives of some problem in the near future(e.g. 'disk space low'). This software is still working as expected.\n",
    "ERROR:- Due to a more serious problem, the software has not been able to perform some functions.\n",
    "CRITICAl:- A very serious error, indicating that the program itself may be unable to continue running.\n"
   ]
  },
  {
   "cell_type": "code",
   "execution_count": 3,
   "id": "741faf9a",
   "metadata": {},
   "outputs": [
    {
     "name": "stderr",
     "output_type": "stream",
     "text": [
      "DEBUG:root:this is a debug message\n",
      "INFO:root:This is an info message\n",
      "WARNING:root:This is a warning message\n",
      "ERROR:root:This is an error message\n",
      "CRITICAL:root:this is a critical message\n"
     ]
    }
   ],
   "source": [
    "## configuring the logging\n",
    "logging.basicConfig(\n",
    "    filename='app.log',\n",
    "    filemode='w',\n",
    "    level=logging.DEBUG,\n",
    "    format='%(asctime)s-%(name)s-%(levelname)s-%(message)s',\n",
    "    datefmt= '%Y-%m-%d %H:%M:%S'\n",
    ")\n",
    "## log messages  at different severity levels\n",
    "logging.debug(\"this is a debug message\")\n",
    "logging.info(\"This is an info message\")\n",
    "logging.warning(\"This is a warning message\")\n",
    "logging.error(\"This is an error message\")\n",
    "logging.critical(\"this is a critical message\")"
   ]
  },
  {
   "cell_type": "code",
   "execution_count": null,
   "id": "9698b870",
   "metadata": {},
   "outputs": [],
   "source": []
  }
 ],
 "metadata": {
  "kernelspec": {
   "display_name": "base",
   "language": "python",
   "name": "python3"
  },
  "language_info": {
   "codemirror_mode": {
    "name": "ipython",
    "version": 3
   },
   "file_extension": ".py",
   "mimetype": "text/x-python",
   "name": "python",
   "nbconvert_exporter": "python",
   "pygments_lexer": "ipython3",
   "version": "3.12.7"
  }
 },
 "nbformat": 4,
 "nbformat_minor": 5
}
