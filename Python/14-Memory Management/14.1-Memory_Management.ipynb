{
 "cells": [
  {
   "cell_type": "markdown",
   "id": "0e6289d5",
   "metadata": {},
   "source": [
    "## Python Memory Mamnagement\n",
    "Memory Managamenent in Python involves combination of autonomic garbagae collection, referencing counting, and various internal optimizations to efficiently manage memory allocation and deallocation. Understanding these mechanisms can help developers write more effecient and robust application.\n"
   ]
  },
  {
   "cell_type": "markdown",
   "id": "aa326d3b",
   "metadata": {},
   "source": [
    "## Reference Counting\n",
    "Referenece counting is the primary method uses to manages memory. Each object in a Python maintains a count of references pointing to it. When the references counts drops to zero, the memory occupied by the object is deallocated."
   ]
  },
  {
   "cell_type": "code",
   "execution_count": 1,
   "id": "d8b470b5",
   "metadata": {},
   "outputs": [
    {
     "name": "stdout",
     "output_type": "stream",
     "text": [
      "2\n"
     ]
    }
   ],
   "source": [
    "import sys\n",
    "a = []\n",
    "## 2 (One reference from 'a' and one from getrefcount())\n",
    "print(sys.getrefcount(a))"
   ]
  },
  {
   "cell_type": "code",
   "execution_count": 2,
   "id": "0f842a06",
   "metadata": {},
   "outputs": [
    {
     "name": "stdout",
     "output_type": "stream",
     "text": [
      "3\n"
     ]
    }
   ],
   "source": [
    "b = a\n",
    "print(sys.getrefcount(b))"
   ]
  },
  {
   "cell_type": "code",
   "execution_count": 8,
   "id": "9cb74615",
   "metadata": {},
   "outputs": [
    {
     "name": "stdout",
     "output_type": "stream",
     "text": [
      "2\n"
     ]
    }
   ],
   "source": [
    "\n",
    "print(sys.getrefcount(a))"
   ]
  },
  {
   "cell_type": "markdown",
   "id": "484c903e",
   "metadata": {},
   "source": [
    "### Garabage Collection\n",
    "Python includes a cyclic garbage collector to handle references cycle. Reference cycle occurs when object reference each other, preventing their references counts from reaching zero."
   ]
  },
  {
   "cell_type": "code",
   "execution_count": 10,
   "id": "28ccd2df",
   "metadata": {},
   "outputs": [],
   "source": [
    "import gc \n",
    "gc.enable()"
   ]
  },
  {
   "cell_type": "code",
   "execution_count": 11,
   "id": "ef477445",
   "metadata": {},
   "outputs": [],
   "source": [
    "gc.disable()"
   ]
  },
  {
   "cell_type": "code",
   "execution_count": 12,
   "id": "976c1d89",
   "metadata": {},
   "outputs": [
    {
     "data": {
      "text/plain": [
       "2456"
      ]
     },
     "execution_count": 12,
     "metadata": {},
     "output_type": "execute_result"
    }
   ],
   "source": [
    "gc.collect()"
   ]
  },
  {
   "cell_type": "code",
   "execution_count": 13,
   "id": "026f52b0",
   "metadata": {},
   "outputs": [
    {
     "name": "stdout",
     "output_type": "stream",
     "text": [
      "[{'collections': 270, 'collected': 2069, 'uncollectable': 0}, {'collections': 24, 'collected': 472, 'uncollectable': 0}, {'collections': 3, 'collected': 2530, 'uncollectable': 0}]\n"
     ]
    }
   ],
   "source": [
    "## get garbage collection stats\n",
    "print(gc.get_stats())"
   ]
  },
  {
   "cell_type": "code",
   "execution_count": 16,
   "id": "4b2c5b0a",
   "metadata": {},
   "outputs": [
    {
     "name": "stdout",
     "output_type": "stream",
     "text": [
      "[]\n"
     ]
    }
   ],
   "source": [
    "## Get Unreachable object\n",
    "print(gc.garbage)"
   ]
  },
  {
   "cell_type": "markdown",
   "id": "871c0dc0",
   "metadata": {},
   "source": [
    "## Memory management best Practices\n",
    "1. Use local Variables: Local varaibles have a shorter lifespan and are freed sooner than global variables \n",
    "2. Avoid Circular References: Circular references can prevent objects from being garbage collected, leading to memory leaks.\n",
    "3. Use Generators: Generators produce one items at a time  and only one keep on item in the memory at a time, making them more memory effecient.  \n",
    "4. Explicitly Delete Objects: Use the del statement to delete variables and object_explicitly.\n",
    "5. Profile Memory Usage : Use Memory profiling tools like tracemalloc and memory_profiler to identify memory leaks and optimize memory usage.\n"
   ]
  },
  {
   "cell_type": "code",
   "execution_count": 29,
   "id": "3894b6a2",
   "metadata": {},
   "outputs": [
    {
     "name": "stdout",
     "output_type": "stream",
     "text": [
      "object obj1 created\n",
      "object obj2 created\n",
      "Object obj1 deleted\n",
      "Object obj2 deleted\n"
     ]
    },
    {
     "data": {
      "text/plain": [
       "9"
      ]
     },
     "execution_count": 29,
     "metadata": {},
     "output_type": "execute_result"
    }
   ],
   "source": [
    "## handling circular references\n",
    "import gc\n",
    "class MYobject:\n",
    "    def __init__(self,name):\n",
    "        self.name = name\n",
    "        print(f\"object {self.name} created\")\n",
    "    def __del__(self):\n",
    "        print(f\"Object {self.name} deleted\")\n",
    "## create an circular reference\n",
    "obj1 = MYobject(\"obj1\")\n",
    "obj2 = MYobject(\"obj2\")\n",
    "obj1.ref = obj2\n",
    "obj2.ref = obj1\n",
    "del obj1\n",
    "del obj2\n",
    "\n",
    "## Manually trigger the garbage collection\n",
    "gc.collect()"
   ]
  },
  {
   "cell_type": "code",
   "execution_count": 27,
   "id": "daf2bc66",
   "metadata": {},
   "outputs": [
    {
     "name": "stdout",
     "output_type": "stream",
     "text": [
      "Collected garabages objects: []\n"
     ]
    }
   ],
   "source": [
    "## print collected garbages\n",
    "print(f'Collected garabages objects: {gc.garbage}')"
   ]
  },
  {
   "cell_type": "code",
   "execution_count": 31,
   "id": "fc6424c6",
   "metadata": {},
   "outputs": [
    {
     "name": "stdout",
     "output_type": "stream",
     "text": [
      "0\n",
      "1\n",
      "2\n",
      "3\n",
      "4\n",
      "5\n",
      "6\n",
      "7\n",
      "8\n",
      "9\n",
      "10\n",
      "11\n"
     ]
    }
   ],
   "source": [
    "## Generators for Memory Effeciency\n",
    "## Generators allow you to produce items at one at a time,using memory effeciency by only keeping one item at a time.\n",
    "def generate_numbers(n):\n",
    "    for i in range(n):\n",
    "        yield i\n",
    "## using the generators \n",
    "for num in generate_numbers(1000):\n",
    "    print(num)\n",
    "    if(num>10):\n",
    "        break"
   ]
  },
  {
   "cell_type": "code",
   "execution_count": 34,
   "id": "9592cd56",
   "metadata": {},
   "outputs": [],
   "source": [
    "## Profiling Memory Usage\n",
    "import tracemalloc\n",
    "def create_list():\n",
    "    return [i for i in range(1000)]\n",
    "def main():\n",
    "    tracemalloc.start()\n",
    "    create_list()\n",
    "    snapshot = tracemalloc.take_snapshot()\n",
    "    top_stats = snapshot.statistics('lineno')\n",
    "    print('[Top 10]')\n",
    "    for stat in top_stats[::]:\n",
    "        print(stat)"
   ]
  },
  {
   "cell_type": "code",
   "execution_count": null,
   "id": "98147298",
   "metadata": {},
   "outputs": [],
   "source": [
    "\n"
   ]
  }
 ],
 "metadata": {
  "kernelspec": {
   "display_name": "base",
   "language": "python",
   "name": "python3"
  },
  "language_info": {
   "codemirror_mode": {
    "name": "ipython",
    "version": 3
   },
   "file_extension": ".py",
   "mimetype": "text/x-python",
   "name": "python",
   "nbconvert_exporter": "python",
   "pygments_lexer": "ipython3",
   "version": "3.12.7"
  }
 },
 "nbformat": 4,
 "nbformat_minor": 5
}
