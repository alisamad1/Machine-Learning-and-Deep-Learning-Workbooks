{
 "cells": [
  {
   "cell_type": "markdown",
   "id": "409c9fe6",
   "metadata": {},
   "source": [
    "## SQL and SQL Lite\n",
    "SQL (Structured Query Language) is a standard language for managing and manipulating relational databases.SQL is a self-contained,serverless, and zero-configuration database engine that is widely used for embedded database systems. In this Lesson we will cover the basics of SQL and SQLite, including creating databases, tables and performing various SQL Operations/\n"
   ]
  },
  {
   "cell_type": "code",
   "execution_count": 4,
   "id": "745b2c01",
   "metadata": {},
   "outputs": [],
   "source": [
    "import sqlite3"
   ]
  },
  {
   "cell_type": "code",
   "execution_count": 5,
   "id": "6ef1829d",
   "metadata": {},
   "outputs": [
    {
     "data": {
      "text/plain": [
       "<sqlite3.Connection at 0x238ec1875b0>"
      ]
     },
     "execution_count": 5,
     "metadata": {},
     "output_type": "execute_result"
    }
   ],
   "source": [
    "## connect to an sqlite database\n",
    "connection = sqlite3.connect('example.db')\n",
    "connection"
   ]
  },
  {
   "cell_type": "code",
   "execution_count": 6,
   "id": "237351a3",
   "metadata": {},
   "outputs": [],
   "source": [
    "## create a cursor object\n",
    "cursor=connection.cursor()"
   ]
  },
  {
   "cell_type": "code",
   "execution_count": null,
   "id": "d46d669b",
   "metadata": {},
   "outputs": [],
   "source": [
    "## create a table\n",
    "cursor.execute(''' \n",
    "Create Table if Not Exists employess(\n",
    "               id Integer Primary Key,\n",
    "               name Tet Not Null,\n",
    "               age Integer,\n",
    "               department text\n",
    "               )\n",
    "''')\n",
    "## commit the changes \n",
    "connection.commit()"
   ]
  },
  {
   "cell_type": "code",
   "execution_count": 10,
   "id": "f5118b85",
   "metadata": {},
   "outputs": [
    {
     "data": {
      "text/plain": [
       "<sqlite3.Cursor at 0x238ec177ac0>"
      ]
     },
     "execution_count": 10,
     "metadata": {},
     "output_type": "execute_result"
    }
   ],
   "source": [
    "cursor.execute(''' \n",
    "Select * from employess\n",
    "''')"
   ]
  },
  {
   "cell_type": "code",
   "execution_count": 19,
   "id": "edf17f7e",
   "metadata": {},
   "outputs": [],
   "source": [
    "## insert the data in sqlite table\n",
    "cursor.execute('''\n",
    "Insert into employess(name, age, department)\n",
    "               values(\"Ali\", 20, \"Data Scientist\")\n",
    "               ''')\n",
    "cursor.execute('''\n",
    "INSERT INTO EMPLOYESS(name, age, department)\n",
    "VALUES(\"John Wallack\", 32, \"Finance\")\n",
    "               ''')\n",
    "cursor.execute('''\n",
    "INSERT INTO EMPLOYESS(name,age,department)\n",
    "VALUES(\"Bruce Wayne\", 30, \"Sales\")\n",
    "''')\n",
    "## commit the changes\n",
    "connection.commit()"
   ]
  },
  {
   "cell_type": "code",
   "execution_count": 20,
   "id": "551119aa",
   "metadata": {},
   "outputs": [
    {
     "name": "stdout",
     "output_type": "stream",
     "text": [
      "(1, 'Ali', 20, 'Data Scientist')\n",
      "(2, 'John Wallack', 32, 'Finance')\n",
      "(3, 'Ali', 20, 'Data Scientist')\n",
      "(4, 'John Wallack', 32, 'Finance')\n",
      "(5, 'Ali', 20, 'Data Scientist')\n",
      "(6, 'John Wallack', 32, 'Finance')\n",
      "(7, 'Ali', 20, 'Data Scientist')\n",
      "(8, 'John Wallack', 32, 'Finance')\n",
      "(9, 'Bruce Wayne', 30, 'Sales')\n"
     ]
    }
   ],
   "source": [
    "cursor.execute(\"Select * from employess\")\n",
    "rows = cursor.fetchall()\n",
    "## print  the queried data\n",
    "for row in rows:\n",
    "    print(row)"
   ]
  },
  {
   "cell_type": "code",
   "execution_count": 21,
   "id": "3cbe4aec",
   "metadata": {},
   "outputs": [
    {
     "data": {
      "text/plain": [
       "<sqlite3.Cursor at 0x238ec177ac0>"
      ]
     },
     "execution_count": 21,
     "metadata": {},
     "output_type": "execute_result"
    }
   ],
   "source": [
    "## update the data in the table\n",
    "cursor.execute('''\n",
    "UPDATE employess\n",
    "Set age = 34\n",
    "where name = \"Ali\"\n",
    "''')"
   ]
  },
  {
   "cell_type": "code",
   "execution_count": 22,
   "id": "c54fb216",
   "metadata": {},
   "outputs": [
    {
     "name": "stdout",
     "output_type": "stream",
     "text": [
      "(1, 'Ali', 34, 'Data Scientist')\n",
      "(2, 'John Wallack', 32, 'Finance')\n",
      "(3, 'Ali', 34, 'Data Scientist')\n",
      "(4, 'John Wallack', 32, 'Finance')\n",
      "(5, 'Ali', 34, 'Data Scientist')\n",
      "(6, 'John Wallack', 32, 'Finance')\n",
      "(7, 'Ali', 34, 'Data Scientist')\n",
      "(8, 'John Wallack', 32, 'Finance')\n",
      "(9, 'Bruce Wayne', 30, 'Sales')\n"
     ]
    }
   ],
   "source": [
    "cursor.execute(\"Select * from employess\")\n",
    "rows = cursor.fetchall()\n",
    "## print  the queried data\n",
    "for row in rows:\n",
    "    print(row)"
   ]
  },
  {
   "cell_type": "code",
   "execution_count": 23,
   "id": "1f2ac004",
   "metadata": {},
   "outputs": [
    {
     "data": {
      "text/plain": [
       "<sqlite3.Cursor at 0x238ec177ac0>"
      ]
     },
     "execution_count": 23,
     "metadata": {},
     "output_type": "execute_result"
    }
   ],
   "source": [
    "## delete the data from the table\n",
    "cursor.execute('''\n",
    "Delete from employess\n",
    "               where name = \"Bruce Wayne\"               \n",
    "''')\n"
   ]
  },
  {
   "cell_type": "code",
   "execution_count": 24,
   "id": "b2165d76",
   "metadata": {},
   "outputs": [
    {
     "name": "stdout",
     "output_type": "stream",
     "text": [
      "(1, 'Ali', 34, 'Data Scientist')\n",
      "(2, 'John Wallack', 32, 'Finance')\n",
      "(3, 'Ali', 34, 'Data Scientist')\n",
      "(4, 'John Wallack', 32, 'Finance')\n",
      "(5, 'Ali', 34, 'Data Scientist')\n",
      "(6, 'John Wallack', 32, 'Finance')\n",
      "(7, 'Ali', 34, 'Data Scientist')\n",
      "(8, 'John Wallack', 32, 'Finance')\n"
     ]
    }
   ],
   "source": [
    "cursor.execute(\"select * from employess\")\n",
    "rows = cursor.fetchall()\n",
    "for row in rows:\n",
    "    print(row)"
   ]
  },
  {
   "cell_type": "code",
   "execution_count": 28,
   "id": "18cf40f1",
   "metadata": {},
   "outputs": [],
   "source": [
    "### Working with sales data\n",
    "connection = sqlite3.connect('sales_data.db')\n",
    "cursor = connection.cursor()\n",
    "## creating a table for sales data\n",
    "cursor.execute('''\n",
    "CREATE TABLE IF NOT EXISTS sales(\n",
    "               id INTEGER PRIMARY KEY,\n",
    "               date TEXT NOT NULL,\n",
    "               product TEXT NOT NULL,\n",
    "               sales INTEGER,\n",
    "               region TEXT\n",
    "            )\n",
    "    ''')\n",
    "## insert data into the sales table\n",
    "sales_data = [\n",
    "    ('2023-01-01', \"Product-1\", 100, 'North'),\n",
    "    ('2023-01-02', \"Product-2\", 200, 'East'),\n",
    "    ('2023-01-03', \"Product-3\", 340, 'West'),\n",
    "    ('2023-01-04', \"Product-4\", 890, 'South')\n",
    "]\n",
    "connection.commit()\n",
    "## by bulk insertion\n",
    "cursor.executemany('''\n",
    "Insert into sales(date, product,Sales, Region)\n",
    "                   values(?,?,?,?)\n",
    "                   ''', sales_data)\n",
    "connection.commit()"
   ]
  },
  {
   "cell_type": "code",
   "execution_count": 31,
   "id": "a9fb2ce8",
   "metadata": {},
   "outputs": [
    {
     "name": "stdout",
     "output_type": "stream",
     "text": [
      "(1, '2023-01-01', 'Product-1', 100, 'North')\n",
      "(2, '2023-01-02', 'Product-2', 200, 'East')\n",
      "(3, '2023-01-03', 'Product-3', 340, 'West')\n",
      "(4, '2023-01-04', 'Product-4', 890, 'South')\n"
     ]
    }
   ],
   "source": [
    "cursor.execute(\"select * from sales\")\n",
    "rows = cursor.fetchall()\n",
    "for row in rows:\n",
    "    print(row)"
   ]
  },
  {
   "cell_type": "code",
   "execution_count": 32,
   "id": "1c1dd4c7",
   "metadata": {},
   "outputs": [],
   "source": [
    "connection.close()"
   ]
  },
  {
   "cell_type": "code",
   "execution_count": 33,
   "id": "7a9c5d56",
   "metadata": {},
   "outputs": [
    {
     "ename": "ProgrammingError",
     "evalue": "Cannot operate on a closed database.",
     "output_type": "error",
     "traceback": [
      "\u001b[1;31m---------------------------------------------------------------------------\u001b[0m",
      "\u001b[1;31mProgrammingError\u001b[0m                          Traceback (most recent call last)",
      "Cell \u001b[1;32mIn[33], line 1\u001b[0m\n\u001b[1;32m----> 1\u001b[0m cursor\u001b[38;5;241m.\u001b[39mconnection()\n",
      "\u001b[1;31mProgrammingError\u001b[0m: Cannot operate on a closed database."
     ]
    }
   ],
   "source": [
    "cursor.connection()"
   ]
  },
  {
   "cell_type": "code",
   "execution_count": null,
   "id": "614ee379",
   "metadata": {},
   "outputs": [],
   "source": []
  }
 ],
 "metadata": {
  "kernelspec": {
   "display_name": "base",
   "language": "python",
   "name": "python3"
  },
  "language_info": {
   "codemirror_mode": {
    "name": "ipython",
    "version": 3
   },
   "file_extension": ".py",
   "mimetype": "text/x-python",
   "name": "python",
   "nbconvert_exporter": "python",
   "pygments_lexer": "ipython3",
   "version": "3.12.7"
  }
 },
 "nbformat": 4,
 "nbformat_minor": 5
}
