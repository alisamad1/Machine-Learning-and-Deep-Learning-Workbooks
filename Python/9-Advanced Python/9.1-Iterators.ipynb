{
 "cells": [
  {
   "cell_type": "markdown",
   "id": "4a604c2d",
   "metadata": {},
   "source": [
    "## Iterators \n",
    "Iterators are advanced python concepts that allow for efficient looping and memory management. Iterators provide a way to access elements of a collection swquentially without exposing the underlying structure."
   ]
  },
  {
   "cell_type": "code",
   "execution_count": 1,
   "id": "479f9a7e",
   "metadata": {},
   "outputs": [
    {
     "name": "stdout",
     "output_type": "stream",
     "text": [
      "1\n",
      "2\n",
      "3\n",
      "4\n",
      "6\n"
     ]
    }
   ],
   "source": [
    "my_list = [1,2,3,4,6]\n",
    "for i in my_list:\n",
    "    print(i)"
   ]
  },
  {
   "cell_type": "code",
   "execution_count": 2,
   "id": "d7e6f8ae",
   "metadata": {},
   "outputs": [
    {
     "data": {
      "text/plain": [
       "list"
      ]
     },
     "execution_count": 2,
     "metadata": {},
     "output_type": "execute_result"
    }
   ],
   "source": [
    "type(my_list)"
   ]
  },
  {
   "cell_type": "code",
   "execution_count": 4,
   "id": "8398adaf",
   "metadata": {},
   "outputs": [
    {
     "name": "stdout",
     "output_type": "stream",
     "text": [
      "[1, 2, 3, 4, 6]\n"
     ]
    }
   ],
   "source": [
    "print(my_list)"
   ]
  },
  {
   "cell_type": "code",
   "execution_count": 6,
   "id": "34a425dc",
   "metadata": {},
   "outputs": [
    {
     "name": "stdout",
     "output_type": "stream",
     "text": [
      "<list_iterator object at 0x000001B9F61E8BB0>\n",
      "<class 'list_iterator'>\n"
     ]
    }
   ],
   "source": [
    "## Iterator\n",
    "iterator = iter(my_list)\n",
    "print(iterator)\n",
    "print(type(iterator))"
   ]
  },
  {
   "cell_type": "code",
   "execution_count": 7,
   "id": "e866fc0d",
   "metadata": {},
   "outputs": [
    {
     "data": {
      "text/plain": [
       "<list_iterator at 0x1b9f61e8bb0>"
      ]
     },
     "execution_count": 7,
     "metadata": {},
     "output_type": "execute_result"
    }
   ],
   "source": [
    "iterator"
   ]
  },
  {
   "cell_type": "code",
   "execution_count": 13,
   "id": "63d1d09d",
   "metadata": {},
   "outputs": [
    {
     "ename": "StopIteration",
     "evalue": "",
     "output_type": "error",
     "traceback": [
      "\u001b[1;31m---------------------------------------------------------------------------\u001b[0m",
      "\u001b[1;31mStopIteration\u001b[0m                             Traceback (most recent call last)",
      "Cell \u001b[1;32mIn[13], line 2\u001b[0m\n\u001b[0;32m      1\u001b[0m \u001b[38;5;66;03m## iterate through all the element we will use function next\u001b[39;00m\n\u001b[1;32m----> 2\u001b[0m \u001b[38;5;28mnext\u001b[39m(iterator)\n",
      "\u001b[1;31mStopIteration\u001b[0m: "
     ]
    }
   ],
   "source": [
    "## iterate through all the element we will use function next\n",
    "next(iterator)"
   ]
  },
  {
   "cell_type": "code",
   "execution_count": 18,
   "id": "60713964",
   "metadata": {},
   "outputs": [],
   "source": [
    "iterator = iter(my_list)"
   ]
  },
  {
   "cell_type": "code",
   "execution_count": 19,
   "id": "62e50ca5",
   "metadata": {},
   "outputs": [],
   "source": [
    "try:\n",
    "    next(iterator)\n",
    "except StopIteration:\n",
    "    print(\"there are no elements in the iterator\")"
   ]
  },
  {
   "cell_type": "code",
   "execution_count": null,
   "id": "b2540b72",
   "metadata": {},
   "outputs": [],
   "source": []
  }
 ],
 "metadata": {
  "kernelspec": {
   "display_name": "base",
   "language": "python",
   "name": "python3"
  },
  "language_info": {
   "codemirror_mode": {
    "name": "ipython",
    "version": 3
   },
   "file_extension": ".py",
   "mimetype": "text/x-python",
   "name": "python",
   "nbconvert_exporter": "python",
   "pygments_lexer": "ipython3",
   "version": "3.12.7"
  }
 },
 "nbformat": 4,
 "nbformat_minor": 5
}
