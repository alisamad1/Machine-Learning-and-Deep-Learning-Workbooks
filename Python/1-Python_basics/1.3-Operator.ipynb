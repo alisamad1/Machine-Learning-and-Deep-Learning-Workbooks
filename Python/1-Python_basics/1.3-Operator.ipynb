{
 "cells": [
  {
   "cell_type": "markdown",
   "id": "77eb2529",
   "metadata": {},
   "source": [
    "DEEP DOWN IN OPERATORS"
   ]
  },
  {
   "cell_type": "markdown",
   "id": "ec40bff4",
   "metadata": {},
   "source": [
    "## Arithmetic Operators\n"
   ]
  },
  {
   "cell_type": "code",
   "execution_count": 2,
   "id": "ffe118e9",
   "metadata": {},
   "outputs": [
    {
     "name": "stdout",
     "output_type": "stream",
     "text": [
      "25\n",
      "150\n",
      "0.6666666666666666\n"
     ]
    }
   ],
   "source": [
    "a = 10\n",
    "b = 15\n",
    "result = a+b\n",
    "product = a*b\n",
    "division = a/b\n",
    "print(result)\n",
    "print(product)\n",
    "print(division)\n"
   ]
  },
  {
   "cell_type": "code",
   "execution_count": 26,
   "id": "f4ba8aaf",
   "metadata": {},
   "outputs": [
    {
     "name": "stdout",
     "output_type": "stream",
     "text": [
      "22\n",
      "2\n",
      "1.2\n",
      "120\n"
     ]
    }
   ],
   "source": [
    "num_1 = int(input(\"Eter the numner 1: \"))\n",
    "num_2 = int(input(\"enter the number 2: \"))\n",
    "add = num_1 + num_2\n",
    "sub = num_1 - num_2\n",
    "div = num_1 / num_2\n",
    "mul = num_1 * num_2\n",
    "print(add)\n",
    "print(sub)\n",
    "print(div)\n",
    "print(mul)"
   ]
  },
  {
   "cell_type": "code",
   "execution_count": 5,
   "id": "ffdd7aa7",
   "metadata": {},
   "outputs": [
    {
     "data": {
      "text/plain": [
       "4"
      ]
     },
     "execution_count": 5,
     "metadata": {},
     "output_type": "execute_result"
    }
   ],
   "source": [
    "21//5"
   ]
  },
  {
   "cell_type": "markdown",
   "id": "6509047c",
   "metadata": {},
   "source": [
    "Comparison Operators"
   ]
  },
  {
   "cell_type": "code",
   "execution_count": 6,
   "id": "3fdda9f3",
   "metadata": {},
   "outputs": [
    {
     "data": {
      "text/plain": [
       "True"
      ]
     },
     "execution_count": 6,
     "metadata": {},
     "output_type": "execute_result"
    }
   ],
   "source": [
    "a = 10\n",
    "b = 10\n",
    "a==b"
   ]
  },
  {
   "cell_type": "code",
   "execution_count": 7,
   "id": "f16c19fe",
   "metadata": {},
   "outputs": [
    {
     "name": "stdout",
     "output_type": "stream",
     "text": [
      "True\n"
     ]
    }
   ],
   "source": [
    "a = 10\n",
    "b = 10\n",
    "print(a==b)"
   ]
  },
  {
   "cell_type": "code",
   "execution_count": 8,
   "id": "aca157b7",
   "metadata": {},
   "outputs": [
    {
     "data": {
      "text/plain": [
       "False"
      ]
     },
     "execution_count": 8,
     "metadata": {},
     "output_type": "execute_result"
    }
   ],
   "source": [
    "str_1 = \"ALi\"\n",
    "str_2 = \"Samad\"\n",
    "str_1 == str_2"
   ]
  },
  {
   "cell_type": "code",
   "execution_count": 9,
   "id": "d300ac35",
   "metadata": {},
   "outputs": [
    {
     "data": {
      "text/plain": [
       "True"
      ]
     },
     "execution_count": 9,
     "metadata": {},
     "output_type": "execute_result"
    }
   ],
   "source": [
    "str_1!=str_2"
   ]
  },
  {
   "cell_type": "code",
   "execution_count": 10,
   "id": "a716204d",
   "metadata": {},
   "outputs": [
    {
     "data": {
      "text/plain": [
       "False"
      ]
     },
     "execution_count": 10,
     "metadata": {},
     "output_type": "execute_result"
    }
   ],
   "source": [
    "str_3 = \"Krish\"\n",
    "str_4 = \"krish\"\n",
    "str_3 == str_4"
   ]
  },
  {
   "cell_type": "code",
   "execution_count": 13,
   "id": "0c0c90f0",
   "metadata": {},
   "outputs": [
    {
     "data": {
      "text/plain": [
       "False"
      ]
     },
     "execution_count": 13,
     "metadata": {},
     "output_type": "execute_result"
    }
   ],
   "source": [
    "num_1 = 45\n",
    "num_2 = 55\n",
    "(num_1 <= num_2) & (num_1 > num_2)"
   ]
  },
  {
   "cell_type": "code",
   "execution_count": 14,
   "id": "f2aba361",
   "metadata": {},
   "outputs": [
    {
     "name": "stdout",
     "output_type": "stream",
     "text": [
      "True\n"
     ]
    }
   ],
   "source": [
    "num_1 = 21\n",
    "num_2 = 13\n",
    "print(num_1 != num_2)"
   ]
  },
  {
   "cell_type": "markdown",
   "id": "53d401fb",
   "metadata": {},
   "source": [
    "Logical Operators"
   ]
  },
  {
   "cell_type": "code",
   "execution_count": 17,
   "id": "ea7e0b0b",
   "metadata": {},
   "outputs": [],
   "source": [
    "# And, Or ,Not"
   ]
  },
  {
   "cell_type": "code",
   "execution_count": 22,
   "id": "88de99b9",
   "metadata": {},
   "outputs": [
    {
     "name": "stdout",
     "output_type": "stream",
     "text": [
      "True\n"
     ]
    }
   ],
   "source": [
    "#And\n",
    "x = True\n",
    "y = True\n",
    "result = x and y\n",
    "print(result)"
   ]
  },
  {
   "cell_type": "code",
   "execution_count": 23,
   "id": "8d39543e",
   "metadata": {},
   "outputs": [
    {
     "name": "stdout",
     "output_type": "stream",
     "text": [
      "True\n"
     ]
    }
   ],
   "source": [
    "#OR \n",
    "X = True\n",
    "Y = False\n",
    "result = X or Y\n",
    "print(result)"
   ]
  },
  {
   "cell_type": "code",
   "execution_count": 24,
   "id": "107c33d0",
   "metadata": {},
   "outputs": [
    {
     "name": "stdout",
     "output_type": "stream",
     "text": [
      "False\n"
     ]
    }
   ],
   "source": [
    "#Not\n",
    "X = True\n",
    "result = not X\n",
    "print(result)"
   ]
  },
  {
   "cell_type": "code",
   "execution_count": 25,
   "id": "c9ad0ebd",
   "metadata": {},
   "outputs": [
    {
     "ename": "TypeError",
     "evalue": "unsupported operand type(s) for -: 'str' and 'str'",
     "output_type": "error",
     "traceback": [
      "\u001b[1;31m---------------------------------------------------------------------------\u001b[0m",
      "\u001b[1;31mTypeError\u001b[0m                                 Traceback (most recent call last)",
      "Cell \u001b[1;32mIn[25], line 5\u001b[0m\n\u001b[0;32m      3\u001b[0m num_2 \u001b[38;5;241m=\u001b[39m \u001b[38;5;28minput\u001b[39m(\u001b[38;5;124m\"\u001b[39m\u001b[38;5;124menter the number 2: \u001b[39m\u001b[38;5;124m\"\u001b[39m)\n\u001b[0;32m      4\u001b[0m addition \u001b[38;5;241m=\u001b[39m num_1 \u001b[38;5;241m+\u001b[39m num_2\n\u001b[1;32m----> 5\u001b[0m subtraction \u001b[38;5;241m=\u001b[39m num_1 \u001b[38;5;241m-\u001b[39m num_2\n\u001b[0;32m      6\u001b[0m multiplication \u001b[38;5;241m=\u001b[39m num_1 \u001b[38;5;241m*\u001b[39m num_2\n\u001b[0;32m      7\u001b[0m division \u001b[38;5;241m=\u001b[39m num_1 \u001b[38;5;241m/\u001b[39m num_2\n",
      "\u001b[1;31mTypeError\u001b[0m: unsupported operand type(s) for -: 'str' and 'str'"
     ]
    }
   ],
   "source": [
    "# write a code for simple calculator using Python\n",
    "num_1 = input(\"enter the number 1 :\")\n",
    "num_2 = input(\"enter the number 2: \")\n",
    "addition = num_1 + num_2\n",
    "subtraction = num_1 - num_2\n",
    "multiplication = num_1 * num_2\n",
    "division = num_1 / num_2\n",
    "Floor_division  = num_1 // num_2\n",
    "exponent  = num_1 ** num_2\n",
    "print(addition)\n",
    "print(subtraction)\n",
    "print(multiplication)\n",
    "print(division)\n",
    "print(Floor_division)\n",
    "print(exponent)"
   ]
  },
  {
   "cell_type": "code",
   "execution_count": null,
   "id": "afa6c535",
   "metadata": {},
   "outputs": [],
   "source": []
  }
 ],
 "metadata": {
  "kernelspec": {
   "display_name": "base",
   "language": "python",
   "name": "python3"
  },
  "language_info": {
   "codemirror_mode": {
    "name": "ipython",
    "version": 3
   },
   "file_extension": ".py",
   "mimetype": "text/x-python",
   "name": "python",
   "nbconvert_exporter": "python",
   "pygments_lexer": "ipython3",
   "version": "3.12.7"
  }
 },
 "nbformat": 4,
 "nbformat_minor": 5
}
