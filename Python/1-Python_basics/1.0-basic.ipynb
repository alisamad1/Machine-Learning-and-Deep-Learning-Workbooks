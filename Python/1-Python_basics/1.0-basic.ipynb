{
 "cells": [
  {
   "cell_type": "markdown",
   "id": "653b2edf",
   "metadata": {},
   "source": [
    "Single and Multi Line comments"
   ]
  },
  {
   "cell_type": "code",
   "execution_count": null,
   "id": "fdf4eb25",
   "metadata": {},
   "outputs": [],
   "source": [
    "##Basic Syntax Rules in Python\n",
    "##Case Sensitivity - Python is case sensitive"
   ]
  },
  {
   "cell_type": "code",
   "execution_count": 2,
   "id": "694d98ca",
   "metadata": {},
   "outputs": [
    {
     "data": {
      "text/plain": [
       "'this is example of multiple lines\\nhere we can comment out multiple lines'"
      ]
     },
     "execution_count": 2,
     "metadata": {},
     "output_type": "execute_result"
    }
   ],
   "source": [
    "'''this is example of multiple lines\n",
    "here we can comment out multiple lines'''"
   ]
  },
  {
   "cell_type": "markdown",
   "id": "07c3f060",
   "metadata": {},
   "source": [
    "Case Sensitivity"
   ]
  },
  {
   "cell_type": "code",
   "execution_count": 4,
   "id": "e60ab8ce",
   "metadata": {},
   "outputs": [
    {
     "name": "stdout",
     "output_type": "stream",
     "text": [
      "Ali\n",
      "Samad\n"
     ]
    }
   ],
   "source": [
    "name = \"Ali\"\n",
    "Name = \"Samad\"\n",
    "print(name)\n",
    "print(Name)"
   ]
  },
  {
   "cell_type": "code",
   "execution_count": 6,
   "id": "9ebe38ff",
   "metadata": {},
   "outputs": [],
   "source": [
    "## Indentation "
   ]
  },
  {
   "cell_type": "markdown",
   "id": "9ae3cdb6",
   "metadata": {},
   "source": [
    "Python uses indendation to define blocks of code. Consistent use of spaces (commonly 4) or a tab is required."
   ]
  },
  {
   "cell_type": "code",
   "execution_count": 8,
   "id": "4ab6a25c",
   "metadata": {},
   "outputs": [
    {
     "name": "stdout",
     "output_type": "stream",
     "text": [
      "45\n"
     ]
    }
   ],
   "source": [
    "age = 45\n",
    "if age > 43:\n",
    "    print(age)\n",
    "else:\n",
    "    print(\"you are not great than 43\")"
   ]
  },
  {
   "cell_type": "code",
   "execution_count": null,
   "id": "15899caf",
   "metadata": {},
   "outputs": [
    {
     "name": "stdout",
     "output_type": "stream",
     "text": [
      "43\n"
     ]
    }
   ],
   "source": [
    "total = 1+2+3+4+5+6+7 + \\ # to continue a statement to a new line\n",
    "4+5+6\n",
    "print(total)"
   ]
  },
  {
   "cell_type": "code",
   "execution_count": 10,
   "id": "8c28139a",
   "metadata": {},
   "outputs": [
    {
     "name": "stdout",
     "output_type": "stream",
     "text": [
      "15\n"
     ]
    }
   ],
   "source": [
    "# multiple statements in a single line\n",
    "x = 5 ; y = 10; z = x+y\n",
    "print(z)"
   ]
  },
  {
   "cell_type": "code",
   "execution_count": 13,
   "id": "6bf96a44",
   "metadata": {},
   "outputs": [
    {
     "data": {
      "text/plain": [
       "str"
      ]
     },
     "execution_count": 13,
     "metadata": {},
     "output_type": "execute_result"
    }
   ],
   "source": [
    "#understanding semantics in python\n",
    "# variable assignment\n",
    "age = 43 # kernel will automatically understand the datatype\n",
    "name = \"krish\"\n",
    "type(age)\n",
    "type(name)"
   ]
  },
  {
   "cell_type": "code",
   "execution_count": 17,
   "id": "79865f5d",
   "metadata": {},
   "outputs": [
    {
     "name": "stdout",
     "output_type": "stream",
     "text": [
      "<class 'int'>\n",
      "<class 'str'>\n"
     ]
    }
   ],
   "source": [
    "#type inference\n",
    "variable = 10\n",
    "print(type(variable))\n",
    "variable = \"krish\"\n",
    "print(type(variable))"
   ]
  },
  {
   "cell_type": "code",
   "execution_count": 19,
   "id": "9808658b",
   "metadata": {},
   "outputs": [
    {
     "name": "stdout",
     "output_type": "stream",
     "text": [
      "you are an adult\n"
     ]
    }
   ],
   "source": [
    "age = 32\n",
    "if age > 30:\n",
    "    print(\"you are an adult\")\n",
    "else:\n",
    "    print(\"you are minor\")"
   ]
  },
  {
   "cell_type": "code",
   "execution_count": 23,
   "id": "e3baa093",
   "metadata": {},
   "outputs": [
    {
     "name": "stdout",
     "output_type": "stream",
     "text": [
      "correct indentation\n",
      "this will print\n",
      "outside the if block\n"
     ]
    }
   ],
   "source": [
    "#code examples of indentation\n",
    "if True:\n",
    "    print(\"correct indentation\")\n",
    "    if False:\n",
    "        print(\"incorrect indentation\")\n",
    "    print(\"this will print\")\n",
    "print(\"outside the if block\")"
   ]
  },
  {
   "cell_type": "code",
   "execution_count": null,
   "id": "ec4372fe",
   "metadata": {},
   "outputs": [],
   "source": []
  }
 ],
 "metadata": {
  "kernelspec": {
   "display_name": "base",
   "language": "python",
   "name": "python3"
  },
  "language_info": {
   "codemirror_mode": {
    "name": "ipython",
    "version": 3
   },
   "file_extension": ".py",
   "mimetype": "text/x-python",
   "name": "python",
   "nbconvert_exporter": "python",
   "pygments_lexer": "ipython3",
   "version": "3.12.7"
  }
 },
 "nbformat": 4,
 "nbformat_minor": 5
}
