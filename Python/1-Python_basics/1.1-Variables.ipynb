{
 "cells": [
  {
   "cell_type": "markdown",
   "id": "4d168928",
   "metadata": {},
   "source": [
    "Variables"
   ]
  },
  {
   "cell_type": "markdown",
   "id": "1a9fb959",
   "metadata": {},
   "source": [
    "Variables are fundamental elements in programming used to store data that can be referenced and manipulated in a program. In Python, variables are created when you assign a value to them, and they do not need explicit declaration. Here are some key points about variables in Python."
   ]
  },
  {
   "cell_type": "code",
   "execution_count": 1,
   "id": "cc21d3dd",
   "metadata": {},
   "outputs": [],
   "source": [
    "a = 100"
   ]
  },
  {
   "cell_type": "code",
   "execution_count": 3,
   "id": "d03110a9",
   "metadata": {},
   "outputs": [
    {
     "name": "stdout",
     "output_type": "stream",
     "text": [
      "Age: 20\n",
      "Height: 5.11\n",
      "Name ali\n"
     ]
    }
   ],
   "source": [
    "#declaring and assigninng variables\n",
    "age = 20\n",
    "height = 5.11\n",
    "name = \"ali\"\n",
    "is_students = True\n",
    "print(\"Age:\",age)\n",
    "print(\"Height:\",height)\n",
    "print(\"Name\",name)"
   ]
  },
  {
   "cell_type": "code",
   "execution_count": 6,
   "id": "17655c8a",
   "metadata": {},
   "outputs": [
    {
     "name": "stdout",
     "output_type": "stream",
     "text": [
      "Ali Samad\n"
     ]
    }
   ],
   "source": [
    "# Naming Convention\n",
    "# Variable Name should be descriptive \n",
    "# they must always start with a letter or underscore, and can only contain letters, numbers, and underscores\n",
    "#variables names are case sensitive\n",
    "\n",
    "#valid variables name\n",
    "first_name = \"Ali\"\n",
    "Last_name = \"Samad\"\n",
    "print(first_name + \" \" + Last_name)"
   ]
  },
  {
   "cell_type": "code",
   "execution_count": 7,
   "id": "609f1761",
   "metadata": {},
   "outputs": [
    {
     "name": "stdout",
     "output_type": "stream",
     "text": [
      "Ali\n"
     ]
    }
   ],
   "source": [
    "#understanding variable types\n",
    "#pythom is dynamically typed, type of a variable is determined at runtime\n",
    "age = 20\n",
    "height = 5.10\n",
    "name = \"Ali\"\n",
    "print(name)\n"
   ]
  },
  {
   "cell_type": "code",
   "execution_count": 9,
   "id": "a683bc15",
   "metadata": {},
   "outputs": [
    {
     "name": "stdout",
     "output_type": "stream",
     "text": [
      "<class 'int'>\n",
      "25\n",
      "<class 'str'>\n"
     ]
    }
   ],
   "source": [
    "age = 25\n",
    "print(type(age))\n",
    "age_Str = str(age)\n",
    "print(age_Str)\n",
    "print(type(age_Str))"
   ]
  },
  {
   "cell_type": "code",
   "execution_count": 11,
   "id": "46139190",
   "metadata": {},
   "outputs": [
    {
     "name": "stdout",
     "output_type": "stream",
     "text": [
      "<class 'int'>\n"
     ]
    }
   ],
   "source": [
    "age = '25'\n",
    "print(type(int(age)))"
   ]
  },
  {
   "cell_type": "code",
   "execution_count": 12,
   "id": "0712e305",
   "metadata": {},
   "outputs": [
    {
     "data": {
      "text/plain": [
       "float"
      ]
     },
     "execution_count": 12,
     "metadata": {},
     "output_type": "execute_result"
    }
   ],
   "source": [
    "height = 5.1\n",
    "type(height)"
   ]
  },
  {
   "cell_type": "code",
   "execution_count": 13,
   "id": "c72b0cbf",
   "metadata": {},
   "outputs": [
    {
     "data": {
      "text/plain": [
       "5.0"
      ]
     },
     "execution_count": 13,
     "metadata": {},
     "output_type": "execute_result"
    }
   ],
   "source": [
    "float(int(height))"
   ]
  },
  {
   "cell_type": "code",
   "execution_count": 16,
   "id": "6a83dfc7",
   "metadata": {},
   "outputs": [
    {
     "name": "stdout",
     "output_type": "stream",
     "text": [
      "10 <class 'int'>\n",
      "Hello World <class 'str'>\n",
      "3.14 <class 'float'>\n"
     ]
    }
   ],
   "source": [
    "#Dynamic Typing\n",
    "#python allows the type of variable as the program executes\n",
    "var = 10\n",
    "print(var,type(var))\n",
    "var = \"Hello World\"\n",
    "print(var,type(var))\n",
    "var = 3.14\n",
    "print(var,type(var))"
   ]
  },
  {
   "cell_type": "code",
   "execution_count": 21,
   "id": "b6ae6cea",
   "metadata": {},
   "outputs": [
    {
     "name": "stdout",
     "output_type": "stream",
     "text": [
      "23 <class 'str'>\n"
     ]
    }
   ],
   "source": [
    "#input\n",
    "age = input(\"what is the age: \")\n",
    "print(age,type(age))"
   ]
  },
  {
   "cell_type": "code",
   "execution_count": 23,
   "id": "64932377",
   "metadata": {},
   "outputs": [
    {
     "name": "stdout",
     "output_type": "stream",
     "text": [
      "sum:  14.0\n",
      "difference 10.0\n",
      "product  24.0\n",
      "divide 6.0\n"
     ]
    }
   ],
   "source": [
    "# write a python program to make a simple calculator\n",
    "num_1 = float(input(\"enter the first number: \"))\n",
    "num_2 = float(input(\"enter the second number: \"))\n",
    "sum = num_1 + num_2\n",
    "diff = num_1 - num_2\n",
    "product = num_1 * num_2\n",
    "divide = num_1 / num_2\n",
    "print(\"sum: \", sum)\n",
    "print(\"difference\", diff)\n",
    "print(\"product \", product)\n",
    "print(\"divide\", divide)\n"
   ]
  },
  {
   "cell_type": "code",
   "execution_count": null,
   "id": "90e8d1ff",
   "metadata": {},
   "outputs": [],
   "source": []
  }
 ],
 "metadata": {
  "kernelspec": {
   "display_name": "base",
   "language": "python",
   "name": "python3"
  },
  "language_info": {
   "codemirror_mode": {
    "name": "ipython",
    "version": 3
   },
   "file_extension": ".py",
   "mimetype": "text/x-python",
   "name": "python",
   "nbconvert_exporter": "python",
   "pygments_lexer": "ipython3",
   "version": "3.12.7"
  }
 },
 "nbformat": 4,
 "nbformat_minor": 5
}
