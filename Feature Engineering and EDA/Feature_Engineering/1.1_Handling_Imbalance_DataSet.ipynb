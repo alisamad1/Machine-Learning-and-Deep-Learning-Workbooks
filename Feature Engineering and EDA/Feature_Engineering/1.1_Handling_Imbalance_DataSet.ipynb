{
 "cells": [
  {
   "cell_type": "markdown",
   "id": "2e715b17",
   "metadata": {},
   "source": [
    "## Handling Imbalance Dataset\n",
    "1. Up Scaling\n",
    "2. Down Scaling"
   ]
  },
  {
   "cell_type": "code",
   "execution_count": 2,
   "id": "0ee6ceb4",
   "metadata": {},
   "outputs": [],
   "source": [
    "import numpy as np\n",
    "import pandas as pd\n",
    "## set the random seed for reducability\n",
    "np.random.seed(123)\n",
    "n_samples = 1000\n",
    "class_0_ratio = 0.9\n",
    "n_class_0 = int(n_samples * class_0_ratio)\n",
    "n_class_1 = n_samples - n_class_0"
   ]
  },
  {
   "cell_type": "code",
   "execution_count": 3,
   "id": "f3467df0",
   "metadata": {},
   "outputs": [
    {
     "data": {
      "text/plain": [
       "(900, 100)"
      ]
     },
     "execution_count": 3,
     "metadata": {},
     "output_type": "execute_result"
    }
   ],
   "source": [
    "n_class_0, n_class_1"
   ]
  },
  {
   "cell_type": "code",
   "execution_count": 5,
   "id": "21e2156c",
   "metadata": {},
   "outputs": [],
   "source": [
    "## create my dat frame with imbalanced dataset\n",
    "class_0 = pd.DataFrame({\n",
    "    'feature_1' : np.random.normal(loc = 0, scale = 1, size = n_class_0),\n",
    "    'feature_2' : np.random.normal(loc = 0, scale = 1, size = n_class_0),\n",
    "    'target' : np.zeros(n_class_0)\n",
    "})\n",
    "class_1 = pd.DataFrame({\n",
    "    'feature_1' : np.random.normal(loc = 0, scale = 1,size = n_class_1),\n",
    "    'feature_2' : np.random.normal(loc = 0, scale = 1, size = n_class_1),\n",
    "    'target' : np.ones(n_class_1)\n",
    "})"
   ]
  },
  {
   "cell_type": "code",
   "execution_count": 8,
   "id": "4b6ec0a7",
   "metadata": {},
   "outputs": [
    {
     "data": {
      "text/html": [
       "<div>\n",
       "<style scoped>\n",
       "    .dataframe tbody tr th:only-of-type {\n",
       "        vertical-align: middle;\n",
       "    }\n",
       "\n",
       "    .dataframe tbody tr th {\n",
       "        vertical-align: top;\n",
       "    }\n",
       "\n",
       "    .dataframe thead th {\n",
       "        text-align: right;\n",
       "    }\n",
       "</style>\n",
       "<table border=\"1\" class=\"dataframe\">\n",
       "  <thead>\n",
       "    <tr style=\"text-align: right;\">\n",
       "      <th></th>\n",
       "      <th>feature_1</th>\n",
       "      <th>feature_2</th>\n",
       "      <th>target</th>\n",
       "    </tr>\n",
       "  </thead>\n",
       "  <tbody>\n",
       "    <tr>\n",
       "      <th>0</th>\n",
       "      <td>0.139033</td>\n",
       "      <td>-1.298881</td>\n",
       "      <td>0.0</td>\n",
       "    </tr>\n",
       "    <tr>\n",
       "      <th>1</th>\n",
       "      <td>0.025577</td>\n",
       "      <td>-0.764578</td>\n",
       "      <td>0.0</td>\n",
       "    </tr>\n",
       "    <tr>\n",
       "      <th>2</th>\n",
       "      <td>-0.196443</td>\n",
       "      <td>-0.822786</td>\n",
       "      <td>0.0</td>\n",
       "    </tr>\n",
       "    <tr>\n",
       "      <th>3</th>\n",
       "      <td>1.312255</td>\n",
       "      <td>-1.120508</td>\n",
       "      <td>0.0</td>\n",
       "    </tr>\n",
       "    <tr>\n",
       "      <th>4</th>\n",
       "      <td>1.187417</td>\n",
       "      <td>2.119519</td>\n",
       "      <td>0.0</td>\n",
       "    </tr>\n",
       "  </tbody>\n",
       "</table>\n",
       "</div>"
      ],
      "text/plain": [
       "   feature_1  feature_2  target\n",
       "0   0.139033  -1.298881     0.0\n",
       "1   0.025577  -0.764578     0.0\n",
       "2  -0.196443  -0.822786     0.0\n",
       "3   1.312255  -1.120508     0.0\n",
       "4   1.187417   2.119519     0.0"
      ]
     },
     "execution_count": 8,
     "metadata": {},
     "output_type": "execute_result"
    }
   ],
   "source": [
    "df=pd.concat([class_0, class_1]).reset_index(drop=True)\n",
    "df.head()"
   ]
  },
  {
   "cell_type": "code",
   "execution_count": 9,
   "id": "5c3b0f49",
   "metadata": {},
   "outputs": [
    {
     "data": {
      "text/html": [
       "<div>\n",
       "<style scoped>\n",
       "    .dataframe tbody tr th:only-of-type {\n",
       "        vertical-align: middle;\n",
       "    }\n",
       "\n",
       "    .dataframe tbody tr th {\n",
       "        vertical-align: top;\n",
       "    }\n",
       "\n",
       "    .dataframe thead th {\n",
       "        text-align: right;\n",
       "    }\n",
       "</style>\n",
       "<table border=\"1\" class=\"dataframe\">\n",
       "  <thead>\n",
       "    <tr style=\"text-align: right;\">\n",
       "      <th></th>\n",
       "      <th>feature_1</th>\n",
       "      <th>feature_2</th>\n",
       "      <th>target</th>\n",
       "    </tr>\n",
       "  </thead>\n",
       "  <tbody>\n",
       "    <tr>\n",
       "      <th>995</th>\n",
       "      <td>2.540514</td>\n",
       "      <td>0.677156</td>\n",
       "      <td>1.0</td>\n",
       "    </tr>\n",
       "    <tr>\n",
       "      <th>996</th>\n",
       "      <td>-0.082706</td>\n",
       "      <td>0.963404</td>\n",
       "      <td>1.0</td>\n",
       "    </tr>\n",
       "    <tr>\n",
       "      <th>997</th>\n",
       "      <td>0.444621</td>\n",
       "      <td>-0.378524</td>\n",
       "      <td>1.0</td>\n",
       "    </tr>\n",
       "    <tr>\n",
       "      <th>998</th>\n",
       "      <td>1.896404</td>\n",
       "      <td>1.429559</td>\n",
       "      <td>1.0</td>\n",
       "    </tr>\n",
       "    <tr>\n",
       "      <th>999</th>\n",
       "      <td>0.237581</td>\n",
       "      <td>1.532273</td>\n",
       "      <td>1.0</td>\n",
       "    </tr>\n",
       "  </tbody>\n",
       "</table>\n",
       "</div>"
      ],
      "text/plain": [
       "     feature_1  feature_2  target\n",
       "995   2.540514   0.677156     1.0\n",
       "996  -0.082706   0.963404     1.0\n",
       "997   0.444621  -0.378524     1.0\n",
       "998   1.896404   1.429559     1.0\n",
       "999   0.237581   1.532273     1.0"
      ]
     },
     "execution_count": 9,
     "metadata": {},
     "output_type": "execute_result"
    }
   ],
   "source": [
    "df.tail()"
   ]
  },
  {
   "cell_type": "code",
   "execution_count": 10,
   "id": "7239a3c4",
   "metadata": {},
   "outputs": [
    {
     "data": {
      "text/plain": [
       "target\n",
       "0.0    900\n",
       "1.0    100\n",
       "Name: count, dtype: int64"
      ]
     },
     "execution_count": 10,
     "metadata": {},
     "output_type": "execute_result"
    }
   ],
   "source": [
    "df['target'].value_counts()"
   ]
  },
  {
   "cell_type": "code",
   "execution_count": 11,
   "id": "032f6fc2",
   "metadata": {},
   "outputs": [],
   "source": [
    "## Upsampling\n",
    "df_minority = df[df['target'] == 1]\n",
    "df_majority = df[df['target'] ==  0]"
   ]
  },
  {
   "cell_type": "code",
   "execution_count": 15,
   "id": "e41fa19a",
   "metadata": {},
   "outputs": [],
   "source": [
    "from sklearn.utils import resample\n",
    "df_majority_upsample = resample(df_majority, replace=True, n_samples=len(df_majority), random_state=42)    "
   ]
  },
  {
   "cell_type": "code",
   "execution_count": 16,
   "id": "0cd2075b",
   "metadata": {},
   "outputs": [
    {
     "data": {
      "text/plain": [
       "(900, 3)"
      ]
     },
     "execution_count": 16,
     "metadata": {},
     "output_type": "execute_result"
    }
   ],
   "source": [
    "df_majority_upsample.shape"
   ]
  },
  {
   "cell_type": "code",
   "execution_count": 17,
   "id": "46c94c7e",
   "metadata": {},
   "outputs": [],
   "source": [
    "df_minority_upsample = resample(df_minority, replace=True, n_samples=len(df_minority), random_state=42)"
   ]
  },
  {
   "cell_type": "code",
   "execution_count": 18,
   "id": "0f0311fd",
   "metadata": {},
   "outputs": [
    {
     "data": {
      "text/plain": [
       "(100, 3)"
      ]
     },
     "execution_count": 18,
     "metadata": {},
     "output_type": "execute_result"
    }
   ],
   "source": [
    "df_minority_upsample.shape"
   ]
  },
  {
   "cell_type": "code",
   "execution_count": null,
   "id": "c0037506",
   "metadata": {},
   "outputs": [],
   "source": []
  }
 ],
 "metadata": {
  "kernelspec": {
   "display_name": "base",
   "language": "python",
   "name": "python3"
  },
  "language_info": {
   "codemirror_mode": {
    "name": "ipython",
    "version": 3
   },
   "file_extension": ".py",
   "mimetype": "text/x-python",
   "name": "python",
   "nbconvert_exporter": "python",
   "pygments_lexer": "ipython3",
   "version": "3.12.7"
  }
 },
 "nbformat": 4,
 "nbformat_minor": 5
}
